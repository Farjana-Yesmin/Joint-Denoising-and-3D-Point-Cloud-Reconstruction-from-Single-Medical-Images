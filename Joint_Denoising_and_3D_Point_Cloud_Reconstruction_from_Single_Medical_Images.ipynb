{
  "nbformat": 4,
  "nbformat_minor": 0,
  "metadata": {
    "colab": {
      "provenance": []
    },
    "kernelspec": {
      "name": "python3",
      "display_name": "Python 3"
    },
    "language_info": {
      "name": "python"
    }
  },
  "cells": [
    {
      "cell_type": "markdown",
      "source": [
        "# Step 1: Environment Setup"
      ],
      "metadata": {
        "id": "8jTqPEtb6MsW"
      }
    },
    {
      "cell_type": "code",
      "execution_count": null,
      "metadata": {
        "colab": {
          "base_uri": "https://localhost:8080/"
        },
        "id": "yfHxjqaw5DPP",
        "outputId": "946ea74a-c5e8-4f91-f542-cd98187e76ad"
      },
      "outputs": [
        {
          "output_type": "stream",
          "name": "stdout",
          "text": [
            "Requirement already satisfied: torch in /usr/local/lib/python3.10/dist-packages (2.5.1+cu121)\n",
            "Requirement already satisfied: torchvision in /usr/local/lib/python3.10/dist-packages (0.20.1+cu121)\n",
            "Requirement already satisfied: transformers in /usr/local/lib/python3.10/dist-packages (4.46.3)\n",
            "Requirement already satisfied: numpy in /usr/local/lib/python3.10/dist-packages (1.26.4)\n",
            "Requirement already satisfied: matplotlib in /usr/local/lib/python3.10/dist-packages (3.8.0)\n",
            "Requirement already satisfied: scipy in /usr/local/lib/python3.10/dist-packages (1.13.1)\n",
            "Requirement already satisfied: scikit-learn in /usr/local/lib/python3.10/dist-packages (1.5.2)\n",
            "Requirement already satisfied: filelock in /usr/local/lib/python3.10/dist-packages (from torch) (3.16.1)\n",
            "Requirement already satisfied: typing-extensions>=4.8.0 in /usr/local/lib/python3.10/dist-packages (from torch) (4.12.2)\n",
            "Requirement already satisfied: networkx in /usr/local/lib/python3.10/dist-packages (from torch) (3.4.2)\n",
            "Requirement already satisfied: jinja2 in /usr/local/lib/python3.10/dist-packages (from torch) (3.1.4)\n",
            "Requirement already satisfied: fsspec in /usr/local/lib/python3.10/dist-packages (from torch) (2024.10.0)\n",
            "Requirement already satisfied: sympy==1.13.1 in /usr/local/lib/python3.10/dist-packages (from torch) (1.13.1)\n",
            "Requirement already satisfied: mpmath<1.4,>=1.1.0 in /usr/local/lib/python3.10/dist-packages (from sympy==1.13.1->torch) (1.3.0)\n",
            "Requirement already satisfied: pillow!=8.3.*,>=5.3.0 in /usr/local/lib/python3.10/dist-packages (from torchvision) (11.0.0)\n",
            "Requirement already satisfied: huggingface-hub<1.0,>=0.23.2 in /usr/local/lib/python3.10/dist-packages (from transformers) (0.26.5)\n",
            "Requirement already satisfied: packaging>=20.0 in /usr/local/lib/python3.10/dist-packages (from transformers) (24.2)\n",
            "Requirement already satisfied: pyyaml>=5.1 in /usr/local/lib/python3.10/dist-packages (from transformers) (6.0.2)\n",
            "Requirement already satisfied: regex!=2019.12.17 in /usr/local/lib/python3.10/dist-packages (from transformers) (2024.9.11)\n",
            "Requirement already satisfied: requests in /usr/local/lib/python3.10/dist-packages (from transformers) (2.32.3)\n",
            "Requirement already satisfied: tokenizers<0.21,>=0.20 in /usr/local/lib/python3.10/dist-packages (from transformers) (0.20.3)\n",
            "Requirement already satisfied: safetensors>=0.4.1 in /usr/local/lib/python3.10/dist-packages (from transformers) (0.4.5)\n",
            "Requirement already satisfied: tqdm>=4.27 in /usr/local/lib/python3.10/dist-packages (from transformers) (4.66.6)\n",
            "Requirement already satisfied: contourpy>=1.0.1 in /usr/local/lib/python3.10/dist-packages (from matplotlib) (1.3.1)\n",
            "Requirement already satisfied: cycler>=0.10 in /usr/local/lib/python3.10/dist-packages (from matplotlib) (0.12.1)\n",
            "Requirement already satisfied: fonttools>=4.22.0 in /usr/local/lib/python3.10/dist-packages (from matplotlib) (4.55.3)\n",
            "Requirement already satisfied: kiwisolver>=1.0.1 in /usr/local/lib/python3.10/dist-packages (from matplotlib) (1.4.7)\n",
            "Requirement already satisfied: pyparsing>=2.3.1 in /usr/local/lib/python3.10/dist-packages (from matplotlib) (3.2.0)\n",
            "Requirement already satisfied: python-dateutil>=2.7 in /usr/local/lib/python3.10/dist-packages (from matplotlib) (2.8.2)\n",
            "Requirement already satisfied: joblib>=1.2.0 in /usr/local/lib/python3.10/dist-packages (from scikit-learn) (1.4.2)\n",
            "Requirement already satisfied: threadpoolctl>=3.1.0 in /usr/local/lib/python3.10/dist-packages (from scikit-learn) (3.5.0)\n",
            "Requirement already satisfied: six>=1.5 in /usr/local/lib/python3.10/dist-packages (from python-dateutil>=2.7->matplotlib) (1.17.0)\n",
            "Requirement already satisfied: MarkupSafe>=2.0 in /usr/local/lib/python3.10/dist-packages (from jinja2->torch) (3.0.2)\n",
            "Requirement already satisfied: charset-normalizer<4,>=2 in /usr/local/lib/python3.10/dist-packages (from requests->transformers) (3.4.0)\n",
            "Requirement already satisfied: idna<4,>=2.5 in /usr/local/lib/python3.10/dist-packages (from requests->transformers) (3.10)\n",
            "Requirement already satisfied: urllib3<3,>=1.21.1 in /usr/local/lib/python3.10/dist-packages (from requests->transformers) (2.2.3)\n",
            "Requirement already satisfied: certifi>=2017.4.17 in /usr/local/lib/python3.10/dist-packages (from requests->transformers) (2024.8.30)\n",
            "Collecting plyfile\n",
            "  Downloading plyfile-1.1-py3-none-any.whl.metadata (2.1 kB)\n",
            "Requirement already satisfied: numpy>=1.21 in /usr/local/lib/python3.10/dist-packages (from plyfile) (1.26.4)\n",
            "Downloading plyfile-1.1-py3-none-any.whl (23 kB)\n",
            "Installing collected packages: plyfile\n",
            "Successfully installed plyfile-1.1\n"
          ]
        }
      ],
      "source": [
        "\n",
        "!pip install torch torchvision transformers numpy matplotlib scipy scikit-learn\n",
        "!pip install plyfile  # For 3D point cloud operations\n"
      ]
    },
    {
      "cell_type": "code",
      "source": [
        "import torch\n",
        "import numpy as np\n",
        "import random\n",
        "\n",
        "# Set random seed for reproducibility\n",
        "seed = 42\n",
        "random.seed(seed)\n",
        "np.random.seed(seed)\n",
        "torch.manual_seed(seed)\n",
        "torch.cuda.manual_seed(seed)\n",
        "torch.cuda.manual_seed_all(seed)  # If using multiple GPUs\n"
      ],
      "metadata": {
        "id": "d_2gKNVx5T5C"
      },
      "execution_count": null,
      "outputs": []
    },
    {
      "cell_type": "code",
      "source": [
        "import sys\n",
        "import torch\n",
        "import numpy as np\n",
        "import transformers\n",
        "\n",
        "# Print versions of relevant libraries\n",
        "print(f\"Python version: {sys.version}\")\n",
        "print(f\"Torch version: {torch.__version__}\")\n",
        "print(f\"NumPy version: {np.__version__}\")\n",
        "print(f\"Transformers version: {transformers.__version__}\")\n"
      ],
      "metadata": {
        "colab": {
          "base_uri": "https://localhost:8080/"
        },
        "id": "koUAOLsC5ZeC",
        "outputId": "821289a6-72da-40c0-e7ed-626e1ff0d6d5"
      },
      "execution_count": null,
      "outputs": [
        {
          "output_type": "stream",
          "name": "stdout",
          "text": [
            "Python version: 3.10.12 (main, Nov  6 2024, 20:22:13) [GCC 11.4.0]\n",
            "Torch version: 2.5.1+cu121\n",
            "NumPy version: 1.26.4\n",
            "Transformers version: 4.46.3\n"
          ]
        }
      ]
    },
    {
      "cell_type": "code",
      "source": [
        "# Save environment details\n",
        "!pip freeze > requirements.txt\n"
      ],
      "metadata": {
        "id": "9wD-5JEt5ctQ"
      },
      "execution_count": null,
      "outputs": []
    },
    {
      "cell_type": "markdown",
      "source": [
        "# Step 2: Dataset Preparation"
      ],
      "metadata": {
        "id": "LD62PiUW6Qk5"
      }
    },
    {
      "cell_type": "code",
      "source": [
        "!pip install gdown\n"
      ],
      "metadata": {
        "colab": {
          "base_uri": "https://localhost:8080/"
        },
        "id": "VksWBGck7fmU",
        "outputId": "fb54a828-e5f5-4030-fff5-6c915e942c7f"
      },
      "execution_count": null,
      "outputs": [
        {
          "output_type": "stream",
          "name": "stdout",
          "text": [
            "Requirement already satisfied: gdown in /usr/local/lib/python3.10/dist-packages (5.2.0)\n",
            "Requirement already satisfied: beautifulsoup4 in /usr/local/lib/python3.10/dist-packages (from gdown) (4.12.3)\n",
            "Requirement already satisfied: filelock in /usr/local/lib/python3.10/dist-packages (from gdown) (3.16.1)\n",
            "Requirement already satisfied: requests[socks] in /usr/local/lib/python3.10/dist-packages (from gdown) (2.32.3)\n",
            "Requirement already satisfied: tqdm in /usr/local/lib/python3.10/dist-packages (from gdown) (4.66.6)\n",
            "Requirement already satisfied: soupsieve>1.2 in /usr/local/lib/python3.10/dist-packages (from beautifulsoup4->gdown) (2.6)\n",
            "Requirement already satisfied: charset-normalizer<4,>=2 in /usr/local/lib/python3.10/dist-packages (from requests[socks]->gdown) (3.4.0)\n",
            "Requirement already satisfied: idna<4,>=2.5 in /usr/local/lib/python3.10/dist-packages (from requests[socks]->gdown) (3.10)\n",
            "Requirement already satisfied: urllib3<3,>=1.21.1 in /usr/local/lib/python3.10/dist-packages (from requests[socks]->gdown) (2.2.3)\n",
            "Requirement already satisfied: certifi>=2017.4.17 in /usr/local/lib/python3.10/dist-packages (from requests[socks]->gdown) (2024.8.30)\n",
            "Requirement already satisfied: PySocks!=1.5.7,>=1.5.6 in /usr/local/lib/python3.10/dist-packages (from requests[socks]->gdown) (1.7.1)\n"
          ]
        }
      ]
    },
    {
      "cell_type": "code",
      "source": [
        "from google.colab import drive\n",
        "drive.mount('/content/drive')\n"
      ],
      "metadata": {
        "colab": {
          "base_uri": "https://localhost:8080/"
        },
        "id": "gOjK9vrF7lsn",
        "outputId": "0a24feff-53e1-4260-a362-97eb9f178d7b"
      },
      "execution_count": null,
      "outputs": [
        {
          "output_type": "stream",
          "name": "stdout",
          "text": [
            "Drive already mounted at /content/drive; to attempt to forcibly remount, call drive.mount(\"/content/drive\", force_remount=True).\n"
          ]
        }
      ]
    },
    {
      "cell_type": "code",
      "source": [
        "import os\n",
        "\n",
        "# List the contents of the folder\n",
        "folder_path = '/content/drive/MyDrive/LIDC-IDRI'\n",
        "file_list = os.listdir(folder_path)\n",
        "print(file_list)"
      ],
      "metadata": {
        "colab": {
          "base_uri": "https://localhost:8080/"
        },
        "id": "rnmMxydgAEHh",
        "outputId": "76452c3f-fb58-43f4-c12a-939e8ddffa67"
      },
      "execution_count": null,
      "outputs": [
        {
          "output_type": "stream",
          "name": "stdout",
          "text": [
            "['.DS_Store', 'LIDC-IDRI-0005', 'LIDC-IDRI-0002', 'LIDC-IDRI-0003', 'LIDC-IDRI-0004', 'LIDC-IDRI-0010', 'LIDC-IDRI-0011', 'LIDC-IDRI-0008', 'LIDC-IDRI-0001', 'LIDC-IDRI-0006', 'LIDC-IDRI-0007', 'LIDC-IDRI-0009']\n"
          ]
        }
      ]
    },
    {
      "cell_type": "code",
      "source": [
        "\n",
        "# Path to the subfolder\n",
        "subfolder_path = '/content/drive/MyDrive/LIDC-IDRI/LIDC-IDRI-0001'\n",
        "\n",
        "# List the contents of the subfolder\n",
        "subfolder_files = os.listdir(subfolder_path)\n",
        "print(subfolder_files)"
      ],
      "metadata": {
        "colab": {
          "base_uri": "https://localhost:8080/"
        },
        "id": "pc14RF1SGuXe",
        "outputId": "1c086b28-c53a-4ff8-c5ab-582434adaae9"
      },
      "execution_count": null,
      "outputs": [
        {
          "output_type": "stream",
          "name": "stdout",
          "text": [
            "['.DS_Store', '01-01-2000-NA-NA-35511', '01-01-2000-NA-NA-30178']\n"
          ]
        }
      ]
    },
    {
      "cell_type": "code",
      "source": [
        "# Remove '.DS_Store' if it exists in the list\n",
        "file_list = [f for f in file_list if f != '.DS_Store']\n",
        "subfolder_files = [f for f in subfolder_files if f != '.DS_Store']\n",
        "\n",
        "print(file_list)\n",
        "print(subfolder_files)\n"
      ],
      "metadata": {
        "colab": {
          "base_uri": "https://localhost:8080/"
        },
        "id": "0aic9swaHnoB",
        "outputId": "3deadc83-1bb6-43d6-f029-731c4c743d84"
      },
      "execution_count": null,
      "outputs": [
        {
          "output_type": "stream",
          "name": "stdout",
          "text": [
            "['LIDC-IDRI-0005', 'LIDC-IDRI-0002', 'LIDC-IDRI-0003', 'LIDC-IDRI-0004', 'LIDC-IDRI-0010', 'LIDC-IDRI-0011', 'LIDC-IDRI-0008', 'LIDC-IDRI-0001', 'LIDC-IDRI-0006', 'LIDC-IDRI-0007', 'LIDC-IDRI-0009']\n",
            "['01-01-2000-NA-NA-35511', '01-01-2000-NA-NA-30178']\n"
          ]
        }
      ]
    },
    {
      "cell_type": "code",
      "source": [
        "# Path to the deepest subfolder\n",
        "deepest_subfolder_path = '/content/drive/MyDrive/LIDC-IDRI/LIDC-IDRI-0001/01-01-2000-NA-NA-35511'\n",
        "\n",
        "# List its contents\n",
        "deepest_subfolder_files = os.listdir(deepest_subfolder_path)\n",
        "print(deepest_subfolder_files)\n"
      ],
      "metadata": {
        "colab": {
          "base_uri": "https://localhost:8080/"
        },
        "id": "MaJ1S259Hr3Y",
        "outputId": "0dc4e1bc-de45-4fc5-fea2-84c661d75f00"
      },
      "execution_count": null,
      "outputs": [
        {
          "output_type": "stream",
          "name": "stdout",
          "text": [
            "['3000923.000000-NA-62357']\n"
          ]
        }
      ]
    },
    {
      "cell_type": "code",
      "source": [
        "import os\n",
        "\n",
        "# Path to the main folder\n",
        "main_folder_path = '/content/drive/MyDrive/LIDC-IDRI'\n",
        "\n",
        "# Walk through all subfolders and list files\n",
        "for root, dirs, files in os.walk(main_folder_path):\n",
        "    print(f\"Current folder: {root}\")\n",
        "    print(f\"Subfolders: {dirs}\")\n",
        "    print(f\"Files: {files}\")\n",
        "    print(\"-\" * 40)\n"
      ],
      "metadata": {
        "colab": {
          "base_uri": "https://localhost:8080/"
        },
        "id": "SnursfrdHv9D",
        "outputId": "39929a31-c3bd-41e9-b540-648407934910"
      },
      "execution_count": null,
      "outputs": [
        {
          "output_type": "stream",
          "name": "stdout",
          "text": [
            "Current folder: /content/drive/MyDrive/LIDC-IDRI\n",
            "Subfolders: ['LIDC-IDRI-0005', 'LIDC-IDRI-0002', 'LIDC-IDRI-0003', 'LIDC-IDRI-0004', 'LIDC-IDRI-0010', 'LIDC-IDRI-0011', 'LIDC-IDRI-0008', 'LIDC-IDRI-0001', 'LIDC-IDRI-0006', 'LIDC-IDRI-0007', 'LIDC-IDRI-0009']\n",
            "Files: ['.DS_Store']\n",
            "----------------------------------------\n",
            "Current folder: /content/drive/MyDrive/LIDC-IDRI/LIDC-IDRI-0005\n",
            "Subfolders: ['01-01-2000-NA-NA-06608', '01-01-2000-NA-NA-42125']\n",
            "Files: []\n",
            "----------------------------------------\n",
            "Current folder: /content/drive/MyDrive/LIDC-IDRI/LIDC-IDRI-0005/01-01-2000-NA-NA-06608\n",
            "Subfolders: ['3001613.000000-NA-05796']\n",
            "Files: []\n",
            "----------------------------------------\n",
            "Current folder: /content/drive/MyDrive/LIDC-IDRI/LIDC-IDRI-0005/01-01-2000-NA-NA-06608/3001613.000000-NA-05796\n",
            "Subfolders: []\n",
            "Files: ['1-1.dcm', '1-2.dcm']\n",
            "----------------------------------------\n",
            "Current folder: /content/drive/MyDrive/LIDC-IDRI/LIDC-IDRI-0005/01-01-2000-NA-NA-42125\n",
            "Subfolders: ['3000548.000000-NA-86225']\n",
            "Files: []\n",
            "----------------------------------------\n",
            "Current folder: /content/drive/MyDrive/LIDC-IDRI/LIDC-IDRI-0005/01-01-2000-NA-NA-42125/3000548.000000-NA-86225\n",
            "Subfolders: []\n",
            "Files: ['1-013.dcm', '1-005.dcm', '1-007.dcm', '1-124.dcm', '1-045.dcm', '1-051.dcm', '1-079.dcm', '1-130.dcm', '1-074.dcm', '1-060.dcm', '1-114.dcm', '1-128.dcm', '1-129.dcm', '1-115.dcm', '1-101.dcm', '1-048.dcm', '1-049.dcm', '1-061.dcm', '1-075.dcm', '1-100.dcm', '1-063.dcm', '1-077.dcm', '1-102.dcm', '1-103.dcm', '1-089.dcm', '1-062.dcm', '1-116.dcm', '1-088.dcm', '1-076.dcm', '1-072.dcm', '1-066.dcm', '1-117.dcm', '1-099.dcm', '1-112.dcm', '1-098.dcm', '1-067.dcm', '1-106.dcm', '1-073.dcm', '1-059.dcm', '1-071.dcm', '1-065.dcm', '1-107.dcm', '1-105.dcm', '1-111.dcm', '1-113.dcm', '1-110.dcm', '1-104.dcm', '1-017.dcm', '1-058.dcm', '1-003.dcm', '1-002.dcm', '1-016.dcm', '1-064.dcm', '1-014.dcm', '1-028.dcm', '1-029.dcm', '1-070.dcm', '1-015.dcm', '1-001.dcm', '1-010.dcm', '1-011.dcm', '1-004.dcm', '1-012.dcm', '1-006.dcm', '1-038.dcm', '1-039.dcm', '1-036.dcm', '1-021.dcm', '1-035.dcm', '1-009.dcm', '1-008.dcm', '1-034.dcm', '1-020.dcm', '1-022.dcm', '1-024.dcm', '1-018.dcm', '1-030.dcm', '1-025.dcm', '1-033.dcm', '1-019.dcm', '1-026.dcm', '1-027.dcm', '1-032.dcm', '1-031.dcm', '1-041.dcm', '1-055.dcm', '1-096.dcm', '1-069.dcm', '1-108.dcm', '1-109.dcm', '1-097.dcm', '1-120.dcm', '1-068.dcm', '1-082.dcm', '1-083.dcm', '1-040.dcm', '1-054.dcm', '1-121.dcm', '1-042.dcm', '1-056.dcm', '1-123.dcm', '1-094.dcm', '1-080.dcm', '1-057.dcm', '1-043.dcm', '1-081.dcm', '1-047.dcm', '1-053.dcm', '1-084.dcm', '1-095.dcm', '1-122.dcm', '1-090.dcm', '1-133.dcm', '1-085.dcm', '1-132.dcm', '1-091.dcm', '1-078.dcm', '1-046.dcm', '1-052.dcm', '1-127.dcm', '1-044.dcm', '1-050.dcm', '1-126.dcm', '1-093.dcm', '1-087.dcm', '1-131.dcm', '1-125.dcm', '1-119.dcm', '1-086.dcm', '1-092.dcm', '1-118.dcm', '1-023.dcm', '1-037.dcm']\n",
            "----------------------------------------\n",
            "Current folder: /content/drive/MyDrive/LIDC-IDRI/LIDC-IDRI-0002\n",
            "Subfolders: ['01-01-2000-NA-NA-98329', '01-01-2000-NA-NA-26851']\n",
            "Files: []\n",
            "----------------------------------------\n",
            "Current folder: /content/drive/MyDrive/LIDC-IDRI/LIDC-IDRI-0002/01-01-2000-NA-NA-98329\n",
            "Subfolders: ['3000522.000000-NA-04919']\n",
            "Files: []\n",
            "----------------------------------------\n",
            "Current folder: /content/drive/MyDrive/LIDC-IDRI/LIDC-IDRI-0002/01-01-2000-NA-NA-98329/3000522.000000-NA-04919\n",
            "Subfolders: []\n",
            "Files: ['1-012.dcm', '1-204.dcm', '1-210.dcm', '1-199.dcm', '1-172.dcm', '1-166.dcm', '1-173.dcm', '1-006.dcm', '1-198.dcm', '1-167.dcm', '1-238.dcm', '1-205.dcm', '1-211.dcm', '1-007.dcm', '1-013.dcm', '1-239.dcm', '1-160.dcm', '1-217.dcm', '1-175.dcm', '1-015.dcm', '1-029.dcm', '1-203.dcm', '1-148.dcm', '1-039.dcm', '1-001.dcm', '1-149.dcm', '1-005.dcm', '1-161.dcm', '1-011.dcm', '1-207.dcm', '1-171.dcm', '1-164.dcm', '1-170.dcm', '1-165.dcm', '1-212.dcm', '1-213.dcm', '1-158.dcm', '1-010.dcm', '1-206.dcm', '1-159.dcm', '1-004.dcm', '1-038.dcm', '1-259.dcm', '1-065.dcm', '1-111.dcm', '1-098.dcm', '1-110.dcm', '1-104.dcm', '1-138.dcm', '1-058.dcm', '1-017.dcm', '1-201.dcm', '1-215.dcm', '1-003.dcm', '1-064.dcm', '1-229.dcm', '1-163.dcm', '1-177.dcm', '1-070.dcm', '1-188.dcm', '1-189.dcm', '1-200.dcm', '1-002.dcm', '1-214.dcm', '1-176.dcm', '1-014.dcm', '1-016.dcm', '1-202.dcm', '1-028.dcm', '1-174.dcm', '1-162.dcm', '1-228.dcm', '1-216.dcm', '1-075.dcm', '1-063.dcm', '1-077.dcm', '1-088.dcm', '1-101.dcm', '1-249.dcm', '1-117.dcm', '1-261.dcm', '1-103.dcm', '1-049.dcm', '1-102.dcm', '1-061.dcm', '1-116.dcm', '1-076.dcm', '1-248.dcm', '1-072.dcm', '1-066.dcm', '1-062.dcm', '1-258.dcm', '1-099.dcm', '1-260.dcm', '1-106.dcm', '1-112.dcm', '1-107.dcm', '1-089.dcm', '1-113.dcm', '1-073.dcm', '1-067.dcm', '1-059.dcm', '1-071.dcm', '1-105.dcm', '1-139.dcm', '1-093.dcm', '1-124.dcm', '1-118.dcm', '1-130.dcm', '1-131.dcm', '1-119.dcm', '1-247.dcm', '1-087.dcm', '1-125.dcm', '1-253.dcm', '1-252.dcm', '1-086.dcm', '1-246.dcm', '1-092.dcm', '1-074.dcm', '1-079.dcm', '1-051.dcm', '1-100.dcm', '1-048.dcm', '1-060.dcm', '1-128.dcm', '1-114.dcm', '1-129.dcm', '1-045.dcm', '1-115.dcm', '1-123.dcm', '1-137.dcm', '1-080.dcm', '1-255.dcm', '1-043.dcm', '1-057.dcm', '1-053.dcm', '1-047.dcm', '1-084.dcm', '1-241.dcm', '1-090.dcm', '1-245.dcm', '1-094.dcm', '1-251.dcm', '1-133.dcm', '1-244.dcm', '1-250.dcm', '1-091.dcm', '1-052.dcm', '1-085.dcm', '1-127.dcm', '1-078.dcm', '1-046.dcm', '1-050.dcm', '1-126.dcm', '1-132.dcm', '1-044.dcm', '1-152.dcm', '1-026.dcm', '1-041.dcm', '1-069.dcm', '1-146.dcm', '1-082.dcm', '1-096.dcm', '1-257.dcm', '1-109.dcm', '1-135.dcm', '1-134.dcm', '1-108.dcm', '1-120.dcm', '1-243.dcm', '1-242.dcm', '1-256.dcm', '1-083.dcm', '1-097.dcm', '1-121.dcm', '1-068.dcm', '1-056.dcm', '1-081.dcm', '1-042.dcm', '1-254.dcm', '1-240.dcm', '1-095.dcm', '1-040.dcm', '1-054.dcm', '1-122.dcm', '1-136.dcm', '1-030.dcm', '1-024.dcm', '1-232.dcm', '1-226.dcm', '1-236.dcm', '1-222.dcm', '1-178.dcm', '1-150.dcm', '1-187.dcm', '1-192.dcm', '1-145.dcm', '1-186.dcm', '1-179.dcm', '1-144.dcm', '1-151.dcm', '1-227.dcm', '1-233.dcm', '1-193.dcm', '1-031.dcm', '1-025.dcm', '1-027.dcm', '1-219.dcm', '1-225.dcm', '1-147.dcm', '1-231.dcm', '1-019.dcm', '1-153.dcm', '1-190.dcm', '1-184.dcm', '1-033.dcm', '1-191.dcm', '1-185.dcm', '1-230.dcm', '1-224.dcm', '1-218.dcm', '1-032.dcm', '1-055.dcm', '1-156.dcm', '1-157.dcm', '1-180.dcm', '1-221.dcm', '1-209.dcm', '1-143.dcm', '1-181.dcm', '1-235.dcm', '1-023.dcm', '1-037.dcm', '1-195.dcm', '1-194.dcm', '1-021.dcm', '1-035.dcm', '1-141.dcm', '1-169.dcm', '1-155.dcm', '1-196.dcm', '1-182.dcm', '1-009.dcm', '1-197.dcm', '1-183.dcm', '1-168.dcm', '1-223.dcm', '1-140.dcm', '1-237.dcm', '1-154.dcm', '1-008.dcm', '1-020.dcm', '1-018.dcm', '1-034.dcm', '1-036.dcm', '1-022.dcm', '1-234.dcm', '1-208.dcm', '1-220.dcm', '1-142.dcm']\n",
            "----------------------------------------\n",
            "Current folder: /content/drive/MyDrive/LIDC-IDRI/LIDC-IDRI-0002/01-01-2000-NA-NA-26851\n",
            "Subfolders: ['3000972.000000-NA-22902']\n",
            "Files: []\n",
            "----------------------------------------\n",
            "Current folder: /content/drive/MyDrive/LIDC-IDRI/LIDC-IDRI-0002/01-01-2000-NA-NA-26851/3000972.000000-NA-22902\n",
            "Subfolders: []\n",
            "Files: ['1-1.dcm']\n",
            "----------------------------------------\n",
            "Current folder: /content/drive/MyDrive/LIDC-IDRI/LIDC-IDRI-0003\n",
            "Subfolders: ['01-01-2000-NA-NA-59141', '01-01-2000-NA-NA-94866']\n",
            "Files: []\n",
            "----------------------------------------\n",
            "Current folder: /content/drive/MyDrive/LIDC-IDRI/LIDC-IDRI-0003/01-01-2000-NA-NA-59141\n",
            "Subfolders: ['3000978.000000-NA-59882']\n",
            "Files: []\n",
            "----------------------------------------\n",
            "Current folder: /content/drive/MyDrive/LIDC-IDRI/LIDC-IDRI-0003/01-01-2000-NA-NA-59141/3000978.000000-NA-59882\n",
            "Subfolders: []\n",
            "Files: ['1-4.dcm', '1-5.dcm', '1-1.dcm', '1-2.dcm', '1-3.dcm']\n",
            "----------------------------------------\n",
            "Current folder: /content/drive/MyDrive/LIDC-IDRI/LIDC-IDRI-0003/01-01-2000-NA-NA-94866\n",
            "Subfolders: ['3000611.000000-NA-03264']\n",
            "Files: []\n",
            "----------------------------------------\n",
            "Current folder: /content/drive/MyDrive/LIDC-IDRI/LIDC-IDRI-0003/01-01-2000-NA-NA-94866/3000611.000000-NA-03264\n",
            "Subfolders: []\n",
            "Files: ['1-065.dcm', '1-111.dcm', '1-104.dcm', '1-110.dcm', '1-059.dcm', '1-064.dcm', '1-138.dcm', '1-071.dcm', '1-070.dcm', '1-058.dcm', '1-016.dcm', '1-014.dcm', '1-002.dcm', '1-029.dcm', '1-015.dcm', '1-028.dcm', '1-017.dcm', '1-039.dcm', '1-001.dcm', '1-003.dcm', '1-005.dcm', '1-011.dcm', '1-012.dcm', '1-006.dcm', '1-013.dcm', '1-007.dcm', '1-010.dcm', '1-004.dcm', '1-038.dcm', '1-105.dcm', '1-139.dcm', '1-128.dcm', '1-092.dcm', '1-066.dcm', '1-116.dcm', '1-102.dcm', '1-101.dcm', '1-088.dcm', '1-117.dcm', '1-103.dcm', '1-115.dcm', '1-061.dcm', '1-049.dcm', '1-063.dcm', '1-077.dcm', '1-075.dcm', '1-129.dcm', '1-089.dcm', '1-099.dcm', '1-112.dcm', '1-072.dcm', '1-107.dcm', '1-106.dcm', '1-076.dcm', '1-098.dcm', '1-113.dcm', '1-073.dcm', '1-062.dcm', '1-067.dcm', '1-043.dcm', '1-047.dcm', '1-053.dcm', '1-084.dcm', '1-090.dcm', '1-080.dcm', '1-127.dcm', '1-133.dcm', '1-126.dcm', '1-057.dcm', '1-132.dcm', '1-091.dcm', '1-085.dcm', '1-078.dcm', '1-050.dcm', '1-093.dcm', '1-087.dcm', '1-052.dcm', '1-044.dcm', '1-118.dcm', '1-124.dcm', '1-130.dcm', '1-131.dcm', '1-046.dcm', '1-125.dcm', '1-045.dcm', '1-074.dcm', '1-079.dcm', '1-051.dcm', '1-060.dcm', '1-119.dcm', '1-086.dcm', '1-048.dcm', '1-114.dcm', '1-100.dcm', '1-034.dcm', '1-027.dcm', '1-033.dcm', '1-020.dcm', '1-026.dcm', '1-032.dcm', '1-096.dcm', '1-069.dcm', '1-082.dcm', '1-121.dcm', '1-108.dcm', '1-055.dcm', '1-109.dcm', '1-135.dcm', '1-134.dcm', '1-041.dcm', '1-120.dcm', '1-083.dcm', '1-054.dcm', '1-056.dcm', '1-081.dcm', '1-042.dcm', '1-097.dcm', '1-136.dcm', '1-095.dcm', '1-123.dcm', '1-122.dcm', '1-068.dcm', '1-040.dcm', '1-137.dcm', '1-094.dcm', '1-036.dcm', '1-037.dcm', '1-023.dcm', '1-022.dcm', '1-035.dcm', '1-021.dcm', '1-009.dcm', '1-140.dcm', '1-018.dcm', '1-008.dcm', '1-030.dcm', '1-031.dcm', '1-024.dcm', '1-025.dcm', '1-019.dcm']\n",
            "----------------------------------------\n",
            "Current folder: /content/drive/MyDrive/LIDC-IDRI/LIDC-IDRI-0004\n",
            "Subfolders: ['01-01-2000-NA-NA-88534', '01-01-2000-NA-NA-91780']\n",
            "Files: []\n",
            "----------------------------------------\n",
            "Current folder: /content/drive/MyDrive/LIDC-IDRI/LIDC-IDRI-0004/01-01-2000-NA-NA-88534\n",
            "Subfolders: ['3000897.000000-NA-82201']\n",
            "Files: []\n",
            "----------------------------------------\n",
            "Current folder: /content/drive/MyDrive/LIDC-IDRI/LIDC-IDRI-0004/01-01-2000-NA-NA-88534/3000897.000000-NA-82201\n",
            "Subfolders: []\n",
            "Files: ['1-1.dcm']\n",
            "----------------------------------------\n",
            "Current folder: /content/drive/MyDrive/LIDC-IDRI/LIDC-IDRI-0004/01-01-2000-NA-NA-91780\n",
            "Subfolders: ['3000534.000000-NA-58228']\n",
            "Files: []\n",
            "----------------------------------------\n",
            "Current folder: /content/drive/MyDrive/LIDC-IDRI/LIDC-IDRI-0004/01-01-2000-NA-NA-91780/3000534.000000-NA-58228\n",
            "Subfolders: []\n",
            "Files: ['1-013.dcm', '1-159.dcm', '1-170.dcm', '1-164.dcm', '1-158.dcm', '1-212.dcm', '1-206.dcm', '1-171.dcm', '1-004.dcm', '1-010.dcm', '1-038.dcm', '1-165.dcm', '1-012.dcm', '1-166.dcm', '1-006.dcm', '1-204.dcm', '1-172.dcm', '1-198.dcm', '1-199.dcm', '1-167.dcm', '1-238.dcm', '1-173.dcm', '1-205.dcm', '1-211.dcm', '1-210.dcm', '1-239.dcm', '1-007.dcm', '1-017.dcm', '1-177.dcm', '1-189.dcm', '1-176.dcm', '1-003.dcm', '1-162.dcm', '1-228.dcm', '1-014.dcm', '1-016.dcm', '1-202.dcm', '1-216.dcm', '1-028.dcm', '1-200.dcm', '1-160.dcm', '1-174.dcm', '1-148.dcm', '1-214.dcm', '1-002.dcm', '1-149.dcm', '1-161.dcm', '1-015.dcm', '1-029.dcm', '1-203.dcm', '1-175.dcm', '1-001.dcm', '1-005.dcm', '1-039.dcm', '1-217.dcm', '1-207.dcm', '1-011.dcm', '1-213.dcm', '1-077.dcm', '1-117.dcm', '1-102.dcm', '1-103.dcm', '1-066.dcm', '1-062.dcm', '1-099.dcm', '1-072.dcm', '1-112.dcm', '1-107.dcm', '1-116.dcm', '1-089.dcm', '1-106.dcm', '1-113.dcm', '1-076.dcm', '1-098.dcm', '1-071.dcm', '1-139.dcm', '1-065.dcm', '1-073.dcm', '1-067.dcm', '1-111.dcm', '1-110.dcm', '1-105.dcm', '1-138.dcm', '1-104.dcm', '1-059.dcm', '1-064.dcm', '1-070.dcm', '1-058.dcm', '1-201.dcm', '1-215.dcm', '1-229.dcm', '1-163.dcm', '1-188.dcm', '1-085.dcm', '1-078.dcm', '1-044.dcm', '1-093.dcm', '1-050.dcm', '1-087.dcm', '1-118.dcm', '1-130.dcm', '1-124.dcm', '1-052.dcm', '1-046.dcm', '1-131.dcm', '1-125.dcm', '1-092.dcm', '1-051.dcm', '1-079.dcm', '1-045.dcm', '1-074.dcm', '1-060.dcm', '1-119.dcm', '1-100.dcm', '1-048.dcm', '1-086.dcm', '1-114.dcm', '1-128.dcm', '1-049.dcm', '1-101.dcm', '1-129.dcm', '1-075.dcm', '1-061.dcm', '1-063.dcm', '1-088.dcm', '1-115.dcm', '1-096.dcm', '1-134.dcm', '1-097.dcm', '1-082.dcm', '1-068.dcm', '1-040.dcm', '1-081.dcm', '1-054.dcm', '1-240.dcm', '1-136.dcm', '1-095.dcm', '1-122.dcm', '1-123.dcm', '1-042.dcm', '1-241.dcm', '1-137.dcm', '1-056.dcm', '1-094.dcm', '1-080.dcm', '1-043.dcm', '1-053.dcm', '1-047.dcm', '1-084.dcm', '1-133.dcm', '1-090.dcm', '1-057.dcm', '1-126.dcm', '1-127.dcm', '1-091.dcm', '1-132.dcm', '1-226.dcm', '1-154.dcm', '1-232.dcm', '1-144.dcm', '1-187.dcm', '1-186.dcm', '1-193.dcm', '1-192.dcm', '1-178.dcm', '1-145.dcm', '1-179.dcm', '1-151.dcm', '1-150.dcm', '1-233.dcm', '1-227.dcm', '1-025.dcm', '1-027.dcm', '1-033.dcm', '1-019.dcm', '1-219.dcm', '1-231.dcm', '1-031.dcm', '1-147.dcm', '1-225.dcm', '1-153.dcm', '1-184.dcm', '1-190.dcm', '1-224.dcm', '1-146.dcm', '1-152.dcm', '1-218.dcm', '1-230.dcm', '1-055.dcm', '1-026.dcm', '1-032.dcm', '1-191.dcm', '1-041.dcm', '1-185.dcm', '1-069.dcm', '1-135.dcm', '1-121.dcm', '1-109.dcm', '1-108.dcm', '1-120.dcm', '1-083.dcm', '1-142.dcm', '1-180.dcm', '1-195.dcm', '1-194.dcm', '1-157.dcm', '1-143.dcm', '1-209.dcm', '1-156.dcm', '1-235.dcm', '1-221.dcm', '1-181.dcm', '1-023.dcm', '1-037.dcm', '1-237.dcm', '1-223.dcm', '1-009.dcm', '1-169.dcm', '1-141.dcm', '1-155.dcm', '1-021.dcm', '1-182.dcm', '1-196.dcm', '1-035.dcm', '1-183.dcm', '1-197.dcm', '1-236.dcm', '1-222.dcm', '1-008.dcm', '1-018.dcm', '1-020.dcm', '1-168.dcm', '1-140.dcm', '1-034.dcm', '1-024.dcm', '1-030.dcm', '1-234.dcm', '1-022.dcm', '1-036.dcm', '1-220.dcm', '1-208.dcm']\n",
            "----------------------------------------\n",
            "Current folder: /content/drive/MyDrive/LIDC-IDRI/LIDC-IDRI-0010\n",
            "Subfolders: ['01-01-2000-NA-NA-43375', '01-01-2000-NA-NA-37629']\n",
            "Files: []\n",
            "----------------------------------------\n",
            "Current folder: /content/drive/MyDrive/LIDC-IDRI/LIDC-IDRI-0010/01-01-2000-NA-NA-43375\n",
            "Subfolders: ['3000518.000000-NA-66796']\n",
            "Files: []\n",
            "----------------------------------------\n",
            "Current folder: /content/drive/MyDrive/LIDC-IDRI/LIDC-IDRI-0010/01-01-2000-NA-NA-43375/3000518.000000-NA-66796\n",
            "Subfolders: []\n",
            "Files: ['1-024.dcm', '1-018.dcm', '1-019.dcm', '1-017.dcm', '1-003.dcm', '1-014.dcm', '1-001.dcm', '1-005.dcm', '1-015.dcm', '1-011.dcm', '1-010.dcm', '1-002.dcm', '1-012.dcm', '1-004.dcm', '1-016.dcm', '1-006.dcm', '1-007.dcm', '1-013.dcm', '1-021.dcm', '1-023.dcm', '1-022.dcm', '1-009.dcm', '1-008.dcm', '1-020.dcm']\n",
            "----------------------------------------\n",
            "Current folder: /content/drive/MyDrive/LIDC-IDRI/LIDC-IDRI-0010/01-01-2000-NA-NA-37629\n",
            "Subfolders: ['3000709.000000-NA-50417']\n",
            "Files: []\n",
            "----------------------------------------\n",
            "Current folder: /content/drive/MyDrive/LIDC-IDRI/LIDC-IDRI-0010/01-01-2000-NA-NA-37629/3000709.000000-NA-50417\n",
            "Subfolders: []\n",
            "Files: ['1-1.dcm']\n",
            "----------------------------------------\n",
            "Current folder: /content/drive/MyDrive/LIDC-IDRI/LIDC-IDRI-0011\n",
            "Subfolders: ['01-01-2000-NA-NA-55602']\n",
            "Files: []\n",
            "----------------------------------------\n",
            "Current folder: /content/drive/MyDrive/LIDC-IDRI/LIDC-IDRI-0011/01-01-2000-NA-NA-55602\n",
            "Subfolders: ['3000922.000000-NA-50814']\n",
            "Files: []\n",
            "----------------------------------------\n",
            "Current folder: /content/drive/MyDrive/LIDC-IDRI/LIDC-IDRI-0011/01-01-2000-NA-NA-55602/3000922.000000-NA-50814\n",
            "Subfolders: []\n",
            "Files: ['1-1.dcm']\n",
            "----------------------------------------\n",
            "Current folder: /content/drive/MyDrive/LIDC-IDRI/LIDC-IDRI-0008\n",
            "Subfolders: ['01-01-2000-NA-NA-46755', '01-01-2000-NA-NA-30141']\n",
            "Files: []\n",
            "----------------------------------------\n",
            "Current folder: /content/drive/MyDrive/LIDC-IDRI/LIDC-IDRI-0008/01-01-2000-NA-NA-46755\n",
            "Subfolders: ['3001591.000000-NA-37639']\n",
            "Files: []\n",
            "----------------------------------------\n",
            "Current folder: /content/drive/MyDrive/LIDC-IDRI/LIDC-IDRI-0008/01-01-2000-NA-NA-46755/3001591.000000-NA-37639\n",
            "Subfolders: []\n",
            "Files: ['1-1.dcm', '1-2.dcm']\n",
            "----------------------------------------\n",
            "Current folder: /content/drive/MyDrive/LIDC-IDRI/LIDC-IDRI-0008/01-01-2000-NA-NA-30141\n",
            "Subfolders: ['3000549.000000-NA-21954']\n",
            "Files: []\n",
            "----------------------------------------\n",
            "Current folder: /content/drive/MyDrive/LIDC-IDRI/LIDC-IDRI-0008/01-01-2000-NA-NA-30141/3000549.000000-NA-21954\n",
            "Subfolders: []\n",
            "Files: ['1-012.dcm', '1-013.dcm', '1-001.dcm', '1-002.dcm', '1-003.dcm', '1-004.dcm', '1-005.dcm', '1-006.dcm', '1-007.dcm', '1-010.dcm', '1-011.dcm', '1-014.dcm', '1-015.dcm', '1-016.dcm', '1-017.dcm', '1-029.dcm', '1-028.dcm', '1-039.dcm', '1-038.dcm', '1-058.dcm', '1-059.dcm', '1-067.dcm', '1-064.dcm', '1-062.dcm', '1-065.dcm', '1-066.dcm', '1-070.dcm', '1-071.dcm', '1-072.dcm', '1-076.dcm', '1-077.dcm', '1-073.dcm', '1-088.dcm', '1-089.dcm', '1-099.dcm', '1-098.dcm', '1-102.dcm', '1-104.dcm', '1-103.dcm', '1-105.dcm', '1-106.dcm', '1-107.dcm', '1-110.dcm', '1-112.dcm', '1-111.dcm', '1-113.dcm', '1-116.dcm', '1-117.dcm', '1-090.dcm', '1-084.dcm', '1-133.dcm', '1-091.dcm', '1-132.dcm', '1-085.dcm', '1-046.dcm', '1-052.dcm', '1-050.dcm', '1-127.dcm', '1-118.dcm', '1-119.dcm', '1-125.dcm', '1-131.dcm', '1-086.dcm', '1-092.dcm', '1-051.dcm', '1-087.dcm', '1-093.dcm', '1-126.dcm', '1-078.dcm', '1-044.dcm', '1-130.dcm', '1-074.dcm', '1-045.dcm', '1-079.dcm', '1-124.dcm', '1-114.dcm', '1-129.dcm', '1-115.dcm', '1-128.dcm', '1-049.dcm', '1-101.dcm', '1-060.dcm', '1-063.dcm', '1-100.dcm', '1-075.dcm', '1-061.dcm', '1-048.dcm', '1-024.dcm', '1-030.dcm', '1-055.dcm', '1-032.dcm', '1-041.dcm', '1-031.dcm', '1-121.dcm', '1-054.dcm', '1-040.dcm', '1-082.dcm', '1-083.dcm', '1-120.dcm', '1-108.dcm', '1-068.dcm', '1-097.dcm', '1-109.dcm', '1-096.dcm', '1-069.dcm', '1-123.dcm', '1-094.dcm', '1-122.dcm', '1-057.dcm', '1-080.dcm', '1-056.dcm', '1-042.dcm', '1-081.dcm', '1-047.dcm', '1-053.dcm', '1-043.dcm', '1-095.dcm', '1-023.dcm', '1-037.dcm', '1-022.dcm', '1-035.dcm', '1-009.dcm', '1-021.dcm', '1-008.dcm', '1-034.dcm', '1-036.dcm', '1-020.dcm', '1-018.dcm', '1-019.dcm', '1-033.dcm', '1-025.dcm', '1-027.dcm', '1-026.dcm']\n",
            "----------------------------------------\n",
            "Current folder: /content/drive/MyDrive/LIDC-IDRI/LIDC-IDRI-0001\n",
            "Subfolders: ['01-01-2000-NA-NA-35511', '01-01-2000-NA-NA-30178']\n",
            "Files: ['.DS_Store']\n",
            "----------------------------------------\n",
            "Current folder: /content/drive/MyDrive/LIDC-IDRI/LIDC-IDRI-0001/01-01-2000-NA-NA-35511\n",
            "Subfolders: ['3000923.000000-NA-62357']\n",
            "Files: []\n",
            "----------------------------------------\n",
            "Current folder: /content/drive/MyDrive/LIDC-IDRI/LIDC-IDRI-0001/01-01-2000-NA-NA-35511/3000923.000000-NA-62357\n",
            "Subfolders: []\n",
            "Files: ['1-2.dcm', '1-1.dcm']\n",
            "----------------------------------------\n",
            "Current folder: /content/drive/MyDrive/LIDC-IDRI/LIDC-IDRI-0001/01-01-2000-NA-NA-30178\n",
            "Subfolders: ['3000566.000000-NA-03192']\n",
            "Files: ['.DS_Store']\n",
            "----------------------------------------\n",
            "Current folder: /content/drive/MyDrive/LIDC-IDRI/LIDC-IDRI-0001/01-01-2000-NA-NA-30178/3000566.000000-NA-03192\n",
            "Subfolders: []\n",
            "Files: ['1-129.dcm', '1-063.dcm', '1-088.dcm', '1-117.dcm', '1-103.dcm', '1-102.dcm', '1-066.dcm', '1-116.dcm', '1-062.dcm', '1-072.dcm', '1-099.dcm', '1-106.dcm', '1-112.dcm', '1-089.dcm', '1-076.dcm', '1-107.dcm', '1-113.dcm', '1-098.dcm', '1-073.dcm', '1-067.dcm', '1-071.dcm', '1-065.dcm', '1-111.dcm', '1-105.dcm', '1-104.dcm', '1-064.dcm', '1-059.dcm', '1-110.dcm', '1-070.dcm', '1-058.dcm', '1-017.dcm', '1-003.dcm', '1-014.dcm', '1-028.dcm', '1-016.dcm', '1-029.dcm', '1-015.dcm', '1-002.dcm', '1-039.dcm', '1-005.dcm', '1-001.dcm', '1-011.dcm', '1-010.dcm', '1-013.dcm', '1-007.dcm', '1-006.dcm', '1-004.dcm', '1-038.dcm', '1-012.dcm', '1-128.dcm', '1-019.dcm', '1-121.dcm', '1-082.dcm', '1-096.dcm', '1-033.dcm', '1-109.dcm', '1-027.dcm', '1-108.dcm', '1-097.dcm', '1-040.dcm', '1-054.dcm', '1-068.dcm', '1-120.dcm', '1-042.dcm', '1-056.dcm', '1-095.dcm', '1-081.dcm', '1-083.dcm', '1-122.dcm', '1-123.dcm', '1-043.dcm', '1-057.dcm', '1-053.dcm', '1-047.dcm', '1-084.dcm', '1-133.dcm', '1-094.dcm', '1-090.dcm', '1-127.dcm', '1-080.dcm', '1-126.dcm', '1-132.dcm', '1-046.dcm', '1-050.dcm', '1-044.dcm', '1-078.dcm', '1-093.dcm', '1-091.dcm', '1-118.dcm', '1-087.dcm', '1-124.dcm', '1-085.dcm', '1-130.dcm', '1-052.dcm', '1-119.dcm', '1-086.dcm', '1-092.dcm', '1-051.dcm', '1-045.dcm', '1-131.dcm', '1-125.dcm', '1-079.dcm', '1-060.dcm', '1-074.dcm', '1-100.dcm', '1-048.dcm', '1-101.dcm', '1-115.dcm', '1-049.dcm', '1-075.dcm', '1-061.dcm', '1-077.dcm', '1-114.dcm', '1-022.dcm', '1-036.dcm', '1-034.dcm', '1-008.dcm', '1-009.dcm', '1-018.dcm', '1-020.dcm', '1-030.dcm', '1-024.dcm', '1-023.dcm', '1-035.dcm', '1-037.dcm', '1-031.dcm', '1-021.dcm', '1-025.dcm', '1-026.dcm', '1-032.dcm', '1-055.dcm', '1-041.dcm', '1-069.dcm']\n",
            "----------------------------------------\n",
            "Current folder: /content/drive/MyDrive/LIDC-IDRI/LIDC-IDRI-0006\n",
            "Subfolders: ['01-01-2000-NA-NA-15339', '01-01-2000-NA-NA-92500']\n",
            "Files: []\n",
            "----------------------------------------\n",
            "Current folder: /content/drive/MyDrive/LIDC-IDRI/LIDC-IDRI-0006/01-01-2000-NA-NA-15339\n",
            "Subfolders: ['3000974.000000-NA-44874']\n",
            "Files: []\n",
            "----------------------------------------\n",
            "Current folder: /content/drive/MyDrive/LIDC-IDRI/LIDC-IDRI-0006/01-01-2000-NA-NA-15339/3000974.000000-NA-44874\n",
            "Subfolders: []\n",
            "Files: ['1-1.dcm', '1-2.dcm']\n",
            "----------------------------------------\n",
            "Current folder: /content/drive/MyDrive/LIDC-IDRI/LIDC-IDRI-0006/01-01-2000-NA-NA-92500\n",
            "Subfolders: ['3000556.000000-NA-20957']\n",
            "Files: []\n",
            "----------------------------------------\n",
            "Current folder: /content/drive/MyDrive/LIDC-IDRI/LIDC-IDRI-0006/01-01-2000-NA-NA-92500/3000556.000000-NA-20957\n",
            "Subfolders: []\n",
            "Files: ['1-045.dcm', '1-128.dcm', '1-114.dcm', '1-100.dcm', '1-129.dcm', '1-051.dcm', '1-115.dcm', '1-101.dcm', '1-063.dcm', '1-088.dcm', '1-117.dcm', '1-077.dcm', '1-102.dcm', '1-103.dcm', '1-089.dcm', '1-116.dcm', '1-049.dcm', '1-061.dcm', '1-075.dcm', '1-076.dcm', '1-062.dcm', '1-106.dcm', '1-112.dcm', '1-099.dcm', '1-113.dcm', '1-098.dcm', '1-107.dcm', '1-066.dcm', '1-072.dcm', '1-073.dcm', '1-067.dcm', '1-059.dcm', '1-071.dcm', '1-104.dcm', '1-064.dcm', '1-110.dcm', '1-058.dcm', '1-070.dcm', '1-065.dcm', '1-105.dcm', '1-003.dcm', '1-017.dcm', '1-002.dcm', '1-111.dcm', '1-016.dcm', '1-014.dcm', '1-001.dcm', '1-015.dcm', '1-028.dcm', '1-039.dcm', '1-005.dcm', '1-004.dcm', '1-010.dcm', '1-029.dcm', '1-011.dcm', '1-038.dcm', '1-012.dcm', '1-006.dcm', '1-007.dcm', '1-013.dcm', '1-008.dcm', '1-025.dcm', '1-019.dcm', '1-033.dcm', '1-034.dcm', '1-027.dcm', '1-041.dcm', '1-082.dcm', '1-096.dcm', '1-069.dcm', '1-026.dcm', '1-032.dcm', '1-109.dcm', '1-121.dcm', '1-120.dcm', '1-108.dcm', '1-055.dcm', '1-083.dcm', '1-097.dcm', '1-056.dcm', '1-042.dcm', '1-081.dcm', '1-095.dcm', '1-068.dcm', '1-094.dcm', '1-123.dcm', '1-122.dcm', '1-080.dcm', '1-040.dcm', '1-054.dcm', '1-057.dcm', '1-133.dcm', '1-043.dcm', '1-090.dcm', '1-126.dcm', '1-127.dcm', '1-091.dcm', '1-085.dcm', '1-047.dcm', '1-132.dcm', '1-052.dcm', '1-053.dcm', '1-046.dcm', '1-084.dcm', '1-118.dcm', '1-087.dcm', '1-078.dcm', '1-093.dcm', '1-124.dcm', '1-130.dcm', '1-125.dcm', '1-050.dcm', '1-131.dcm', '1-119.dcm', '1-044.dcm', '1-086.dcm', '1-092.dcm', '1-079.dcm', '1-074.dcm', '1-060.dcm', '1-048.dcm', '1-022.dcm', '1-036.dcm', '1-037.dcm', '1-023.dcm', '1-021.dcm', '1-035.dcm', '1-009.dcm', '1-020.dcm', '1-024.dcm', '1-018.dcm', '1-031.dcm', '1-030.dcm']\n",
            "----------------------------------------\n",
            "Current folder: /content/drive/MyDrive/LIDC-IDRI/LIDC-IDRI-0007\n",
            "Subfolders: ['01-01-2000-NA-NA-81781', '01-01-2000-NA-NA-08604']\n",
            "Files: []\n",
            "----------------------------------------\n",
            "Current folder: /content/drive/MyDrive/LIDC-IDRI/LIDC-IDRI-0007/01-01-2000-NA-NA-81781\n",
            "Subfolders: ['3000631.000000-NA-57680']\n",
            "Files: []\n",
            "----------------------------------------\n",
            "Current folder: /content/drive/MyDrive/LIDC-IDRI/LIDC-IDRI-0007/01-01-2000-NA-NA-81781/3000631.000000-NA-57680\n",
            "Subfolders: []\n",
            "Files: ['1-039.dcm', '1-007.dcm', '1-006.dcm', '1-012.dcm', '1-013.dcm', '1-005.dcm', '1-100.dcm', '1-115.dcm', '1-129.dcm', '1-101.dcm', '1-049.dcm', '1-075.dcm', '1-063.dcm', '1-114.dcm', '1-061.dcm', '1-077.dcm', '1-128.dcm', '1-088.dcm', '1-117.dcm', '1-116.dcm', '1-089.dcm', '1-076.dcm', '1-062.dcm', '1-072.dcm', '1-103.dcm', '1-066.dcm', '1-099.dcm', '1-112.dcm', '1-102.dcm', '1-106.dcm', '1-107.dcm', '1-067.dcm', '1-059.dcm', '1-073.dcm', '1-071.dcm', '1-065.dcm', '1-139.dcm', '1-113.dcm', '1-098.dcm', '1-111.dcm', '1-105.dcm', '1-110.dcm', '1-104.dcm', '1-058.dcm', '1-003.dcm', '1-002.dcm', '1-138.dcm', '1-017.dcm', '1-014.dcm', '1-016.dcm', '1-029.dcm', '1-064.dcm', '1-028.dcm', '1-070.dcm', '1-015.dcm', '1-001.dcm', '1-010.dcm', '1-011.dcm', '1-004.dcm', '1-038.dcm', '1-141.dcm', '1-036.dcm', '1-140.dcm', '1-020.dcm', '1-024.dcm', '1-030.dcm', '1-018.dcm', '1-144.dcm', '1-008.dcm', '1-145.dcm', '1-025.dcm', '1-031.dcm', '1-034.dcm', '1-019.dcm', '1-033.dcm', '1-055.dcm', '1-096.dcm', '1-069.dcm', '1-041.dcm', '1-027.dcm', '1-026.dcm', '1-082.dcm', '1-121.dcm', '1-109.dcm', '1-135.dcm', '1-032.dcm', '1-108.dcm', '1-134.dcm', '1-097.dcm', '1-068.dcm', '1-040.dcm', '1-054.dcm', '1-120.dcm', '1-081.dcm', '1-056.dcm', '1-042.dcm', '1-083.dcm', '1-095.dcm', '1-122.dcm', '1-136.dcm', '1-123.dcm', '1-057.dcm', '1-043.dcm', '1-080.dcm', '1-047.dcm', '1-053.dcm', '1-137.dcm', '1-090.dcm', '1-084.dcm', '1-133.dcm', '1-127.dcm', '1-094.dcm', '1-085.dcm', '1-052.dcm', '1-078.dcm', '1-050.dcm', '1-046.dcm', '1-126.dcm', '1-044.dcm', '1-087.dcm', '1-093.dcm', '1-132.dcm', '1-048.dcm', '1-125.dcm', '1-074.dcm', '1-060.dcm', '1-131.dcm', '1-130.dcm', '1-119.dcm', '1-045.dcm', '1-092.dcm', '1-079.dcm', '1-051.dcm', '1-086.dcm', '1-124.dcm', '1-118.dcm', '1-091.dcm', '1-022.dcm', '1-143.dcm', '1-023.dcm', '1-142.dcm', '1-037.dcm', '1-021.dcm', '1-009.dcm', '1-035.dcm']\n",
            "----------------------------------------\n",
            "Current folder: /content/drive/MyDrive/LIDC-IDRI/LIDC-IDRI-0007/01-01-2000-NA-NA-08604\n",
            "Subfolders: ['3000981.000000-NA-87749']\n",
            "Files: []\n",
            "----------------------------------------\n",
            "Current folder: /content/drive/MyDrive/LIDC-IDRI/LIDC-IDRI-0007/01-01-2000-NA-NA-08604/3000981.000000-NA-87749\n",
            "Subfolders: []\n",
            "Files: ['1-4.dcm', '1-1.dcm', '1-2.dcm', '1-3.dcm']\n",
            "----------------------------------------\n",
            "Current folder: /content/drive/MyDrive/LIDC-IDRI/LIDC-IDRI-0009\n",
            "Subfolders: ['01-01-2000-NA-NA-07045', '01-01-2000-NA-NA-83184']\n",
            "Files: []\n",
            "----------------------------------------\n",
            "Current folder: /content/drive/MyDrive/LIDC-IDRI/LIDC-IDRI-0009/01-01-2000-NA-NA-07045\n",
            "Subfolders: ['3000538.000000-NA-29210']\n",
            "Files: []\n",
            "----------------------------------------\n",
            "Current folder: /content/drive/MyDrive/LIDC-IDRI/LIDC-IDRI-0009/01-01-2000-NA-NA-07045/3000538.000000-NA-29210\n",
            "Subfolders: []\n",
            "Files: ['1-062.dcm', '1-106.dcm', '1-112.dcm', '1-099.dcm', '1-107.dcm', '1-098.dcm', '1-066.dcm', '1-113.dcm', '1-073.dcm', '1-059.dcm', '1-072.dcm', '1-067.dcm', '1-071.dcm', '1-110.dcm', '1-111.dcm', '1-104.dcm', '1-065.dcm', '1-139.dcm', '1-138.dcm', '1-064.dcm', '1-070.dcm', '1-058.dcm', '1-017.dcm', '1-105.dcm', '1-003.dcm', '1-163.dcm', '1-162.dcm', '1-176.dcm', '1-014.dcm', '1-016.dcm', '1-002.dcm', '1-177.dcm', '1-028.dcm', '1-160.dcm', '1-174.dcm', '1-188.dcm', '1-148.dcm', '1-029.dcm', '1-175.dcm', '1-015.dcm', '1-039.dcm', '1-149.dcm', '1-005.dcm', '1-001.dcm', '1-011.dcm', '1-159.dcm', '1-161.dcm', '1-171.dcm', '1-165.dcm', '1-004.dcm', '1-164.dcm', '1-010.dcm', '1-038.dcm', '1-006.dcm', '1-012.dcm', '1-170.dcm', '1-166.dcm', '1-173.dcm', '1-172.dcm', '1-158.dcm', '1-167.dcm', '1-007.dcm', '1-013.dcm', '1-094.dcm', '1-137.dcm', '1-080.dcm', '1-057.dcm', '1-043.dcm', '1-084.dcm', '1-090.dcm', '1-126.dcm', '1-133.dcm', '1-127.dcm', '1-091.dcm', '1-047.dcm', '1-053.dcm', '1-132.dcm', '1-085.dcm', '1-060.dcm', '1-074.dcm', '1-079.dcm', '1-100.dcm', '1-048.dcm', '1-114.dcm', '1-092.dcm', '1-086.dcm', '1-119.dcm', '1-125.dcm', '1-131.dcm', '1-050.dcm', '1-078.dcm', '1-087.dcm', '1-044.dcm', '1-093.dcm', '1-118.dcm', '1-124.dcm', '1-130.dcm', '1-046.dcm', '1-052.dcm', '1-045.dcm', '1-129.dcm', '1-128.dcm', '1-051.dcm', '1-115.dcm', '1-101.dcm', '1-077.dcm', '1-063.dcm', '1-117.dcm', '1-088.dcm', '1-116.dcm', '1-049.dcm', '1-103.dcm', '1-102.dcm', '1-089.dcm', '1-061.dcm', '1-075.dcm', '1-076.dcm', '1-036.dcm', '1-022.dcm', '1-180.dcm', '1-157.dcm', '1-181.dcm', '1-037.dcm', '1-023.dcm', '1-143.dcm', '1-142.dcm', '1-156.dcm', '1-035.dcm', '1-021.dcm', '1-009.dcm', '1-155.dcm', '1-183.dcm', '1-168.dcm', '1-182.dcm', '1-140.dcm', '1-154.dcm', '1-008.dcm', '1-141.dcm', '1-169.dcm', '1-020.dcm', '1-034.dcm', '1-018.dcm', '1-024.dcm', '1-144.dcm', '1-030.dcm', '1-187.dcm', '1-145.dcm', '1-186.dcm', '1-031.dcm', '1-179.dcm', '1-178.dcm', '1-151.dcm', '1-025.dcm', '1-019.dcm', '1-150.dcm', '1-033.dcm', '1-184.dcm', '1-185.dcm', '1-153.dcm', '1-152.dcm', '1-146.dcm', '1-032.dcm', '1-027.dcm', '1-026.dcm', '1-055.dcm', '1-147.dcm', '1-041.dcm', '1-121.dcm', '1-108.dcm', '1-109.dcm', '1-135.dcm', '1-134.dcm', '1-069.dcm', '1-096.dcm', '1-042.dcm', '1-136.dcm', '1-095.dcm', '1-081.dcm', '1-122.dcm', '1-123.dcm', '1-054.dcm', '1-056.dcm', '1-040.dcm', '1-068.dcm', '1-082.dcm', '1-120.dcm', '1-097.dcm', '1-083.dcm']\n",
            "----------------------------------------\n",
            "Current folder: /content/drive/MyDrive/LIDC-IDRI/LIDC-IDRI-0009/01-01-2000-NA-NA-83184\n",
            "Subfolders: ['3000918.000000-NA-21926']\n",
            "Files: []\n",
            "----------------------------------------\n",
            "Current folder: /content/drive/MyDrive/LIDC-IDRI/LIDC-IDRI-0009/01-01-2000-NA-NA-83184/3000918.000000-NA-21926\n",
            "Subfolders: []\n",
            "Files: ['1-1.dcm']\n",
            "----------------------------------------\n"
          ]
        }
      ]
    },
    {
      "cell_type": "code",
      "source": [
        "# Example: List only .dcm files in a folder\n",
        "dcm_files = [f for f in os.listdir(deepest_subfolder_path) if f.endswith('.dcm')]\n",
        "print(dcm_files)\n"
      ],
      "metadata": {
        "colab": {
          "base_uri": "https://localhost:8080/"
        },
        "id": "EdbPriBWHyv8",
        "outputId": "dcaf1ab8-ea56-4ad5-da7e-97f05d9e1407"
      },
      "execution_count": null,
      "outputs": [
        {
          "output_type": "stream",
          "name": "stdout",
          "text": [
            "[]\n"
          ]
        }
      ]
    },
    {
      "cell_type": "markdown",
      "source": [
        "# Step 1: Noise Injection"
      ],
      "metadata": {
        "id": "M3zvTUdtMInY"
      }
    },
    {
      "cell_type": "code",
      "source": [
        "!pip install SimpleITK\n"
      ],
      "metadata": {
        "colab": {
          "base_uri": "https://localhost:8080/"
        },
        "id": "5OmtGS5lOA8d",
        "outputId": "b69558e0-7c99-41c7-cfc3-2ecde5ec4769"
      },
      "execution_count": null,
      "outputs": [
        {
          "output_type": "stream",
          "name": "stdout",
          "text": [
            "Collecting SimpleITK\n",
            "  Downloading SimpleITK-2.4.0-cp310-cp310-manylinux_2_17_x86_64.manylinux2014_x86_64.whl.metadata (7.9 kB)\n",
            "Downloading SimpleITK-2.4.0-cp310-cp310-manylinux_2_17_x86_64.manylinux2014_x86_64.whl (52.4 MB)\n",
            "\u001b[2K   \u001b[90m━━━━━━━━━━━━━━━━━━━━━━━━━━━━━━━━━━━━━━━━\u001b[0m \u001b[32m52.4/52.4 MB\u001b[0m \u001b[31m18.9 MB/s\u001b[0m eta \u001b[36m0:00:00\u001b[0m\n",
            "\u001b[?25hInstalling collected packages: SimpleITK\n",
            "Successfully installed SimpleITK-2.4.0\n"
          ]
        }
      ]
    },
    {
      "cell_type": "code",
      "source": [
        "import numpy as np\n",
        "import matplotlib.pyplot as plt\n",
        "import SimpleITK as sitk  # for loading medical images like DICOM or NIfTI\n",
        "\n",
        "# Function to add Gaussian noise to an image\n",
        "def add_gaussian_noise(image, sigma=0.1):\n",
        "    noisy_image = image + np.random.normal(0, sigma, image.shape)\n",
        "    return np.clip(noisy_image, 0, 255)  # Clipping the noisy image to valid pixel range (0-255)\n",
        "\n",
        "# Load a sample image from LIDC-IDRI\n",
        "image_path = '/content/drive/MyDrive/LIDC-IDRI/LIDC-IDRI-0001/01-01-2000-NA-NA-30178/3000566.000000-NA-03192/1-001.dcm'\n",
        "image = sitk.ReadImage(image_path)\n",
        "image_array = sitk.GetArrayFromImage(image)  # Convert to numpy array\n",
        "\n",
        "# Add Gaussian noise to the image\n",
        "noisy_image = add_gaussian_noise(image_array, sigma=0.1)\n",
        "\n",
        "# Visualize the noisy image (e.g., middle slice if 3D)\n",
        "middle_slice = noisy_image[noisy_image.shape[0] // 2]\n",
        "plt.imshow(middle_slice, cmap='gray')\n",
        "plt.title('Noisy Image')\n",
        "plt.show()\n",
        "\n",
        "# Save the noisy image (optional)\n",
        "noisy_image_path = 'path_to_save_noisy_image.npy'\n",
        "np.save(noisy_image_path, noisy_image)  # Save as numpy array or save in preferred format\n"
      ],
      "metadata": {
        "colab": {
          "base_uri": "https://localhost:8080/",
          "height": 452
        },
        "id": "-3TFQVZJMG87",
        "outputId": "52eadb37-0de8-4156-e4ec-37923cec463b"
      },
      "execution_count": null,
      "outputs": [
        {
          "output_type": "display_data",
          "data": {
            "text/plain": [
              "<Figure size 640x480 with 1 Axes>"
            ],
            "image/png": "[encoded data removed]"
          },
          "metadata": {}
        }
      ]
    },
    {
      "cell_type": "markdown",
      "source": [
        "# Convert 3D Segmentation to Point Cloud"
      ],
      "metadata": {
        "id": "BH5UtwaqREA1"
      }
    },
    {
      "cell_type": "code",
      "source": [
        "import numpy as np\n",
        "import SimpleITK as sitk\n",
        "import matplotlib.pyplot as plt\n",
        "from skimage.measure import marching_cubes\n",
        "\n",
        "# Function to generate a 3D point cloud from a binary segmentation mask\n",
        "def segmentation_to_point_cloud(segmentation):\n",
        "    # Extract coordinates where the mask is non-zero (i.e., the structure of interest)\n",
        "    coordinates = np.argwhere(segmentation > 0)  # Get the coordinates of the non-zero voxels\n",
        "    return coordinates\n",
        "\n",
        "# Load a segmentation mask (binary, 3D)\n",
        "segmentation_path = '/content/drive/MyDrive/LIDC-IDRI/LIDC-IDRI-0001/01-01-2000-NA-NA-30178/3000566.000000-NA-03192/1-001.dcm'  # Use the actual path to the segmentation\n",
        "segmentation_image = sitk.ReadImage(segmentation_path)\n",
        "segmentation_array = sitk.GetArrayFromImage(segmentation_image)  # Convert to numpy array\n",
        "\n",
        "# Generate point cloud from segmentation\n",
        "point_cloud = segmentation_to_point_cloud(segmentation_array)\n",
        "\n",
        "# Visualize a slice of the point cloud (e.g., first slice or middle slice)\n",
        "slice_index = segmentation_array.shape[0] // 2\n",
        "plt.imshow(segmentation_array[slice_index], cmap='gray')\n",
        "plt.title(f'Segmentation Slice {slice_index}')\n",
        "plt.show()\n",
        "\n",
        "# Optionally: Save the point cloud for later use\n",
        "point_cloud_path = '/content/drive/MyDrive/LIDC-IDRI'\n",
        "np.save(point_cloud_path, point_cloud)  # Save as a numpy array\n",
        "\n",
        "# Check the shape of the point cloud\n",
        "print(f\"Generated point cloud with {point_cloud.shape[0]} points.\")\n"
      ],
      "metadata": {
        "colab": {
          "base_uri": "https://localhost:8080/",
          "height": 470
        },
        "id": "RrjZqCiYRB-X",
        "outputId": "e3519911-a724-4c30-ca0f-93bf548a198f"
      },
      "execution_count": null,
      "outputs": [
        {
          "output_type": "display_data",
          "data": {
            "text/plain": [
              "<Figure size 640x480 with 1 Axes>"
            ],
            "image/png": "[encoded data removed]"
          },
          "metadata": {}
        },
        {
          "output_type": "stream",
          "name": "stdout",
          "text": [
            "Generated point cloud with 41299 points.\n"
          ]
        }
      ]
    },
    {
      "cell_type": "markdown",
      "source": [
        "# Chamfer Distance and EMD"
      ],
      "metadata": {
        "id": "i7r3q06BSBTG"
      }
    },
    {
      "cell_type": "code",
      "source": [
        "import torch\n",
        "import torch.nn.functional as F\n",
        "\n",
        "# Chamfer Distance for comparing two point clouds\n",
        "def chamfer_distance(p1, p2):\n",
        "    # Convert point clouds to tensors\n",
        "    p1 = torch.tensor(p1, dtype=torch.float32)\n",
        "    p2 = torch.tensor(p2, dtype=torch.float32)\n",
        "\n",
        "    # Pair each point in p1 to the closest point in p2\n",
        "    dist1 = torch.cdist(p1, p2)\n",
        "    dist2 = torch.cdist(p2, p1)\n",
        "\n",
        "    # Chamfer distance is the sum of the closest point distances\n",
        "    return torch.mean(torch.min(dist1, dim=1)[0]) + torch.mean(torch.min(dist2, dim=1)[0])\n",
        "\n",
        "# Example usage with random point clouds (replace with your actual data)\n",
        "point_cloud_1 = np.random.rand(100, 3)  # Simulate point cloud 1 (replace with your data)\n",
        "point_cloud_2 = np.random.rand(100, 3)  # Simulate point cloud 2 (replace with your data)\n",
        "\n",
        "# Compute Chamfer distance\n",
        "chamfer_dist = chamfer_distance(point_cloud_1, point_cloud_2)\n",
        "print(f\"Chamfer Distance: {chamfer_dist.item()}\")\n"
      ],
      "metadata": {
        "colab": {
          "base_uri": "https://localhost:8080/"
        },
        "id": "4mK_4l7ASDcL",
        "outputId": "4456196d-162b-429c-bf2c-7c4028ce10ab"
      },
      "execution_count": null,
      "outputs": [
        {
          "output_type": "stream",
          "name": "stdout",
          "text": [
            "Chamfer Distance: 0.2543483078479767\n"
          ]
        }
      ]
    },
    {
      "cell_type": "markdown",
      "source": [
        "# Combining Denoising and 3D Reconstruction (Joint Framework)"
      ],
      "metadata": {
        "id": "gz41mod7SfAc"
      }
    },
    {
      "cell_type": "markdown",
      "source": [
        "# Define the Model Architecture"
      ],
      "metadata": {
        "id": "yX8zHp3lSkFG"
      }
    },
    {
      "cell_type": "code",
      "source": [
        " class DenoisingModel(nn.Module):\n",
        "    def __init__(self):\n",
        "        super(DenoisingModel, self).__init__()\n",
        "        self.conv1 = nn.Conv2d(1, 32, kernel_size=3, padding=1)\n",
        "        self.conv2 = nn.Conv2d(32, 64, kernel_size=3, padding=1)\n",
        "        self.fc1 = nn.Linear(64*128*128, 1000)  # This needs to be dynamically adjusted\n",
        "        self.fc2 = nn.Linear(1000, 1)  # Output image\n",
        "\n",
        "    def forward(self, x):\n",
        "        x = F.relu(self.conv1(x))\n",
        "        x = F.relu(self.conv2(x))\n",
        "\n",
        "        # Print the shape of x before flattening\n",
        "        print(f\"Shape before flattening: {x.shape}\")\n",
        "\n",
        "        x = x.view(x.size(0), -1)  # Flatten before fully connected layers\n",
        "\n",
        "        # Ensure the right input size to the first fully connected layer\n",
        "        x = F.relu(self.fc1(x))\n",
        "        x = self.fc2(x)\n",
        "        return x\n"
      ],
      "metadata": {
        "id": "DtthmoqqSmVK"
      },
      "execution_count": null,
      "outputs": []
    },
    {
      "cell_type": "markdown",
      "source": [
        "# Define the Loss Function"
      ],
      "metadata": {
        "id": "j3nBuci4SvII"
      }
    },
    {
      "cell_type": "code",
      "source": [
        "# Denoising Loss (MSE)\n",
        "def denoising_loss(noisy_image, clean_image):\n",
        "    return F.mse_loss(noisy_image, clean_image)\n",
        "\n",
        "# Combined Loss Function (Denoising + Reconstruction)\n",
        "def total_loss(denoised_image, point_cloud_pred, clean_image, true_point_cloud, alpha=0.5, beta=0.5):\n",
        "    # Denoising loss (MSE between denoised and clean image)\n",
        "    loss_denoise = denoising_loss(denoised_image, clean_image)\n",
        "\n",
        "    # Reconstruction loss (Chamfer Distance between predicted point cloud and true point cloud)\n",
        "    loss_reconstruction = chamfer_distance(point_cloud_pred, true_point_cloud)\n",
        "\n",
        "    # Combine the two losses with weighted sum\n",
        "    total_loss = alpha * loss_denoise + beta * loss_reconstruction\n",
        "    return total_loss\n"
      ],
      "metadata": {
        "id": "8rUmNaiHS0Q4"
      },
      "execution_count": null,
      "outputs": []
    },
    {
      "cell_type": "markdown",
      "source": [
        "# Optimization Setup"
      ],
      "metadata": {
        "id": "tg9k6ONLS13h"
      }
    },
    {
      "cell_type": "code",
      "source": [
        "optimizer = optim.Adam(model.parameters(), lr=0.0001)\n"
      ],
      "metadata": {
        "id": "Oa7caZLJS6YW"
      },
      "execution_count": null,
      "outputs": []
    },
    {
      "cell_type": "markdown",
      "source": [
        "# Training Loop"
      ],
      "metadata": {
        "id": "txaxCtNqS8JJ"
      }
    },
    {
      "cell_type": "code",
      "source": [
        "class MedicalImageDataset(Dataset):\n",
        "    def __init__(self, image_paths, point_cloud_paths, transform=None):\n",
        "        self.image_paths = image_paths\n",
        "        self.point_cloud_paths = point_cloud_paths\n",
        "        self.transform = transform\n",
        "\n",
        "    def __len__(self):\n",
        "        return len(self.image_paths)\n",
        "\n",
        "    def __getitem__(self, idx):\n",
        "        # Load the noisy image\n",
        "        noisy_image = np.load(self.image_paths[idx])  # Assuming noisy image is saved as numpy file\n",
        "        # For clean image, you can use noisy image as the ground truth for now\n",
        "        clean_image = noisy_image\n",
        "        # Load the corresponding point cloud (ground truth)\n",
        "        point_cloud = np.load(self.point_cloud_paths[idx])  # Assuming point cloud is stored as numpy file\n",
        "\n",
        "        if self.transform:\n",
        "            noisy_image = self.transform(noisy_image)\n",
        "            clean_image = self.transform(clean_image)\n",
        "\n",
        "        return torch.tensor(noisy_image, dtype=torch.float32), torch.tensor(clean_image, dtype=torch.float32), torch.tensor(point_cloud, dtype=torch.float32)\n",
        "\n",
        "# Update paths to actual file paths\n",
        "image_paths = ['/content/path_to_save_noisy_image.npy']  # Noisy image paths\n",
        "point_cloud_paths = ['/content/drive/MyDrive/point_cloud_paths.npy']  # Point cloud paths\n",
        "\n",
        "# Instantiate dataset and dataloader\n",
        "dataset = MedicalImageDataset(image_paths, point_cloud_paths)\n",
        "dataloader = DataLoader(dataset, batch_size=4, shuffle=True)\n",
        "\n",
        "# Example of loading a batch\n",
        "for noisy_image, clean_image, true_point_cloud in dataloader:\n",
        "    # Now you have the batch for training\n",
        "    print(noisy_image.shape, clean_image.shape, true_point_cloud.shape)\n"
      ],
      "metadata": {
        "colab": {
          "base_uri": "https://localhost:8080/"
        },
        "id": "DLKEIILkZCJM",
        "outputId": "65d12442-caab-4f9e-dc48-c3ce6e1049f9"
      },
      "execution_count": null,
      "outputs": [
        {
          "output_type": "stream",
          "name": "stdout",
          "text": [
            "torch.Size([1, 1, 512, 512]) torch.Size([1, 1, 512, 512]) torch.Size([1, 41299, 3])\n"
          ]
        }
      ]
    },
    {
      "cell_type": "markdown",
      "source": [
        "# Integrating Denoising and 3D Reconstruction (Joint Framework)"
      ],
      "metadata": {
        "id": "JFlaMUagaUdO"
      }
    },
    {
      "cell_type": "markdown",
      "source": [
        "# Step 1: Denoising Model"
      ],
      "metadata": {
        "id": "x9UZ_K3maYnr"
      }
    },
    {
      "source": [
        "class DenoisingModel(nn.Module):\n",
        "    def __init__(self):\n",
        "        super(DenoisingModel, self).__init__()\n",
        "        self.conv1 = nn.Conv2d(1, 32, kernel_size=3, padding=1)\n",
        "        self.conv2 = nn.Conv2d(32, 64, kernel_size=3, padding=1)\n",
        "        self.fc1 = nn.Linear(64*128*128, 1000)  # This needs to be dynamically adjusted\n",
        "        self.fc2 = nn.Linear(1000, 1)  # Output image\n",
        "\n",
        "    def forward(self, x):\n",
        "        x = F.relu(self.conv1(x))\n",
        "        x = F.relu(self.conv2(x))\n",
        "\n",
        "        # Print the shape of x before flattening\n",
        "        print(f\"Shape before flattening: {x.shape}\")\n",
        "\n",
        "        x = x.view(x.size(0), -1)  # Flatten before fully connected layers\n",
        "\n",
        "        # Ensure the right input size to the first fully connected layer\n",
        "        x = F.relu(self.fc1(x))\n",
        "        x = self.fc2(x)\n",
        "        return x\n",
        "\n"
      ],
      "cell_type": "code",
      "metadata": {
        "id": "sc-CnyY2dGkJ"
      },
      "execution_count": null,
      "outputs": []
    },
    {
      "cell_type": "markdown",
      "source": [
        "# 3D Reconstruction Model"
      ],
      "metadata": {
        "id": "ihXQgJBfae6A"
      }
    },
    {
      "cell_type": "code",
      "source": [
        "class ReconstructionModel(torch.nn.Module):\n",
        "    def __init__(self):\n",
        "        super(ReconstructionModel, self).__init__()\n",
        "        # Example layers for 3D reconstruction\n",
        "        self.fc = torch.nn.Linear(512 * 512, 3)  # Outputting 3D coordinates (x, y, z)\n",
        "\n",
        "    def forward(self, x):\n",
        "        x = x.view(x.size(0), -1)  # Flatten the image\n",
        "        point_cloud = self.fc(x)\n",
        "        return point_cloud\n",
        "\n",
        "# Instantiate the reconstruction model\n",
        "reconstruction_model = ReconstructionModel()\n",
        "\n",
        "# Chamfer Distance Loss for 3D reconstruction\n",
        "def chamfer_distance(pc1, pc2):\n",
        "    dist1 = torch.cdist(pc1, pc2)  # Calculate distance between points\n",
        "    dist2 = torch.cdist(pc2, pc1)\n",
        "    return torch.mean(torch.min(dist1, dim=1)[0]) + torch.mean(torch.min(dist2, dim=1)[0])\n",
        "\n",
        "# Loss function for 3D reconstruction\n",
        "reconstruction_loss_fn = chamfer_distance\n"
      ],
      "metadata": {
        "id": "FNrQf2xMai6z"
      },
      "execution_count": null,
      "outputs": []
    },
    {
      "cell_type": "markdown",
      "source": [
        "# Training Loop (Combining Both Tasks)"
      ],
      "metadata": {
        "id": "XZ7zCHPbamCn"
      }
    },
    {
      "cell_type": "code",
      "source": [
        "class ReconstructionModel(nn.Module):\n",
        "    def __init__(self):\n",
        "        super(ReconstructionModel, self).__init__()\n",
        "        # Define a simple 3D reconstruction network (adjust as necessary)\n",
        "        self.fc1 = nn.Linear(128 * 128 * 64, 1000)\n",
        "        self.fc2 = nn.Linear(1000, 3)  # Assuming you're outputting a 3D point cloud\n",
        "\n",
        "    def forward(self, x):\n",
        "        x = x.view(x.size(0), -1)  # Flatten the input\n",
        "        x = F.relu(self.fc1(x))\n",
        "        x = self.fc2(x)\n",
        "        return x\n"
      ],
      "metadata": {
        "id": "pkB_5RHStcxV"
      },
      "execution_count": null,
      "outputs": []
    },
    {
      "cell_type": "markdown",
      "source": [
        "# Using the Model in the Training Loop:"
      ],
      "metadata": {
        "id": "quwWb4CEbc8e"
      }
    },
    {
      "cell_type": "code",
      "source": [
        "# Example with correct paths\n",
        "image_paths = ['/content/drive/MyDrive/LIDC-IDRI/LIDC-IDRI-0001/01-01-2000-NA-NA-30178/3000566.000000-NA-03192/1-001.dcm']  # Add your noisy image paths\n",
        "point_cloud_paths = ['/content/drive/MyDrive/point_cloud_paths.npy']  # Add point cloud paths\n",
        "\n",
        "dataset = MedicalImageDataset(image_paths, point_cloud_paths, transform=transform)\n",
        "dataloader = DataLoader(dataset, batch_size=1, shuffle=True, num_workers=0)\n"
      ],
      "metadata": {
        "id": "PCz7VjzFlAmT"
      },
      "execution_count": null,
      "outputs": []
    },
    {
      "cell_type": "code",
      "source": [
        "!pip install pydicom\n"
      ],
      "metadata": {
        "colab": {
          "base_uri": "https://localhost:8080/"
        },
        "id": "25O5HcOglOTZ",
        "outputId": "342d3da2-2516-49b9-87bc-9a0790c5e4c6"
      },
      "execution_count": null,
      "outputs": [
        {
          "output_type": "stream",
          "name": "stdout",
          "text": [
            "Collecting pydicom\n",
            "  Downloading pydicom-3.0.1-py3-none-any.whl.metadata (9.4 kB)\n",
            "Downloading pydicom-3.0.1-py3-none-any.whl (2.4 MB)\n",
            "\u001b[?25l   \u001b[90m━━━━━━━━━━━━━━━━━━━━━━━━━━━━━━━━━━━━━━━━\u001b[0m \u001b[32m0.0/2.4 MB\u001b[0m \u001b[31m?\u001b[0m eta \u001b[36m-:--:--\u001b[0m\r\u001b[2K   \u001b[91m━━━━━━━━━\u001b[0m\u001b[90m╺\u001b[0m\u001b[90m━━━━━━━━━━━━━━━━━━━━━━━━━━━━━━\u001b[0m \u001b[32m0.5/2.4 MB\u001b[0m \u001b[31m17.1 MB/s\u001b[0m eta \u001b[36m0:00:01\u001b[0m\r\u001b[2K   \u001b[91m━━━━━━━━━━━━━━━━━━━━━━━━━━━━━━━━━━━━━━━\u001b[0m\u001b[91m╸\u001b[0m \u001b[32m2.4/2.4 MB\u001b[0m \u001b[31m47.8 MB/s\u001b[0m eta \u001b[36m0:00:01\u001b[0m\r\u001b[2K   \u001b[90m━━━━━━━━━━━━━━━━━━━━━━━━━━━━━━━━━━━━━━━━\u001b[0m \u001b[32m2.4/2.4 MB\u001b[0m \u001b[31m32.5 MB/s\u001b[0m eta \u001b[36m0:00:00\u001b[0m\n",
            "\u001b[?25hInstalling collected packages: pydicom\n",
            "Successfully installed pydicom-3.0.1\n"
          ]
        }
      ]
    },
    {
      "cell_type": "code",
      "source": [
        "import pydicom\n",
        "import numpy as np\n",
        "\n",
        "def dicom_to_numpy(dicom_path):\n",
        "    dicom_data = pydicom.dcmread(dicom_path)\n",
        "    # If you have pixel data, you can extract it\n",
        "    image = dicom_data.pixel_array\n",
        "    return image\n",
        "\n",
        "# Example usage:\n",
        "dicom_image = dicom_to_numpy('/content/drive/MyDrive/LIDC-IDRI/LIDC-IDRI-0001/01-01-2000-NA-NA-30178/3000566.000000-NA-03192/1-001.dcm')\n",
        "print(dicom_image.shape)\n"
      ],
      "metadata": {
        "colab": {
          "base_uri": "https://localhost:8080/"
        },
        "id": "wnnzmblRlHNT",
        "outputId": "b027fd31-6db7-4195-f4cd-bb6a833760bd"
      },
      "execution_count": null,
      "outputs": [
        {
          "output_type": "stream",
          "name": "stdout",
          "text": [
            "(512, 512)\n"
          ]
        }
      ]
    },
    {
      "cell_type": "code",
      "source": [
        "class MedicalImageDataset(Dataset):\n",
        "    def __init__(self, image_paths, point_cloud_paths, transform=None):\n",
        "        self.image_paths = image_paths\n",
        "        self.point_cloud_paths = point_cloud_paths\n",
        "        self.transform = transform\n",
        "\n",
        "    def __len__(self):\n",
        "        return len(self.image_paths)\n",
        "\n",
        "    def __getitem__(self, idx):\n",
        "        # Load DICOM file and convert to numpy array\n",
        "        noisy_image = dicom_to_numpy(self.image_paths[idx])  # Using dicom_to_numpy function\n",
        "        clean_image = dicom_to_numpy(self.image_paths[idx].replace(\"noisy\", \"clean\"))  # Adjust path as necessary\n",
        "        point_cloud = np.load(self.point_cloud_paths[idx])\n",
        "\n",
        "        if self.transform:\n",
        "            noisy_image = self.transform(noisy_image)\n",
        "            clean_image = self.transform(clean_image)\n",
        "\n",
        "        return torch.tensor(noisy_image, dtype=torch.float32), torch.tensor(clean_image, dtype=torch.float32), torch.tensor(point_cloud, dtype=torch.float32)\n"
      ],
      "metadata": {
        "id": "OXfpGkEzloAl"
      },
      "execution_count": null,
      "outputs": []
    },
    {
      "cell_type": "code",
      "source": [
        "import pydicom\n",
        "import numpy as np\n",
        "\n",
        "def dicom_to_numpy(dicom_path):\n",
        "    dicom_data = pydicom.dcmread(dicom_path)\n",
        "    return dicom_data.pixel_array  # This gives you the pixel array from the DICOM file\n"
      ],
      "metadata": {
        "id": "NqfIr45Pl87P"
      },
      "execution_count": null,
      "outputs": []
    },
    {
      "cell_type": "code",
      "source": [
        "from torch.utils.data import Dataset\n",
        "import torch\n",
        "import os\n",
        "import pydicom\n",
        "import numpy as np\n",
        "\n",
        "class MedicalImageDataset(Dataset):\n",
        "    def __init__(self, image_paths, point_cloud_paths, transform=None):\n",
        "        self.image_paths = image_paths\n",
        "        self.point_cloud_paths = point_cloud_paths\n",
        "        self.transform = transform\n",
        "\n",
        "    def __len__(self):\n",
        "        return len(self.image_paths)\n",
        "\n",
        "    def __getitem__(self, idx):\n",
        "        # Load noisy image (DICOM)\n",
        "        noisy_image_path = self.image_paths[idx]\n",
        "        noisy_image = dicom_to_numpy(noisy_image_path)  # Convert DICOM to numpy array\n",
        "\n",
        "        # Load corresponding clean image (assuming you have a clean image file)\n",
        "        clean_image_path = noisy_image_path.replace(\"noisy\", \"clean\")\n",
        "        clean_image = dicom_to_numpy(clean_image_path)  # Convert DICOM to numpy array\n",
        "\n",
        "        # Load point cloud (Assuming it's stored as .npy)\n",
        "        point_cloud = np.load(self.point_cloud_paths[idx])  # Assuming it's in numpy format\n",
        "\n",
        "        # Apply transforms (e.g., resize, normalization)\n",
        "        if self.transform:\n",
        "            noisy_image = self.transform(noisy_image)\n",
        "            clean_image = self.transform(clean_image)\n",
        "\n",
        "        return torch.tensor(noisy_image, dtype=torch.float32), torch.tensor(clean_image, dtype=torch.float32), torch.tensor(point_cloud, dtype=torch.float32)\n"
      ],
      "metadata": {
        "id": "SBrMnlVimNbI"
      },
      "execution_count": null,
      "outputs": []
    },
    {
      "cell_type": "code",
      "source": [
        "from torch.utils.data import DataLoader\n",
        "\n",
        "# Example image and point cloud paths (make sure these paths are correct)\n",
        "image_paths = ['/content/drive/MyDrive/LIDC-IDRI/LIDC-IDRI-0001/01-01-2000-NA-NA-30178/3000566.000000-NA-03192/1-001.dcm']\n",
        "point_cloud_paths = ['/content/drive/MyDrive/point_cloud_paths.npy']\n",
        "\n",
        "# Initialize the dataset\n",
        "dataset = MedicalImageDataset(image_paths, point_cloud_paths)\n",
        "\n",
        "# Create DataLoader\n",
        "dataloader = DataLoader(dataset, batch_size=1, shuffle=True)\n",
        "\n",
        "# Example usage (inside training loop)\n",
        "for noisy_image, clean_image, true_point_cloud in dataloader:\n",
        "    print(noisy_image.shape, clean_image.shape, true_point_cloud.shape)\n"
      ],
      "metadata": {
        "colab": {
          "base_uri": "https://localhost:8080/"
        },
        "id": "2xjbBG_amP7e",
        "outputId": "10b3047d-fc1d-41d2-e943-38983eb45a6c"
      },
      "execution_count": null,
      "outputs": [
        {
          "output_type": "stream",
          "name": "stdout",
          "text": [
            "torch.Size([1, 512, 512]) torch.Size([1, 512, 512]) torch.Size([1, 41299, 3])\n"
          ]
        }
      ]
    },
    {
      "cell_type": "markdown",
      "source": [
        "# Experimenting with Advanced Loss Functions"
      ],
      "metadata": {
        "id": "75EkmaPYbnY4"
      }
    },
    {
      "cell_type": "code",
      "source": [
        "class ReconstructionModel(nn.Module):\n",
        "    def __init__(self):\n",
        "        super(ReconstructionModel, self).__init__()\n",
        "        # Define a simple 3D reconstruction network (adjust as necessary)\n",
        "        self.fc1 = nn.Linear(128 * 128 * 64, 1000)\n",
        "        self.fc2 = nn.Linear(1000, 3)  # Assuming you're outputting a 3D point cloud\n",
        "\n",
        "    def forward(self, x):\n",
        "        x = x.view(x.size(0), -1)  # Flatten the input\n",
        "        x = F.relu(self.fc1(x))\n",
        "        x = self.fc2(x)\n",
        "        return x\n"
      ],
      "metadata": {
        "id": "sNlXsYMwpR-C"
      },
      "execution_count": null,
      "outputs": []
    },
    {
      "cell_type": "code",
      "source": [
        "import os\n",
        "import numpy as np\n",
        "\n",
        "# Paths\n",
        "noisy_image_path = '/content/path_to_save_noisy_image.npy'\n",
        "point_cloud_path = '/content/drive/MyDrive/point_cloud_paths.npy'\n",
        "\n",
        "# Check existence of noisy image file\n",
        "assert os.path.exists(noisy_image_path), f\"Noisy image file not found at {noisy_image_path}\"\n",
        "\n",
        "# Check existence of point cloud paths\n",
        "assert os.path.exists(point_cloud_path), f\"Point cloud paths file not found at {point_cloud_path}\"\n",
        "\n",
        "# Load files to ensure no corruption\n",
        "try:\n",
        "    noisy_images = np.load(noisy_image_path)\n",
        "    point_clouds = np.load(point_cloud_path)\n",
        "    print(\"Noisy images and point clouds loaded successfully!\")\n",
        "except Exception as e:\n",
        "    print(f\"Error loading files: {e}\")\n"
      ],
      "metadata": {
        "colab": {
          "base_uri": "https://localhost:8080/"
        },
        "id": "O7P48WV3tuMz",
        "outputId": "8d1f8a26-b300-4d85-fad9-9bf64e7cb181"
      },
      "execution_count": null,
      "outputs": [
        {
          "output_type": "stream",
          "name": "stdout",
          "text": [
            "Noisy images and point clouds loaded successfully!\n"
          ]
        }
      ]
    },
    {
      "cell_type": "code",
      "source": [
        "import torch\n",
        "from torch.utils.data import Dataset\n",
        "import numpy as np\n",
        "\n",
        "class MedicalImageDataset(Dataset):\n",
        "    def __init__(self, noisy_image_path, clean_image_path=None, point_cloud_path=None):\n",
        "        self.noisy_images = np.load(noisy_image_path)\n",
        "        self.clean_images = np.load(clean_image_path) if clean_image_path else None\n",
        "        self.point_clouds = np.load(point_cloud_path) if point_cloud_path else None\n",
        "\n",
        "    def __len__(self):\n",
        "        return len(self.noisy_images)\n",
        "\n",
        "    def __getitem__(self, idx):\n",
        "        noisy_image = self.noisy_images[idx]\n",
        "        clean_image = self.clean_images[idx] if self.clean_images is not None else None\n",
        "        point_cloud = self.point_clouds[idx] if self.point_clouds is not None else None\n",
        "\n",
        "        # Convert numpy arrays to PyTorch tensors\n",
        "        noisy_image = torch.tensor(noisy_image, dtype=torch.float32)\n",
        "        if clean_image is not None:\n",
        "            clean_image = torch.tensor(clean_image, dtype=torch.float32)\n",
        "        if point_cloud is not None:\n",
        "            point_cloud = torch.tensor(point_cloud, dtype=torch.float32)\n",
        "\n",
        "        return noisy_image, clean_image, point_cloud\n"
      ],
      "metadata": {
        "id": "vsl6MV1ZxKuZ"
      },
      "execution_count": null,
      "outputs": []
    },
    {
      "cell_type": "code",
      "source": [
        "import torch\n",
        "from torch.utils.data import Dataset\n",
        "import numpy as np\n",
        "\n",
        "class MedicalImageDataset(Dataset):\n",
        "    def __init__(self, noisy_image_path, clean_image_path=None, point_cloud_path=None):\n",
        "        self.noisy_images = np.load(noisy_image_path)\n",
        "        self.clean_images = np.load(clean_image_path) if clean_image_path else None\n",
        "        self.point_clouds = np.load(point_cloud_path) if point_cloud_path else None\n",
        "\n",
        "    def __len__(self):\n",
        "        return len(self.noisy_images)\n",
        "\n",
        "    def __getitem__(self, idx):\n",
        "        noisy_image = self.noisy_images[idx]\n",
        "        clean_image = self.clean_images[idx] if self.clean_images is not None else None\n",
        "        point_cloud = self.point_clouds[idx] if self.point_clouds is not None else None\n",
        "\n",
        "        # Convert numpy arrays to PyTorch tensors\n",
        "        noisy_image = torch.tensor(noisy_image, dtype=torch.float32).unsqueeze(0)  # Add channel dimension\n",
        "        if clean_image is not None:\n",
        "            clean_image = torch.tensor(clean_image, dtype=torch.float32).unsqueeze(0)  # Add channel dimension\n",
        "        if point_cloud is not None:\n",
        "            point_cloud = torch.tensor(point_cloud, dtype=torch.float32)\n",
        "\n",
        "        return noisy_image, clean_image, point_cloud\n"
      ],
      "metadata": {
        "id": "9FVAFevVxP7y"
      },
      "execution_count": null,
      "outputs": []
    },
    {
      "cell_type": "code",
      "source": [
        "import torch\n",
        "from torch.utils.data import Dataset\n",
        "import numpy as np\n",
        "\n",
        "class MedicalImageDataset(Dataset):\n",
        "    def __init__(self, noisy_image_path, point_cloud_path):\n",
        "        self.noisy_images = np.load(noisy_image_path)  # Shape: [N, H, W]\n",
        "        self.point_clouds = np.load(point_cloud_path)  # Shape: [N, P, 3] (e.g., Point clouds)\n",
        "\n",
        "    def __len__(self):\n",
        "        return len(self.noisy_images)\n",
        "\n",
        "    def __getitem__(self, idx):\n",
        "        noisy_image = self.noisy_images[idx]\n",
        "        point_cloud = self.point_clouds[idx]\n",
        "\n",
        "        # Convert numpy arrays to PyTorch tensors\n",
        "        noisy_image = torch.tensor(noisy_image, dtype=torch.float32).unsqueeze(0)  # Add channel dim\n",
        "        point_cloud = torch.tensor(point_cloud, dtype=torch.float32)  # No extra dim needed\n",
        "\n",
        "        return noisy_image, point_cloud\n",
        "\n"
      ],
      "metadata": {
        "id": "P1ZgolL52W-X"
      },
      "execution_count": null,
      "outputs": []
    },
    {
      "cell_type": "code",
      "source": [
        "# Paths\n",
        "noisy_image_path = \"/content/path_to_save_noisy_image.npy\"\n",
        "point_cloud_path = \"/content/drive/MyDrive/point_cloud_paths.npy\"\n",
        "\n",
        "# Dataset and DataLoader\n",
        "dataset = MedicalImageDataset(noisy_image_path, point_cloud_path)\n",
        "dataloader = DataLoader(dataset, batch_size=1, shuffle=True)\n",
        "\n"
      ],
      "metadata": {
        "id": "Mju47bmv2Yok"
      },
      "execution_count": null,
      "outputs": []
    },
    {
      "cell_type": "code",
      "source": [
        "import torch\n",
        "import psutil\n",
        "\n",
        "def log_memory_usage():\n",
        "    print(f\"Allocated GPU memory: {torch.cuda.memory_allocated() / 1e6:.2f} MB\")\n",
        "    print(f\"Reserved GPU memory: {torch.cuda.memory_reserved() / 1e6:.2f} MB\")\n",
        "    print(f\"System RAM used: {psutil.virtual_memory().used / 1e6:.2f} MB\")\n",
        "\n",
        "log_memory_usage()\n"
      ],
      "metadata": {
        "colab": {
          "base_uri": "https://localhost:8080/"
        },
        "id": "ts17P92L4Meo",
        "outputId": "146182df-9f9c-4246-ff22-93b7ce3381dd"
      },
      "execution_count": null,
      "outputs": [
        {
          "output_type": "stream",
          "name": "stdout",
          "text": [
            "Allocated GPU memory: 0.00 MB\n",
            "Reserved GPU memory: 0.00 MB\n",
            "System RAM used: 1614.82 MB\n"
          ]
        }
      ]
    },
    {
      "cell_type": "code",
      "source": [
        "num_epochs = 10  # Example: Set the number of training epochs\n"
      ],
      "metadata": {
        "id": "DUOx7ZXL4qzF"
      },
      "execution_count": null,
      "outputs": []
    },
    {
      "cell_type": "code",
      "source": [
        "import torch\n",
        "import torch.nn as nn\n",
        "\n",
        "class DenoisingModel(nn.Module):\n",
        "    def __init__(self):\n",
        "        super(DenoisingModel, self).__init__()\n",
        "        self.encoder = nn.Sequential(\n",
        "            nn.Conv2d(1, 64, kernel_size=3, stride=1, padding=1),\n",
        "            nn.ReLU(),\n",
        "            nn.MaxPool2d(2, 2)\n",
        "        )\n",
        "        self.decoder = nn.Sequential(\n",
        "            nn.ConvTranspose2d(64, 1, kernel_size=2, stride=2),\n",
        "            nn.Sigmoid()\n",
        "        )\n",
        "\n",
        "    def forward(self, x):\n",
        "        encoded = self.encoder(x)\n",
        "        decoded = self.decoder(encoded)\n",
        "        return decoded\n"
      ],
      "metadata": {
        "id": "0xRSaWZU5Hfd"
      },
      "execution_count": null,
      "outputs": []
    },
    {
      "cell_type": "code",
      "source": [
        "# Instantiate the model\n",
        "denoising_model = DenoisingModel().to(device)\n",
        "\n",
        "# Define the optimizer and loss function\n",
        "optimizer = optim.Adam(denoising_model.parameters(), lr=learning_rate)\n",
        "criterion = nn.MSELoss()\n"
      ],
      "metadata": {
        "id": "9T6A5xiH5I9p"
      },
      "execution_count": null,
      "outputs": []
    },
    {
      "cell_type": "code",
      "source": [
        "import numpy as np\n",
        "from torch.utils.data import Dataset, DataLoader\n",
        "\n",
        "class MedicalImageDataset(Dataset):\n",
        "    def __init__(self, noisy_image_path, point_cloud_path, transform=None):\n",
        "        self.noisy_images = np.load(noisy_image_path)  # Load noisy images\n",
        "        self.point_clouds = np.load(point_cloud_path)  # Load point clouds\n",
        "        self.transform = transform\n",
        "\n",
        "    def __len__(self):\n",
        "        return len(self.noisy_images)\n",
        "\n",
        "    def __getitem__(self, idx):\n",
        "        noisy_image = self.noisy_images[idx]\n",
        "        true_point_cloud = self.point_clouds[idx]\n",
        "\n",
        "        if self.transform:\n",
        "            noisy_image = self.transform(noisy_image)\n",
        "\n",
        "        return noisy_image, true_point_cloud\n",
        "\n",
        "# Define paths\n",
        "noisy_image_path = \"/content/path_to_save_noisy_image.npy\"\n",
        "point_cloud_path = \"/content/drive/MyDrive/point_cloud_paths.npy\"\n",
        "\n",
        "# Instantiate Dataset and DataLoader\n",
        "dataset = MedicalImageDataset(noisy_image_path, point_cloud_path)\n",
        "dataloader = DataLoader(dataset, batch_size=1, shuffle=True)\n",
        "\n",
        "# Verify DataLoader by printing shapes\n",
        "for noisy_image, _ in dataloader:\n",
        "    print(noisy_image.shape)\n",
        "    break\n"
      ],
      "metadata": {
        "colab": {
          "base_uri": "https://localhost:8080/"
        },
        "id": "LBmLE6b39oNt",
        "outputId": "6fd0a320-8089-4c45-df15-c27e53d8783d"
      },
      "execution_count": null,
      "outputs": [
        {
          "output_type": "stream",
          "name": "stdout",
          "text": [
            "torch.Size([1, 512, 512])\n"
          ]
        }
      ]
    },
    {
      "cell_type": "code",
      "source": [
        "for noisy_image, _ in dataloader:\n",
        "    print(noisy_image.shape)  # Check shape of input\n",
        "    break\n"
      ],
      "metadata": {
        "colab": {
          "base_uri": "https://localhost:8080/"
        },
        "id": "V7fDHRm95OOn",
        "outputId": "34f6b137-2a9c-4e59-f192-33f05af264f0"
      },
      "execution_count": null,
      "outputs": [
        {
          "output_type": "stream",
          "name": "stdout",
          "text": [
            "torch.Size([1, 512, 512])\n"
          ]
        }
      ]
    },
    {
      "cell_type": "code",
      "source": [
        "print(noisy_image.shape)\n",
        "print(denoised_image.shape)\n"
      ],
      "metadata": {
        "id": "NsO1OkmU4f5M"
      },
      "execution_count": null,
      "outputs": []
    },
    {
      "cell_type": "code",
      "source": [
        "class DenoisingModel(nn.Module):\n",
        "    def __init__(self):\n",
        "        super(DenoisingModel, self).__init__()\n",
        "        self.conv1 = nn.Conv2d(1, 16, kernel_size=3, padding=1)\n",
        "        self.conv2 = nn.Conv2d(16, 32, kernel_size=3, padding=1)\n",
        "        self.fc1 = nn.Linear(32*64*64, 100)  # Adjust based on input size\n",
        "        self.fc2 = nn.Linear(100, 1)\n",
        "    def forward(self, x):\n",
        "        x = F.relu(self.conv1(x))\n",
        "        x = F.relu(self.conv2(x))\n",
        "        x = x.view(x.size(0), -1)\n",
        "        x = F.relu(self.fc1(x))\n",
        "        x = self.fc2(x)\n",
        "        return x\n"
      ],
      "metadata": {
        "id": "uHQpD43M4g4J"
      },
      "execution_count": null,
      "outputs": []
    },
    {
      "cell_type": "code",
      "source": [
        "import torch\n",
        "from torch.utils.data import Dataset\n",
        "import numpy as np\n",
        "import os\n",
        "import numpy as np\n",
        "import torch\n",
        "from torch.utils.data import Dataset\n",
        "import numpy as np\n",
        "import torch\n",
        "import psutil\n",
        "import torch\n",
        "import torch.nn as nn\n",
        "import numpy as np\n",
        "from torch.utils.data import Dataset, DataLoader"
      ],
      "metadata": {
        "id": "n1aZ_wtcFUYI"
      },
      "execution_count": null,
      "outputs": []
    },
    {
      "cell_type": "code",
      "source": [
        "import torch\n",
        "from torch.utils.data import Dataset\n",
        "import numpy as np\n",
        "\n",
        "class MedicalImageDataset(Dataset):\n",
        "    def __init__(self, noisy_image_path, point_cloud_path, transform=None):\n",
        "        self.noisy_images = np.load(noisy_image_path)\n",
        "        self.point_clouds = np.load(point_cloud_path)\n",
        "        self.transform = transform\n",
        "\n",
        "    def __len__(self):\n",
        "        return len(self.noisy_images)\n",
        "\n",
        "    def __getitem__(self, idx):\n",
        "        noisy_image = torch.tensor(self.noisy_images[idx], dtype=torch.float32)\n",
        "        point_cloud = torch.tensor(self.point_clouds[idx], dtype=torch.float32)\n",
        "\n",
        "        # Apply any transformations if needed\n",
        "        if self.transform:\n",
        "            noisy_image = self.transform(noisy_image)\n",
        "\n",
        "        return noisy_image, point_cloud\n"
      ],
      "metadata": {
        "id": "1kF2lGHqEXjN"
      },
      "execution_count": null,
      "outputs": []
    },
    {
      "cell_type": "code",
      "source": [
        "# Example file paths, update them with your actual paths\n",
        "noisy_image_path = '/content/path_to_save_noisy_image.npy'\n",
        "point_cloud_path = '/content/drive/MyDrive/point_cloud_paths.npy'\n",
        "\n",
        "# Initialize the dataset\n",
        "dataset = MedicalImageDataset(noisy_image_path, point_cloud_path)\n",
        "\n",
        "# Create a DataLoader instance\n",
        "dataloader = DataLoader(dataset, batch_size=1, shuffle=True)\n"
      ],
      "metadata": {
        "id": "HcBgxD9ZF7Op"
      },
      "execution_count": null,
      "outputs": []
    },
    {
      "cell_type": "code",
      "source": [
        "for noisy_image, point_cloud in dataloader:\n",
        "    print(noisy_image.shape)  # Verify the shape of noisy images\n",
        "    print(point_cloud.shape)  # Verify the shape of point clouds\n",
        "    break  # Just checking the first batch\n"
      ],
      "metadata": {
        "colab": {
          "base_uri": "https://localhost:8080/"
        },
        "id": "jN_ZnWa3GAMW",
        "outputId": "fd0ff65c-ec5d-40cc-a530-d696870d4ef9"
      },
      "execution_count": null,
      "outputs": [
        {
          "output_type": "stream",
          "name": "stdout",
          "text": [
            "torch.Size([1, 512, 512])\n",
            "torch.Size([1, 3])\n"
          ]
        }
      ]
    },
    {
      "cell_type": "code",
      "source": [
        "dataloader = DataLoader(dataset, batch_size=1, shuffle=True)"
      ],
      "metadata": {
        "id": "hwObqvXMGGR6"
      },
      "execution_count": null,
      "outputs": []
    },
    {
      "cell_type": "code",
      "source": [
        "import torch\n",
        "import torch.nn as nn\n",
        "import torch.nn.functional as F\n",
        "\n",
        "class DenoisingModel(nn.Module):\n",
        "    def __init__(self):\n",
        "        super(DenoisingModel, self).__init__()\n",
        "        self.encoder = nn.Sequential(\n",
        "            nn.Conv2d(1, 64, kernel_size=3, padding=1),\n",
        "            nn.ReLU(),\n",
        "            nn.Conv2d(64, 128, kernel_size=3, padding=1),\n",
        "            nn.ReLU(),\n",
        "        )\n",
        "        self.decoder = nn.Sequential(\n",
        "            nn.ConvTranspose2d(128, 64, kernel_size=3, padding=1),\n",
        "            nn.ReLU(),\n",
        "            nn.ConvTranspose2d(64, 1, kernel_size=3, padding=1),\n",
        "            nn.Sigmoid(),  # Assuming input values are normalized between 0 and 1\n",
        "        )\n",
        "\n",
        "    def forward(self, x):\n",
        "        x = self.encoder(x)\n",
        "        x = self.decoder(x)\n",
        "        return x\n"
      ],
      "metadata": {
        "id": "SA0moqXhHdih"
      },
      "execution_count": null,
      "outputs": []
    },
    {
      "cell_type": "code",
      "source": [
        "import torch.nn.functional as F\n",
        "\n",
        "def compute_loss(prediction, target):\n",
        "    \"\"\"Compute the loss between the prediction and target.\"\"\"\n",
        "    return F.mse_loss(prediction, target)  # Mean Squared Error Loss\n"
      ],
      "metadata": {
        "id": "_eOOLZOpH7HG"
      },
      "execution_count": null,
      "outputs": []
    },
    {
      "cell_type": "code",
      "source": [
        "def compute_loss(prediction, target):\n",
        "    \"\"\"Compute loss for point cloud reconstruction.\"\"\"\n",
        "    return F.smooth_l1_loss(prediction, target)  # Smooth L1 Loss (Huber Loss)\n"
      ],
      "metadata": {
        "id": "YomRq4GpH-0x"
      },
      "execution_count": null,
      "outputs": []
    },
    {
      "cell_type": "code",
      "source": [
        "# Convert point cloud to a 2D image or voxel grid\n",
        "def preprocess_point_cloud_to_image(point_cloud, image_size=(512, 512)):\n",
        "    # Your logic to transform the point cloud into an image representation\n",
        "    return transformed_image\n"
      ],
      "metadata": {
        "id": "PmET-ig8IY56"
      },
      "execution_count": null,
      "outputs": []
    },
    {
      "cell_type": "code",
      "source": [
        "for noisy_image, point_cloud in dataloader:\n",
        "    output = model(noisy_image)  # Forward pass\n",
        "    print(f\"Output shape: {output.shape}, Target shape: {point_cloud.shape}\")\n"
      ],
      "metadata": {
        "colab": {
          "base_uri": "https://localhost:8080/"
        },
        "id": "0iRtmLRqIqyo",
        "outputId": "70b8cf8b-f8c9-432c-d4c5-79a4c98ca842"
      },
      "execution_count": null,
      "outputs": [
        {
          "output_type": "stream",
          "name": "stdout",
          "text": [
            "Output shape: torch.Size([1, 512, 512]), Target shape: torch.Size([1, 3])\n"
          ]
        }
      ]
    },
    {
      "cell_type": "code",
      "source": [
        "for batch in dataloader:\n",
        "    print(f\"Batch shapes: {[item.shape for item in batch]}\")\n",
        "    break\n"
      ],
      "metadata": {
        "colab": {
          "base_uri": "https://localhost:8080/"
        },
        "id": "o3rO53-TIu4_",
        "outputId": "ae9dd8ce-0fda-4c31-e108-6d4b0937f25f"
      },
      "execution_count": null,
      "outputs": [
        {
          "output_type": "stream",
          "name": "stdout",
          "text": [
            "Batch shapes: [torch.Size([1, 512, 512]), torch.Size([1, 3])]\n"
          ]
        }
      ]
    },
    {
      "cell_type": "code",
      "source": [
        "class DenoisingModel(nn.Module):\n",
        "    def __init__(self):\n",
        "        super(DenoisingModel, self).__init__()\n",
        "        self.encoder = nn.Sequential(\n",
        "            nn.Conv2d(1, 64, kernel_size=3, stride=2, padding=1),\n",
        "            nn.ReLU(),\n",
        "            nn.Conv2d(64, 128, kernel_size=3, stride=2, padding=1),\n",
        "            nn.ReLU()\n",
        "        )\n",
        "        self.fc = nn.Linear(128 * 128 * 128, 3)  # Adjust input size as needed\n",
        "\n",
        "    def forward(self, x):\n",
        "        x = self.encoder(x)\n",
        "        x = torch.flatten(x, start_dim=1)\n",
        "        x = self.fc(x)\n",
        "        return x\n"
      ],
      "metadata": {
        "id": "bYMajIh3JDbw"
      },
      "execution_count": null,
      "outputs": []
    },
    {
      "cell_type": "code",
      "source": [
        "def point_cloud_to_image(point_cloud, img_size=(512, 512)):\n",
        "    \"\"\"\n",
        "    Converts a 3D point cloud to a 2D depth map.\n",
        "    \"\"\"\n",
        "    image = np.zeros(img_size)\n",
        "\n",
        "    # Normalize point cloud to [0, 1] range\n",
        "    x_coords = (point_cloud[:, 0] - point_cloud[:, 0].min()) / (point_cloud[:, 0].max() - point_cloud[:, 0].min())\n",
        "    y_coords = (point_cloud[:, 1] - point_cloud[:, 1].min()) / (point_cloud[:, 1].max() - point_cloud[:, 1].min())\n",
        "\n",
        "    # Scale and populate the image\n",
        "    for x, y, z in zip(x_coords, y_coords, point_cloud[:, 2]):\n",
        "        x_idx = int(x * (img_size[0] - 1))  # Scale x to image width\n",
        "        y_idx = int(y * (img_size[1] - 1))  # Scale y to image height\n",
        "        image[x_idx, y_idx] = z  # Use depth as pixel value\n",
        "\n",
        "    return torch.tensor(image, dtype=torch.float32)\n"
      ],
      "metadata": {
        "id": "9GwSdwqoJdxQ"
      },
      "execution_count": null,
      "outputs": []
    },
    {
      "cell_type": "code",
      "source": [
        "def normalize(values):\n",
        "    min_val = values.min()\n",
        "    max_val = values.max()\n",
        "    if max_val - min_val == 0:  # Avoid division by zero\n",
        "        return torch.zeros_like(values)  # All values collapse to 0\n",
        "    return (values - min_val) / (max_val - min_val)\n"
      ],
      "metadata": {
        "id": "x_QZ-oFUKBh8"
      },
      "execution_count": null,
      "outputs": []
    },
    {
      "cell_type": "code",
      "source": [
        "def point_cloud_to_image(point_cloud, img_size=(512, 512)):\n",
        "    \"\"\"\n",
        "    Converts a 3D point cloud to a 2D depth map.\n",
        "    \"\"\"\n",
        "    image = np.zeros(img_size)\n",
        "\n",
        "    # Normalize point cloud to [0, 1] range\n",
        "    x_coords = normalize(point_cloud[:, 0])\n",
        "    y_coords = normalize(point_cloud[:, 1])\n",
        "\n",
        "    # Scale and populate the image\n",
        "    for x, y, z in zip(x_coords, y_coords, point_cloud[:, 2]):\n",
        "        x_idx = int(x * (img_size[0] - 1))  # Scale x to image width\n",
        "        y_idx = int(y * (img_size[1] - 1))  # Scale y to image height\n",
        "        image[x_idx, y_idx] = z  # Use depth as pixel value\n",
        "\n",
        "    return torch.tensor(image, dtype=torch.float32)\n"
      ],
      "metadata": {
        "id": "3UPZrx-WKFHW"
      },
      "execution_count": null,
      "outputs": []
    },
    {
      "cell_type": "code",
      "source": [
        "for noisy_image, point_cloud in dataloader:\n",
        "    print(f\"Original Point Cloud: {point_cloud[:5]}\")  # Print first 5 points\n",
        "    processed_target = point_cloud_to_image(point_cloud)\n",
        "    print(f\"Processed Target Shape: {processed_target.shape}\")\n",
        "    print(f\"Output Shape: {model(noisy_image).shape}\")\n",
        "    break\n"
      ],
      "metadata": {
        "colab": {
          "base_uri": "https://localhost:8080/"
        },
        "id": "YTdX2J5IKIT_",
        "outputId": "7fac564c-7998-42ac-caf3-7a00d11c76ca"
      },
      "execution_count": null,
      "outputs": [
        {
          "output_type": "stream",
          "name": "stdout",
          "text": [
            "Original Point Cloud: tensor([[  0., 156., 207.]])\n",
            "Processed Target Shape: torch.Size([512, 512])\n",
            "Output Shape: torch.Size([1, 512, 512])\n"
          ]
        }
      ]
    },
    {
      "cell_type": "code",
      "source": [
        "# scaler = GradScaler()  # Optional, if using mixed-precision training\n"
      ],
      "metadata": {
        "id": "wvM5zNjQILPc"
      },
      "execution_count": null,
      "outputs": []
    },
    {
      "cell_type": "code",
      "source": [
        "print(f\"Noisy Image Shape: {noisy_image.shape}\")\n"
      ],
      "metadata": {
        "colab": {
          "base_uri": "https://localhost:8080/"
        },
        "id": "yE1ybrLsLBi8",
        "outputId": "b6bdacaa-fde0-4607-df74-473e366e16f1"
      },
      "execution_count": null,
      "outputs": [
        {
          "output_type": "stream",
          "name": "stdout",
          "text": [
            "Noisy Image Shape: torch.Size([1, 512, 512])\n"
          ]
        }
      ]
    },
    {
      "cell_type": "code",
      "source": [
        "def forward(self, x):\n",
        "    print(f\"Initial Input Shape: {x.shape}\")\n",
        "    # After each layer\n",
        "    x = self.conv1(x)  # Example convolutional layer\n",
        "    print(f\"After Conv1: {x.shape}\")\n",
        "    ...\n",
        "    return x\n",
        "\n"
      ],
      "metadata": {
        "id": "48cGlKkwLgDv"
      },
      "execution_count": null,
      "outputs": []
    },
    {
      "cell_type": "code",
      "source": [
        "import torch\n",
        "import torch.nn as nn\n",
        "import torch.nn.functional as F\n",
        "\n",
        "class DenoisingModel(nn.Module):\n",
        "    def __init__(self):\n",
        "        super(DenoisingModel, self).__init__()\n",
        "        self.conv1 = nn.Conv2d(1, 16, kernel_size=3, padding=1)\n",
        "        self.conv2 = nn.Conv2d(16, 32, kernel_size=3, padding=1)\n",
        "        self.fc1 = nn.Linear(32 * 128 * 128, 1024)  # Reduced size to 128x128\n",
        "        self.fc2 = nn.Linear(1024, 3)\n",
        "\n",
        "    def forward(self, x):\n",
        "        print(f\"Initial Input Shape: {x.shape}\")\n",
        "\n",
        "        x = self.conv1(x)\n",
        "        print(f\"After Conv1: {x.shape}\")\n",
        "\n",
        "        x = F.relu(x)\n",
        "\n",
        "        x = self.conv2(x)\n",
        "        print(f\"After Conv2: {x.shape}\")\n",
        "\n",
        "        x = F.relu(x)\n",
        "\n",
        "        x = x.view(x.size(0), -1)  # Flattening\n",
        "        print(f\"After Flattening: {x.shape}\")\n",
        "\n",
        "        x = self.fc1(x)\n",
        "        print(f\"After FC1: {x.shape}\")\n",
        "\n",
        "        x = self.fc2(x)\n",
        "        print(f\"After FC2: {x.shape}\")\n",
        "\n",
        "        return x\n",
        "\n",
        "# Test with reduced size\n",
        "dummy_input = torch.randn(1, 1, 128, 128)  # Smaller input to reduce memory usage\n",
        "model = DenoisingModel()\n",
        "output = model(dummy_input)\n"
      ],
      "metadata": {
        "colab": {
          "base_uri": "https://localhost:8080/"
        },
        "id": "ho3JQSStMGki",
        "outputId": "25d8b5f0-f213-454d-cdbf-8bc1c300e1f6"
      },
      "execution_count": null,
      "outputs": [
        {
          "output_type": "stream",
          "name": "stdout",
          "text": [
            "Initial Input Shape: torch.Size([1, 1, 128, 128])\n",
            "After Conv1: torch.Size([1, 16, 128, 128])\n",
            "After Conv2: torch.Size([1, 32, 128, 128])\n",
            "After Flattening: torch.Size([1, 524288])\n",
            "After FC1: torch.Size([1, 1024])\n",
            "After FC2: torch.Size([1, 3])\n"
          ]
        }
      ]
    },
    {
      "cell_type": "markdown",
      "source": [
        "# Regularization"
      ],
      "metadata": {
        "id": "7eD3bArGbsDw"
      }
    },
    {
      "cell_type": "code",
      "source": [
        "import torch\n",
        "import torch.nn as nn\n",
        "import torch.nn.functional as F\n",
        "\n",
        "class DenoisingModel(nn.Module):\n",
        "    def __init__(self):\n",
        "        super(DenoisingModel, self).__init__()\n",
        "        self.conv1 = nn.Conv2d(1, 64, kernel_size=3, stride=1, padding=1)\n",
        "        self.dropout1 = nn.Dropout(0.5)  # 50% dropout\n",
        "        self.conv2 = nn.Conv2d(64, 128, kernel_size=3, stride=1, padding=1)\n",
        "        self.dropout2 = nn.Dropout(0.5)  # 50% dropout\n",
        "\n",
        "        # Correctly calculate the size after convolutions\n",
        "        self.fc_input_size = 128 * 128 * 128  # Flattened size after conv2\n",
        "        self.fc = nn.Linear(self.fc_input_size, 3)  # Change to 3 outputs for point cloud regression\n",
        "\n",
        "    def forward(self, x):\n",
        "        # Apply first convolutional layer\n",
        "        x = F.relu(self.conv1(x))\n",
        "        x = self.dropout1(x)  # Apply dropout\n",
        "\n",
        "        # Apply second convolutional layer\n",
        "        x = F.relu(self.conv2(x))\n",
        "        x = self.dropout2(x)  # Apply dropout\n",
        "\n",
        "        # Flatten the tensor for fully connected layers\n",
        "        x = x.view(x.size(0), -1)  # Flatten the output from Conv2\n",
        "        x = self.fc(x)  # Fully connected layer\n",
        "\n",
        "        return x\n",
        "\n",
        "# Test the model with dummy input\n",
        "dummy_input = torch.randn(1, 1, 128, 128)  # Using smaller input (128x128)\n",
        "model = DenoisingModel()\n",
        "output = model(dummy_input)\n",
        "\n",
        "print(f\"Output shape: {output.shape}\")\n"
      ],
      "metadata": {
        "colab": {
          "base_uri": "https://localhost:8080/"
        },
        "id": "anoOx1XcbwgB",
        "outputId": "dc547c68-2367-488a-88be-2085a43f834c"
      },
      "execution_count": null,
      "outputs": [
        {
          "output_type": "stream",
          "name": "stdout",
          "text": [
            "Output shape: torch.Size([1, 3])\n"
          ]
        }
      ]
    },
    {
      "cell_type": "code",
      "source": [
        "import torch\n",
        "from torch.utils.data import DataLoader\n",
        "from torch import optim\n",
        "import torch.nn.functional as F\n",
        "import numpy as np\n",
        "\n",
        "class MedicalImageDataset(torch.utils.data.Dataset):\n",
        "    def __init__(self, noisy_image_path, point_cloud_path, transform=None):\n",
        "        self.noisy_images = np.load('/content/path_to_save_noisy_image.npy')\n",
        "        self.point_clouds = np.load('/content/drive/MyDrive/point_cloud_paths.npy')\n",
        "        self.transform = transform\n",
        "\n",
        "    def __len__(self):\n",
        "        return len(self.noisy_images)\n",
        "\n",
        "    def __getitem__(self, idx):\n",
        "        noisy_image = torch.tensor(self.noisy_images[idx], dtype=torch.float32).unsqueeze(0)  # Add channel dimension\n",
        "        point_cloud = torch.tensor(self.point_clouds[idx], dtype=torch.float32)\n",
        "        return noisy_image, point_cloud\n",
        "\n",
        "# Example file paths (update with your own paths)\n",
        "noisy_image_path = 'path_to_noisy_images.npy'\n",
        "point_cloud_path = 'path_to_point_clouds.npy'\n",
        "\n",
        "# Instantiate Dataset and DataLoader\n",
        "dataset = MedicalImageDataset(noisy_image_path, point_cloud_path)\n",
        "dataloader = DataLoader(dataset, batch_size=1, shuffle=True)\n"
      ],
      "metadata": {
        "id": "vtxMtw8cOqzo"
      },
      "execution_count": null,
      "outputs": []
    },
    {
      "cell_type": "code",
      "source": [
        "# Check if data is being loaded correctly\n",
        "for noisy_image, point_cloud in dataloader:\n",
        "    print(f\"Noisy Image Shape: {noisy_image.shape}\")\n",
        "    print(f\"Point Cloud Shape: {point_cloud.shape}\")\n",
        "    break  # Just check the first batch and break\n"
      ],
      "metadata": {
        "colab": {
          "base_uri": "https://localhost:8080/"
        },
        "id": "M83TFlqAPrab",
        "outputId": "9f4746c1-eb81-4879-ad6a-16ad68149c63"
      },
      "execution_count": null,
      "outputs": [
        {
          "output_type": "stream",
          "name": "stdout",
          "text": [
            "Noisy Image Shape: torch.Size([1, 1, 512, 512])\n",
            "Point Cloud Shape: torch.Size([1, 3])\n"
          ]
        }
      ]
    },
    {
      "cell_type": "code",
      "source": [
        "# Modified model with smaller architecture to reduce memory usage\n",
        "class DenoisingModel(nn.Module):\n",
        "    def __init__(self):\n",
        "        super(DenoisingModel, self).__init__()\n",
        "\n",
        "        self.conv1 = nn.Conv2d(1, 32, kernel_size=3, stride=2, padding=1)  # Smaller channels\n",
        "        self.bn1 = nn.BatchNorm2d(32)\n",
        "\n",
        "        self.conv2 = nn.Conv2d(32, 64, kernel_size=3, stride=2, padding=1)\n",
        "        self.bn2 = nn.BatchNorm2d(64)\n",
        "\n",
        "        self.fc1 = nn.Linear(64 * 32 * 32, 512)  # Adjusted based on output dimensions\n",
        "        self.fc2 = nn.Linear(512, 3)\n",
        "\n",
        "    def forward(self, x):\n",
        "        x = F.relu(self.bn1(self.conv1(x)))\n",
        "        x = F.relu(self.bn2(self.conv2(x)))\n",
        "\n",
        "        x = x.view(x.size(0), -1)  # Flatten the output\n",
        "\n",
        "        x = F.relu(self.fc1(x))  # Fully connected layer\n",
        "        x = self.fc2(x)  # Output layer\n",
        "        return x\n"
      ],
      "metadata": {
        "id": "F5ywJ8uZUnRJ"
      },
      "execution_count": null,
      "outputs": []
    },
    {
      "cell_type": "code",
      "source": [
        "import torch\n",
        "import torch.nn as nn\n",
        "import torch.nn.functional as F\n",
        "\n",
        "class DenoisingModel(nn.Module):\n",
        "    def __init__(self):\n",
        "        super(DenoisingModel, self).__init__()\n",
        "\n",
        "        self.conv1 = nn.Conv2d(1, 32, kernel_size=3, stride=2, padding=1)  # Smaller channels\n",
        "        self.bn1 = nn.BatchNorm2d(32)\n",
        "\n",
        "        self.conv2 = nn.Conv2d(32, 64, kernel_size=3, stride=2, padding=1)\n",
        "        self.bn2 = nn.BatchNorm2d(64)\n",
        "\n",
        "        # Adjusted Linear Layer Size based on output shape\n",
        "        self.fc1 = nn.Linear(64 * 32 * 32, 512)  # Adjusted to match the flattened size after convolutions\n",
        "        self.fc2 = nn.Linear(512, 3)\n",
        "\n",
        "    def forward(self, x):\n",
        "        x = F.relu(self.bn1(self.conv1(x)))\n",
        "        x = F.relu(self.bn2(self.conv2(x)))\n",
        "\n",
        "        # Print shape after convolutions\n",
        "        print(f\"Shape after convolutions: {x.shape}\")\n",
        "\n",
        "        x = x.view(x.size(0), -1)  # Flatten the output\n",
        "\n",
        "        x = F.relu(self.fc1(x))  # Fully connected layer\n",
        "        x = self.fc2(x)  # Output layer\n",
        "        return x\n"
      ],
      "metadata": {
        "id": "P7YsMeBMVfYa"
      },
      "execution_count": null,
      "outputs": []
    },
    {
      "cell_type": "code",
      "source": [
        "import torch\n",
        "import torch.nn as nn\n",
        "import torch.nn.functional as F\n",
        "import torch.optim as optim\n",
        "from torch.utils.data import DataLoader\n",
        "import numpy as np\n",
        "from torch.cuda.amp import autocast, GradScaler\n",
        "\n",
        "# Define Dataset Class (Assuming you have NumPy arrays for noisy images and point clouds)\n",
        "class MedicalImageDataset(torch.utils.data.Dataset):\n",
        "    def __init__(self, noisy_image_path, point_cloud_path, transform=None):\n",
        "        self.noisy_images = np.load(noisy_image_path)  # Example: path to noisy image data\n",
        "        self.point_clouds = np.load(point_cloud_path)  # Example: path to point cloud data\n",
        "        self.transform = transform\n",
        "\n",
        "    def __len__(self):\n",
        "        return len(self.noisy_images)\n",
        "\n",
        "    def __getitem__(self, idx):\n",
        "        noisy_image = torch.tensor(self.noisy_images[idx], dtype=torch.float32).unsqueeze(0)  # Add channel dimension\n",
        "        point_cloud = torch.tensor(self.point_clouds[idx], dtype=torch.float32)\n",
        "        return noisy_image, point_cloud\n",
        "\n",
        "# Modified Model with Smaller Architecture to Reduce Memory Usage\n",
        "class DenoisingModel(nn.Module):\n",
        "    def __init__(self):\n",
        "        super(DenoisingModel, self).__init__()\n",
        "\n",
        "        self.conv1 = nn.Conv2d(1, 32, kernel_size=3, stride=2, padding=1)  # Smaller channels\n",
        "        self.bn1 = nn.BatchNorm2d(32)\n",
        "\n",
        "        self.conv2 = nn.Conv2d(32, 64, kernel_size=3, stride=2, padding=1)\n",
        "        self.bn2 = nn.BatchNorm2d(64)\n",
        "\n",
        "        # Updated Linear Layer based on actual output size after convolutions\n",
        "        self.fc1 = nn.Linear(64 * 128 * 128, 512)  # Adjusted to match flattened size\n",
        "        self.fc2 = nn.Linear(512, 3)\n",
        "\n",
        "    def forward(self, x):\n",
        "        x = F.relu(self.bn1(self.conv1(x)))\n",
        "        x = F.relu(self.bn2(self.conv2(x)))\n",
        "\n",
        "        # Print shape after convolutions\n",
        "        print(f\"Shape after convolutions: {x.shape}\")\n",
        "\n",
        "        x = x.view(x.size(0), -1)  # Flatten the output\n",
        "\n",
        "        x = F.relu(self.fc1(x))  # Fully connected layer\n",
        "        x = self.fc2(x)  # Output layer\n",
        "        return x\n",
        "\n",
        "\n",
        "\n",
        "# Example file paths (update with your actual paths)\n",
        "noisy_image_path = '/content/path_to_save_noisy_image.npy'\n",
        "point_cloud_path = '/content/drive/MyDrive/point_cloud_paths.npy'\n",
        "\n",
        "# Dataset and DataLoader Setup\n",
        "dataset = MedicalImageDataset(noisy_image_path, point_cloud_path)\n",
        "dataloader = DataLoader(dataset, batch_size=1, shuffle=True)\n",
        "\n",
        "# Initialize Model, Optimizer, and GradScaler\n",
        "device = torch.device(\"cuda\" if torch.cuda.is_available() else \"cpu\")\n",
        "model = DenoisingModel().to(device)\n",
        "optimizer = optim.Adam(model.parameters(), lr=1e-3)\n",
        "scaler = GradScaler()  # For mixed-precision training\n",
        "\n",
        "# Training Loop with Gradient Accumulation\n",
        "accumulation_steps = 4  # Accumulate gradients over 4 small batches\n",
        "num_epochs = 10  # Set the number of epochs\n",
        "\n",
        "# Training Loop\n",
        "for epoch in range(num_epochs):\n",
        "    model.train()\n",
        "    epoch_loss = 0\n",
        "    optimizer.zero_grad()\n",
        "\n",
        "    for i, (noisy_image, point_cloud) in enumerate(dataloader):\n",
        "        noisy_image, point_cloud = noisy_image.to(device), point_cloud.to(device)\n",
        "\n",
        "        with autocast(enabled=torch.cuda.is_available()):  # Mixed precision for GPU\n",
        "            output = model(noisy_image)\n",
        "            loss = F.mse_loss(output, point_cloud)  # Example loss (mean squared error)\n",
        "\n",
        "        # Normalize loss if using gradient accumulation\n",
        "        loss = loss / accumulation_steps\n",
        "        scaler.scale(loss).backward()  # Backward pass with scaled loss\n",
        "\n",
        "        if (i + 1) % accumulation_steps == 0:\n",
        "            scaler.step(optimizer)  # Update model weights\n",
        "            scaler.update()  # Update the GradScaler\n",
        "            optimizer.zero_grad()  # Reset gradients\n",
        "\n",
        "        epoch_loss += loss.item()\n",
        "\n",
        "        # Print the loss after every batch (or you can adjust the frequency)\n",
        "        if i % 10 == 0:\n",
        "            print(f\"Batch {i}, Loss: {loss.item()}\")\n",
        "\n",
        "    # Print the epoch loss\n",
        "    print(f\"Epoch {epoch+1}/{num_epochs}, Epoch Loss: {epoch_loss}\")\n"
      ],
      "metadata": {
        "colab": {
          "base_uri": "https://localhost:8080/"
        },
        "id": "UemOtpE6Wn3-",
        "outputId": "7de516a7-31b2-418a-9e87-ee9dabd0c462"
      },
      "execution_count": null,
      "outputs": [
        {
          "output_type": "stream",
          "name": "stderr",
          "text": [
            "<ipython-input-11-7538c24e73c1>:66: FutureWarning: `torch.cuda.amp.GradScaler(args...)` is deprecated. Please use `torch.amp.GradScaler('cuda', args...)` instead.\n",
            "  scaler = GradScaler()  # For mixed-precision training\n",
            "<ipython-input-11-7538c24e73c1>:81: FutureWarning: `torch.cuda.amp.autocast(args...)` is deprecated. Please use `torch.amp.autocast('cuda', args...)` instead.\n",
            "  with autocast(enabled=torch.cuda.is_available()):  # Mixed precision for GPU\n"
          ]
        },
        {
          "output_type": "stream",
          "name": "stdout",
          "text": [
            "Shape after convolutions: torch.Size([1, 64, 128, 128])\n",
            "Batch 0, Loss: 5592.08251953125\n",
            "Epoch 1/10, Epoch Loss: 5592.08251953125\n",
            "Shape after convolutions: torch.Size([1, 64, 128, 128])\n",
            "Batch 0, Loss: 5592.08251953125\n",
            "Epoch 2/10, Epoch Loss: 5592.08251953125\n",
            "Shape after convolutions: torch.Size([1, 64, 128, 128])\n",
            "Batch 0, Loss: 5592.08251953125\n",
            "Epoch 3/10, Epoch Loss: 5592.08251953125\n",
            "Shape after convolutions: torch.Size([1, 64, 128, 128])\n",
            "Batch 0, Loss: 5592.08251953125\n",
            "Epoch 4/10, Epoch Loss: 5592.08251953125\n",
            "Shape after convolutions: torch.Size([1, 64, 128, 128])\n",
            "Batch 0, Loss: 5592.08251953125\n",
            "Epoch 5/10, Epoch Loss: 5592.08251953125\n",
            "Shape after convolutions: torch.Size([1, 64, 128, 128])\n",
            "Batch 0, Loss: 5592.08251953125\n",
            "Epoch 6/10, Epoch Loss: 5592.08251953125\n",
            "Shape after convolutions: torch.Size([1, 64, 128, 128])\n",
            "Batch 0, Loss: 5592.08251953125\n",
            "Epoch 7/10, Epoch Loss: 5592.08251953125\n",
            "Shape after convolutions: torch.Size([1, 64, 128, 128])\n",
            "Batch 0, Loss: 5592.08251953125\n",
            "Epoch 8/10, Epoch Loss: 5592.08251953125\n",
            "Shape after convolutions: torch.Size([1, 64, 128, 128])\n",
            "Batch 0, Loss: 5592.08251953125\n",
            "Epoch 9/10, Epoch Loss: 5592.08251953125\n",
            "Shape after convolutions: torch.Size([1, 64, 128, 128])\n",
            "Batch 0, Loss: 5592.08251953125\n",
            "Epoch 10/10, Epoch Loss: 5592.08251953125\n"
          ]
        }
      ]
    },
    {
      "cell_type": "code",
      "source": [
        "# Check the shape of noisy images and point clouds\n",
        "for i, (noisy_image, point_cloud) in enumerate(dataloader):\n",
        "    print(f\"Noisy image shape: {noisy_image.shape}\")\n",
        "    print(f\"Point cloud shape: {point_cloud.shape}\")\n",
        "    break  # Just check one batch\n"
      ],
      "metadata": {
        "colab": {
          "base_uri": "https://localhost:8080/"
        },
        "id": "d8lqNtDiYiw4",
        "outputId": "cb763721-147e-4f8d-f302-63e41f606a74"
      },
      "execution_count": null,
      "outputs": [
        {
          "output_type": "stream",
          "name": "stdout",
          "text": [
            "Noisy image shape: torch.Size([1, 1, 512, 512])\n",
            "Point cloud shape: torch.Size([1, 3])\n"
          ]
        }
      ]
    },
    {
      "cell_type": "code",
      "source": [
        "with torch.no_grad():\n",
        "    output = model(noisy_image)\n",
        "    print(f\"Model output: {output}\")\n"
      ],
      "metadata": {
        "colab": {
          "base_uri": "https://localhost:8080/"
        },
        "id": "KlXr0ow_Ynq-",
        "outputId": "365dc366-8464-4009-8d18-6e5b8de32f33"
      },
      "execution_count": null,
      "outputs": [
        {
          "output_type": "stream",
          "name": "stdout",
          "text": [
            "Shape after convolutions: torch.Size([1, 64, 128, 128])\n",
            "Model output: tensor([[0.2489, 0.1768, 0.0602]])\n"
          ]
        }
      ]
    },
    {
      "cell_type": "code",
      "source": [
        "optimizer = optim.Adam(model.parameters(), lr=1e-5)\n"
      ],
      "metadata": {
        "id": "R2m_ACqBYvDI"
      },
      "execution_count": null,
      "outputs": []
    },
    {
      "cell_type": "code",
      "source": [
        "for name, param in model.named_parameters():\n",
        "    if param.grad is not None:\n",
        "        print(f\"Gradients for {name}: {param.grad}\")\n",
        "    else:\n",
        "        print(f\"No gradients for {name}\")\n"
      ],
      "metadata": {
        "colab": {
          "base_uri": "https://localhost:8080/"
        },
        "id": "wjxGaYvPYx-I",
        "outputId": "e240fc93-50cd-43ef-d4f8-d8f5e424664c"
      },
      "execution_count": null,
      "outputs": [
        {
          "output_type": "stream",
          "name": "stdout",
          "text": [
            "Gradients for conv1.weight: tensor([[[[ 3.1112e-01,  3.8363e-01,  1.6363e+00],\n",
            "          [ 4.6526e-01,  5.4882e-01,  1.0462e+00],\n",
            "          [ 2.2103e+00,  1.1693e+00, -5.8018e-02]]],\n",
            "\n",
            "\n",
            "        [[[-3.9604e+00, -4.0027e+00, -5.2309e+00],\n",
            "          [-3.0425e+00, -4.9594e+00, -4.2572e+00],\n",
            "          [-4.7310e+00, -5.8630e+00, -3.8878e+00]]],\n",
            "\n",
            "\n",
            "        [[[ 2.7274e-01,  8.6154e-02,  6.2286e-02],\n",
            "          [ 7.9191e-02, -3.8160e-03, -9.5967e-02],\n",
            "          [ 2.0644e-01, -4.8123e-02, -7.3094e-02]]],\n",
            "\n",
            "\n",
            "        [[[ 7.9776e-01, -1.8810e+00, -4.3672e+00],\n",
            "          [-2.8862e+00, -3.9348e+00, -1.5667e+00],\n",
            "          [-5.0367e+00, -2.9528e+00, -3.5726e+00]]],\n",
            "\n",
            "\n",
            "        [[[-6.9923e-02, -3.8310e-02, -1.5725e-02],\n",
            "          [-1.6698e-01, -3.3028e-02, -1.5655e-01],\n",
            "          [-1.1461e-01,  1.5301e-01,  2.5899e-01]]],\n",
            "\n",
            "\n",
            "        [[[-9.0697e-01, -1.0285e+00, -5.4756e-01],\n",
            "          [-1.4603e+00, -1.1429e+00, -1.1362e+00],\n",
            "          [-3.0341e+00, -2.8638e+00, -3.1012e+00]]],\n",
            "\n",
            "\n",
            "        [[[-2.5579e-01, -1.3221e-01,  9.7888e-01],\n",
            "          [-3.6742e-02, -4.3226e-02,  7.6275e-01],\n",
            "          [ 2.7769e-02,  2.5804e-01,  7.9047e-01]]],\n",
            "\n",
            "\n",
            "        [[[ 8.1374e+00,  8.2803e+00,  6.7382e+00],\n",
            "          [ 6.3761e+00,  1.2850e+01,  1.0186e+01],\n",
            "          [ 1.4831e+01,  1.5181e+01,  1.0924e+01]]],\n",
            "\n",
            "\n",
            "        [[[ 6.4488e+00,  4.9653e+00,  5.5930e+00],\n",
            "          [ 7.7485e+00,  6.4037e+00,  2.1816e+00],\n",
            "          [ 7.4399e+00,  4.6566e+00, -1.6952e+00]]],\n",
            "\n",
            "\n",
            "        [[[-2.7747e+00,  1.1042e+00,  4.5043e+00],\n",
            "          [-1.2578e+00,  1.0987e+00,  2.6117e+00],\n",
            "          [-1.6363e+00,  3.3380e+00,  4.1601e+00]]],\n",
            "\n",
            "\n",
            "        [[[-9.9443e+00, -1.1444e+01, -1.2839e+01],\n",
            "          [-1.2766e+01, -1.7516e+01, -1.5367e+01],\n",
            "          [-1.3213e+01, -1.7151e+01, -1.5601e+01]]],\n",
            "\n",
            "\n",
            "        [[[-1.5085e+00,  2.2292e-01,  6.6981e-01],\n",
            "          [ 2.1523e+00,  3.0634e+00,  1.9281e+00],\n",
            "          [ 1.4495e+00,  3.1245e+00,  1.6114e+00]]],\n",
            "\n",
            "\n",
            "        [[[-2.9405e-02,  7.0001e-02,  6.5258e-02],\n",
            "          [-2.0805e-02,  3.9135e-02,  1.6089e-01],\n",
            "          [-3.6385e-01, -3.1868e-02, -3.0383e-02]]],\n",
            "\n",
            "\n",
            "        [[[-3.6122e-01,  6.5126e-02, -1.2844e-01],\n",
            "          [-1.8897e-01, -3.9417e-02, -8.0285e-02],\n",
            "          [-2.1682e-01, -1.4591e-01,  9.5370e-02]]],\n",
            "\n",
            "\n",
            "        [[[-1.6278e-01, -9.6778e-01, -1.7203e+00],\n",
            "          [-4.2938e-01, -1.0902e+00, -2.6800e+00],\n",
            "          [ 6.7505e-01,  7.6275e-01,  1.6068e+00]]],\n",
            "\n",
            "\n",
            "        [[[ 9.4684e-01,  6.7307e-02,  1.1734e+00],\n",
            "          [ 1.7248e-01,  4.6321e-01,  8.1568e-01],\n",
            "          [-5.6147e-01, -9.2127e-01, -7.9842e-02]]],\n",
            "\n",
            "\n",
            "        [[[ 7.4856e-01,  7.4420e-01,  3.4678e-02],\n",
            "          [-1.6492e-03,  6.0566e-01, -1.4703e-01],\n",
            "          [ 2.6827e-01,  9.5531e-01,  2.3910e-01]]],\n",
            "\n",
            "\n",
            "        [[[-4.5433e-01, -5.8666e-01, -6.6090e-01],\n",
            "          [-1.0991e-01, -8.1289e-02, -5.0504e-01],\n",
            "          [ 9.9157e-02,  2.3386e-01, -4.0684e-01]]],\n",
            "\n",
            "\n",
            "        [[[ 1.9954e-01,  1.0350e+00,  1.2329e+00],\n",
            "          [-7.7685e-01,  2.0456e-02,  3.9174e-01],\n",
            "          [ 2.9240e-01, -1.1560e-01,  7.4222e-01]]],\n",
            "\n",
            "\n",
            "        [[[-5.9350e-01, -7.6263e-01,  3.2377e-02],\n",
            "          [-6.4860e-01,  2.3243e-01,  8.7173e-01],\n",
            "          [-6.0149e-01,  4.3723e-02,  5.6907e-01]]],\n",
            "\n",
            "\n",
            "        [[[ 6.1655e+00,  7.3166e+00,  6.8385e+00],\n",
            "          [ 4.6034e+00,  5.9003e+00,  3.5555e+00],\n",
            "          [ 3.3683e+00,  2.8639e+00,  3.3583e+00]]],\n",
            "\n",
            "\n",
            "        [[[-1.4859e+00, -2.2234e+00, -1.3700e+00],\n",
            "          [-8.8750e-01, -1.0002e+00, -1.4184e+00],\n",
            "          [-6.1624e-01,  3.5403e-01, -7.2376e-01]]],\n",
            "\n",
            "\n",
            "        [[[ 1.5580e-01,  1.7881e-01, -1.3153e-01],\n",
            "          [-1.1654e+00, -3.1343e-01, -8.5729e-02],\n",
            "          [-1.0219e+00, -8.0941e-01, -4.6803e-01]]],\n",
            "\n",
            "\n",
            "        [[[ 2.9063e+00, -5.3804e+00, -1.6367e+01],\n",
            "          [-7.0900e+00, -1.3191e+01, -1.8062e+01],\n",
            "          [-1.7481e+01, -1.9856e+01, -1.7569e+01]]],\n",
            "\n",
            "\n",
            "        [[[-1.1246e+00, -1.3333e+00, -1.4782e+00],\n",
            "          [-2.6322e+00, -2.9601e+00, -3.0940e+00],\n",
            "          [-2.9914e+00, -3.1728e+00, -4.5922e+00]]],\n",
            "\n",
            "\n",
            "        [[[ 1.5421e+00,  1.6752e+00,  1.1203e+00],\n",
            "          [ 3.7202e-01,  6.9489e-01,  5.1333e-01],\n",
            "          [-2.7908e-01,  7.9265e-02, -4.2084e-01]]],\n",
            "\n",
            "\n",
            "        [[[-4.3528e+00, -3.3398e+00, -1.3926e+00],\n",
            "          [-3.2479e+00, -4.1429e-01,  1.9932e+00],\n",
            "          [-2.2422e+00, -2.9608e-01,  2.2154e+00]]],\n",
            "\n",
            "\n",
            "        [[[ 2.1030e-01,  2.1398e-01,  1.0167e-01],\n",
            "          [ 3.6449e-02, -1.5190e-01, -2.9374e-01],\n",
            "          [-4.1301e-01, -5.3145e-01, -4.3487e-01]]],\n",
            "\n",
            "\n",
            "        [[[-3.7102e-01, -2.9003e-01, -1.6200e-01],\n",
            "          [-2.8883e-01,  3.2402e-03,  4.0115e-02],\n",
            "          [ 7.2554e-02, -1.4248e-01, -4.4508e-01]]],\n",
            "\n",
            "\n",
            "        [[[ 2.2809e-01,  2.1615e-01,  3.2708e+00],\n",
            "          [ 1.2213e+00,  9.1472e-01, -1.9646e-01],\n",
            "          [-1.0564e+00, -4.3932e+00, -4.3561e+00]]],\n",
            "\n",
            "\n",
            "        [[[-1.6215e+00,  1.5547e+00,  3.5486e+00],\n",
            "          [-1.5584e+00,  2.2173e+00,  4.2364e+00],\n",
            "          [-3.5170e-01,  5.3292e-01,  2.2366e+00]]],\n",
            "\n",
            "\n",
            "        [[[ 2.4824e+00,  1.9590e+00,  6.2114e-01],\n",
            "          [-3.1983e-01, -5.7033e-01, -3.3690e+00],\n",
            "          [-1.9033e+00,  9.5126e-01, -7.9029e-01]]]])\n",
            "Gradients for conv1.bias: tensor([-3.2720e-06,  1.4346e-06, -1.4382e-07,  6.8790e-07,  4.5764e-07,\n",
            "         3.3545e-07, -1.9230e-07, -1.6748e-06,  6.0161e-06, -3.6571e-06,\n",
            "         2.5457e-06,  1.5813e-06,  3.5815e-07, -3.3921e-07, -1.5350e-06,\n",
            "        -1.1456e-06, -8.0828e-07, -7.1891e-07, -1.2919e-06,  6.2864e-09,\n",
            "         1.2700e-06, -5.1067e-06,  1.0940e-06,  2.2119e-06, -1.1753e-06,\n",
            "         3.5284e-08,  2.8844e-06, -6.8983e-08, -3.0417e-06,  1.9474e-05,\n",
            "         4.8159e-06,  3.5693e-06])\n",
            "Gradients for bn1.weight: tensor([-2.0437,  1.4333, -0.3017, -0.3393, -0.0615, -0.3827, -0.9110,  0.7144,\n",
            "        -2.1835, -2.3715, -1.3332, -0.7847,  0.0589, -0.4187,  2.8314,  3.2528,\n",
            "         1.4368, -0.1631,  0.7344,  1.3578, -1.0981,  4.2001, -0.1991, -1.3502,\n",
            "         0.5809, -0.4073, -0.9831,  0.1897,  0.4105, -3.1921,  0.1423,  1.1810])\n",
            "Gradients for bn1.bias: tensor([-0.3784, -0.0604, -0.6383,  0.0657, -0.0750,  0.1698, -2.2146,  0.5093,\n",
            "        -0.3082, -2.2048, -0.6553, -1.3545, -0.0803, -1.5442,  0.5844,  1.0233,\n",
            "         0.1693, -0.8196,  0.3414,  1.8917, -0.8642,  2.0153, -0.6476, -0.1252,\n",
            "         1.8085, -0.9279, -0.3275,  0.7003,  1.4691,  0.4121, -1.0931,  0.8501])\n",
            "Gradients for conv2.weight: tensor([[[[-4.9527e-02, -9.8993e-01, -1.4621e-01],\n",
            "          [-6.5588e-01, -1.1783e+00, -1.1077e+00],\n",
            "          [ 4.9953e-01, -5.1070e-01, -1.5333e+00]],\n",
            "\n",
            "         [[-2.3910e+00, -2.1918e-01, -1.2598e+00],\n",
            "          [-2.4380e-01,  7.3403e-02, -8.8896e-01],\n",
            "          [-1.5941e-01, -8.1079e-02, -9.7756e-02]],\n",
            "\n",
            "         [[ 2.7545e-01, -1.2310e-01, -2.8866e-01],\n",
            "          [-1.4992e-01, -2.5806e-01, -2.4177e-01],\n",
            "          [-8.8394e-02, -1.4579e-01,  6.1451e-02]],\n",
            "\n",
            "         ...,\n",
            "\n",
            "         [[-8.3280e-01, -1.0821e+00, -5.8305e-02],\n",
            "          [-6.1581e-01, -1.9384e+00, -2.2020e+00],\n",
            "          [ 1.4895e-01, -2.1450e+00, -2.4704e+00]],\n",
            "\n",
            "         [[-1.8990e-01, -6.5840e-01, -6.8809e-01],\n",
            "          [ 1.9301e-02, -9.1165e-01, -1.3629e+00],\n",
            "          [-2.0493e-01, -6.1120e-01, -1.3687e+00]],\n",
            "\n",
            "         [[ 2.4019e-01,  9.3324e-01,  7.2215e-01],\n",
            "          [ 1.1193e+00,  6.5950e-01,  7.7593e-01],\n",
            "          [ 5.6194e-01,  1.5356e+00, -3.0800e-01]]],\n",
            "\n",
            "\n",
            "        [[[-1.9854e+00, -1.6638e+00, -3.7190e+00],\n",
            "          [-3.3630e+00, -3.6016e+00, -4.2190e+00],\n",
            "          [-1.3371e+00, -1.5011e+00, -3.1149e+00]],\n",
            "\n",
            "         [[-1.5613e-01,  1.7234e+00, -2.0712e+00],\n",
            "          [-3.6156e+00, -2.1784e+00, -2.9640e+00],\n",
            "          [-7.7349e-01, -7.4091e-01,  3.4698e-01]],\n",
            "\n",
            "         [[-6.4633e-02,  2.9344e-01,  4.8508e-01],\n",
            "          [ 1.1205e-01,  1.5396e-01,  5.8116e-01],\n",
            "          [-1.2028e-01,  3.0686e-02,  4.3359e-01]],\n",
            "\n",
            "         ...,\n",
            "\n",
            "         [[-1.5310e+00, -4.0584e+00, -5.1794e+00],\n",
            "          [-4.3740e+00, -3.6117e+00, -3.7950e+00],\n",
            "          [-1.7632e+00, -1.9766e+00, -3.7164e+00]],\n",
            "\n",
            "         [[-2.2810e+00, -2.3264e+00, -3.8663e+00],\n",
            "          [-2.3117e+00, -3.3667e+00, -3.8924e+00],\n",
            "          [-1.3329e+00, -1.8724e+00, -2.7767e+00]],\n",
            "\n",
            "         [[ 4.7315e-02, -6.1588e-01, -3.2810e+00],\n",
            "          [-4.5876e+00, -3.7733e+00, -3.1271e+00],\n",
            "          [-6.5390e-01, -9.3445e-01, -5.1951e-01]]],\n",
            "\n",
            "\n",
            "        [[[-3.0823e+00, -1.8034e+00, -1.8267e+00],\n",
            "          [-1.1160e+00, -7.9185e-01, -1.3607e+00],\n",
            "          [-4.0976e-01, -8.2522e-01, -7.0542e-01]],\n",
            "\n",
            "         [[-3.3264e+00, -2.2595e+00, -1.4034e+00],\n",
            "          [-1.8704e+00, -1.1434e+00, -1.3294e+00],\n",
            "          [-7.4127e-01,  6.1448e-01, -8.2634e-01]],\n",
            "\n",
            "         [[ 4.6674e-01,  5.1962e-01,  6.4130e-01],\n",
            "          [ 2.2419e-01,  3.8981e-01,  6.3420e-01],\n",
            "          [ 4.5707e-02,  3.3162e-01,  4.5102e-01]],\n",
            "\n",
            "         ...,\n",
            "\n",
            "         [[-1.7119e+00, -2.8950e+00, -1.7268e+00],\n",
            "          [-2.9486e-01, -1.2081e+00, -3.0077e-01],\n",
            "          [-2.7873e-01, -9.8587e-01, -1.2264e+00]],\n",
            "\n",
            "         [[-2.3239e+00, -1.8964e+00, -1.6345e+00],\n",
            "          [-8.5395e-01, -9.4121e-01, -9.2327e-01],\n",
            "          [-7.2205e-01, -6.7872e-01, -5.9839e-01]],\n",
            "\n",
            "         [[-5.4598e+00, -2.8091e+00, -2.6694e+00],\n",
            "          [-9.4462e-01, -7.8157e-01, -1.1581e+00],\n",
            "          [-4.3626e-01, -3.9941e-01, -1.8198e+00]]],\n",
            "\n",
            "\n",
            "        ...,\n",
            "\n",
            "\n",
            "        [[[ 8.5425e-02, -1.2346e-01, -4.8994e-03],\n",
            "          [-2.6010e-02, -1.4937e-02, -1.4354e-01],\n",
            "          [ 1.4306e+00,  1.0121e+00,  3.7470e-01]],\n",
            "\n",
            "         [[-4.7195e-02, -7.7933e-03, -2.5847e-01],\n",
            "          [ 4.4357e-01,  1.6042e+00, -1.3572e-01],\n",
            "          [ 5.1478e-01,  1.6662e+00,  2.0397e-01]],\n",
            "\n",
            "         [[ 6.7027e-03, -6.2396e-02, -2.2224e-02],\n",
            "          [-1.6733e-01, -9.4687e-02, -4.3765e-02],\n",
            "          [-1.1063e-01, -1.3878e-01, -1.7014e-01]],\n",
            "\n",
            "         ...,\n",
            "\n",
            "         [[-9.8062e-02, -8.9522e-02,  3.1122e-01],\n",
            "          [ 1.1070e-02, -6.4150e-01,  5.0233e-01],\n",
            "          [ 1.1370e+00,  1.8974e-01,  5.3797e-02]],\n",
            "\n",
            "         [[ 7.1116e-02, -4.9508e-02,  2.2970e-01],\n",
            "          [ 5.4020e-01,  5.9259e-01,  1.4934e-02],\n",
            "          [ 1.5213e+00,  6.5408e-01,  9.6742e-01]],\n",
            "\n",
            "         [[-2.9300e-01, -6.1602e-03, -4.5850e-01],\n",
            "          [-7.9711e-01, -7.0481e-01, -5.7877e-01],\n",
            "          [ 9.7491e-01,  8.9281e-01,  5.6577e-02]]],\n",
            "\n",
            "\n",
            "        [[[ 1.7070e+00,  2.3520e+00,  1.5135e+00],\n",
            "          [ 2.2208e+00,  2.4236e+00,  3.6731e+00],\n",
            "          [ 2.4995e+00,  1.1078e+00,  2.2934e+00]],\n",
            "\n",
            "         [[ 4.5476e+00,  1.5645e-01,  9.5681e-01],\n",
            "          [ 4.6587e+00,  1.7482e+00,  1.8837e+00],\n",
            "          [ 4.2365e+00,  2.2514e+00, -3.9407e-01]],\n",
            "\n",
            "         [[-2.6387e-01, -6.1884e-01, -4.4743e-01],\n",
            "          [-3.1970e-01, -6.9997e-01, -3.1442e-01],\n",
            "          [-3.7805e-01, -4.4650e-01, -3.7787e-01]],\n",
            "\n",
            "         ...,\n",
            "\n",
            "         [[ 1.8625e+00,  1.7160e+00,  1.8051e+00],\n",
            "          [ 1.2814e+00,  2.2015e+00,  3.3837e+00],\n",
            "          [ 2.7371e-01,  2.2083e+00,  3.0977e+00]],\n",
            "\n",
            "         [[ 2.4759e+00,  2.0392e+00,  2.1804e+00],\n",
            "          [ 2.8174e+00,  1.9399e+00,  3.1924e+00],\n",
            "          [ 3.3253e+00,  1.2345e+00,  2.1653e+00]],\n",
            "\n",
            "         [[ 2.8327e+00,  4.5789e-01,  8.3024e-01],\n",
            "          [ 3.5293e+00,  4.7976e+00,  2.1394e+00],\n",
            "          [ 2.4689e+00,  1.8790e+00,  1.1363e+00]]],\n",
            "\n",
            "\n",
            "        [[[ 1.5450e-01,  1.8858e+00,  8.1403e-01],\n",
            "          [-2.0816e-02,  2.1551e+00,  7.3394e-01],\n",
            "          [-1.2833e+00, -7.4237e-01,  4.3137e-01]],\n",
            "\n",
            "         [[-7.6458e-01, -1.5319e+00,  9.8680e-01],\n",
            "          [-4.7380e-01, -1.9079e+00,  2.3999e+00],\n",
            "          [-1.0112e-02, -1.5895e+00,  2.2401e-01]],\n",
            "\n",
            "         [[ 1.4280e-01,  1.7612e-01,  2.9910e-02],\n",
            "          [-1.9213e-02,  9.3655e-02,  1.5456e-01],\n",
            "          [ 3.8086e-01,  3.6718e-01,  1.9074e-01]],\n",
            "\n",
            "         ...,\n",
            "\n",
            "         [[-1.5504e-01,  3.2283e+00, -2.3635e+00],\n",
            "          [ 1.7557e+00,  3.4208e+00, -3.0005e+00],\n",
            "          [-2.0754e+00, -8.8124e-01, -2.8543e+00]],\n",
            "\n",
            "         [[ 2.6276e-03,  1.9209e+00,  1.4767e+00],\n",
            "          [-4.9755e-02,  1.3821e+00,  1.2142e+00],\n",
            "          [-1.9485e+00, -1.7796e+00, -9.1416e-01]],\n",
            "\n",
            "         [[-8.9297e-01, -1.8009e+00,  2.4250e+00],\n",
            "          [ 1.7680e+00,  4.7784e-01,  1.1045e+00],\n",
            "          [ 8.7911e-01,  1.0826e+00,  2.8356e-02]]]])\n",
            "Gradients for conv2.bias: tensor([ 1.2107e-06, -5.6348e-07, -8.8997e-06, -8.6017e-06, -4.3586e-07,\n",
            "        -1.9263e-05,  1.7877e-05, -1.7700e-05,  4.8326e-06,  9.2374e-05,\n",
            "         7.1075e-06, -8.2979e-05, -1.1455e-06, -1.9690e-06,  1.1045e-06,\n",
            "         8.6296e-06,  2.4924e-05, -6.2393e-05, -2.3102e-05,  1.4231e-06,\n",
            "         3.3528e-08,  2.4065e-06, -4.0792e-07, -2.3432e-06,  1.8692e-05,\n",
            "         4.6194e-06, -6.7018e-05, -3.6545e-06,  2.2082e-05,  2.4912e-05,\n",
            "        -6.5750e-05, -3.6620e-06,  2.2240e-06,  3.6366e-05, -1.4426e-06,\n",
            "         2.1154e-08, -5.1409e-07, -8.1956e-06,  2.7451e-05, -6.8685e-06,\n",
            "        -3.4664e-06,  3.9488e-06, -1.3039e-05, -9.1706e-07,  4.5579e-06,\n",
            "        -1.3095e-05, -7.5479e-05,  3.8768e-05, -5.3868e-06, -6.4950e-06,\n",
            "         2.8617e-05, -5.5558e-05, -1.6019e-07,  4.6380e-06, -2.5332e-07,\n",
            "        -1.4475e-06, -1.8440e-05, -3.3639e-06,  1.7484e-06, -3.3900e-07,\n",
            "        -1.1701e-05, -5.6876e-06,  1.3974e-05, -3.8380e-05])\n",
            "Gradients for bn2.weight: tensor([ 0.2309, -0.9667,  0.1727, -0.5768,  0.1630, -1.2713, -1.7470, -1.0869,\n",
            "         0.3568,  0.5914,  0.2778,  0.1452,  0.4000, -0.1554,  0.1905, -0.2645,\n",
            "         0.1263, -0.9125, -1.3312, -0.2577, -0.9555, -0.6756,  0.5522,  0.6787,\n",
            "        -0.6564, -0.4738,  0.0086,  0.1160,  0.5104,  0.0414,  1.3554,  0.8373,\n",
            "         2.5775, -0.2831, -0.2176, -2.7130,  0.0135,  0.2170, -0.1445,  0.1716,\n",
            "        -0.3522, -0.7848, -1.0280, -0.0066,  0.0683, -0.4520, -0.7437, -0.1248,\n",
            "        -0.2915,  0.0030,  1.7781,  2.5809,  0.5748,  0.8734, -1.6254, -0.4366,\n",
            "         0.2852, -0.2926,  0.5762,  0.5411, -0.9844,  0.1366,  0.3432, -0.7709])\n",
            "Gradients for bn2.bias: tensor([ 0.8800, -0.7844,  0.7424, -0.7890, -0.7573, -1.6369, -0.9947,  0.3808,\n",
            "         1.0972,  0.5964,  0.3818,  0.3918,  0.9697,  1.8333,  0.3805,  0.0409,\n",
            "        -0.0366,  0.1459, -0.6336, -1.7643, -1.4849,  1.4342,  1.9118,  1.2758,\n",
            "        -0.0031, -1.5635,  0.4271,  0.6573, -0.0027,  0.6589,  0.1056, -0.2192,\n",
            "         0.4373, -0.8355, -0.4225, -0.7662, -0.5869,  0.1547, -0.0600,  1.3094,\n",
            "        -1.0170, -1.4183, -0.0944,  0.1851, -0.7692, -0.5447,  0.1129,  0.0407,\n",
            "        -1.5069,  0.6469,  0.7775,  0.6769,  0.2784,  2.1021, -0.2214, -0.5136,\n",
            "         0.4535, -0.6799,  0.7586, -1.5838, -0.6615,  0.4599, -0.1983, -0.5462])\n",
            "Gradients for fc1.weight: tensor([[0., 0., 0.,  ..., 0., 0., 0.],\n",
            "        [0., 0., 0.,  ..., 0., 0., 0.],\n",
            "        [0., 0., 0.,  ..., 0., 0., 0.],\n",
            "        ...,\n",
            "        [-0., -0., -0.,  ..., -0., -0., -0.],\n",
            "        [0., 0., 0.,  ..., 0., 0., 0.],\n",
            "        [-0., -0., -0.,  ..., -0., -0., -0.]])\n",
            "Gradients for fc1.bias: tensor([ 1.3181e+00,  0.0000e+00,  0.0000e+00,  0.0000e+00, -5.1783e-01,\n",
            "         0.0000e+00,  0.0000e+00, -8.5296e-01,  8.6106e-01, -1.1525e+00,\n",
            "         9.6523e-02,  0.0000e+00,  0.0000e+00, -8.3985e-01, -1.0338e-01,\n",
            "        -7.0871e-01,  1.2548e+00,  0.0000e+00,  6.4915e-04,  7.4014e-01,\n",
            "         2.5125e+00,  9.4692e-01,  0.0000e+00,  1.3222e+00, -8.7859e-02,\n",
            "        -6.5033e-01,  0.0000e+00,  2.1669e+00, -1.8136e+00,  4.4619e-01,\n",
            "         4.5463e-01,  0.0000e+00,  0.0000e+00,  0.0000e+00, -2.3834e+00,\n",
            "        -1.8391e+00,  4.4670e-01,  0.0000e+00,  3.0428e-01,  0.0000e+00,\n",
            "         0.0000e+00,  0.0000e+00, -4.0198e-03,  1.4532e+00, -3.9176e-01,\n",
            "        -6.4112e-01,  0.0000e+00,  6.2008e-01,  0.0000e+00,  0.0000e+00,\n",
            "        -6.2474e-01,  1.3107e+00, -1.2202e+00,  0.0000e+00,  6.1894e-01,\n",
            "         0.0000e+00,  0.0000e+00,  0.0000e+00,  0.0000e+00, -1.6977e-01,\n",
            "         0.0000e+00,  0.0000e+00,  0.0000e+00,  0.0000e+00, -5.7834e-01,\n",
            "        -2.2974e-01,  0.0000e+00,  0.0000e+00,  6.7942e-01,  1.9389e+00,\n",
            "         0.0000e+00,  0.0000e+00,  6.0461e-01,  0.0000e+00,  1.7684e+00,\n",
            "         0.0000e+00,  9.9515e-01,  1.7485e-01,  0.0000e+00, -7.8103e-01,\n",
            "         0.0000e+00,  0.0000e+00,  0.0000e+00,  1.4032e+00, -2.4140e+00,\n",
            "         0.0000e+00,  5.9914e-01,  0.0000e+00,  0.0000e+00,  0.0000e+00,\n",
            "        -1.8564e+00, -2.8991e-01,  0.0000e+00, -6.0810e-01,  2.5454e-01,\n",
            "        -1.0435e+00,  0.0000e+00,  0.0000e+00,  0.0000e+00,  2.6986e-01,\n",
            "         0.0000e+00, -6.7029e-01,  0.0000e+00,  0.0000e+00,  0.0000e+00,\n",
            "        -1.4952e+00,  0.0000e+00, -1.4489e+00,  0.0000e+00,  0.0000e+00,\n",
            "        -1.1974e+00, -8.3429e-01,  0.0000e+00,  0.0000e+00,  0.0000e+00,\n",
            "         0.0000e+00,  4.6940e-01, -1.8523e+00,  9.1673e-01, -1.0199e+00,\n",
            "         0.0000e+00, -1.5581e-01,  0.0000e+00,  9.6850e-01, -5.7051e-01,\n",
            "         0.0000e+00,  1.1229e+00,  0.0000e+00,  1.3994e+00,  0.0000e+00,\n",
            "         1.5042e+00, -2.1315e+00,  0.0000e+00,  0.0000e+00, -2.0011e+00,\n",
            "         0.0000e+00,  0.0000e+00,  0.0000e+00, -2.8304e-01,  1.4708e+00,\n",
            "         0.0000e+00, -1.2648e+00,  1.2821e+00,  1.4826e+00,  3.0962e-01,\n",
            "         0.0000e+00,  9.5530e-01,  0.0000e+00,  0.0000e+00,  0.0000e+00,\n",
            "         0.0000e+00,  0.0000e+00,  0.0000e+00,  0.0000e+00,  0.0000e+00,\n",
            "         0.0000e+00,  1.4207e-01,  1.7060e-01,  1.1109e+00,  2.0377e+00,\n",
            "         0.0000e+00,  2.3784e-01,  0.0000e+00,  2.3674e-01,  0.0000e+00,\n",
            "         1.7344e+00,  1.2329e+00, -9.9536e-01,  0.0000e+00,  0.0000e+00,\n",
            "         2.7838e-01, -4.4126e-01, -4.5413e-01,  1.3015e+00,  0.0000e+00,\n",
            "         0.0000e+00,  0.0000e+00,  1.3003e+00, -4.7042e-01,  1.0687e+00,\n",
            "         0.0000e+00,  0.0000e+00,  0.0000e+00, -2.0634e+00,  0.0000e+00,\n",
            "        -5.1562e-02,  0.0000e+00,  1.7462e+00,  2.3350e-01,  1.5159e+00,\n",
            "        -5.9797e-01,  3.9917e-01, -3.4912e-01, -1.3828e+00,  1.0681e+00,\n",
            "         0.0000e+00,  0.0000e+00,  0.0000e+00,  0.0000e+00,  0.0000e+00,\n",
            "        -6.8093e-01,  2.3186e+00,  0.0000e+00, -1.4178e+00, -8.1716e-01,\n",
            "         0.0000e+00,  2.1873e+00,  9.2282e-01, -1.6279e+00,  5.8787e-01,\n",
            "         0.0000e+00,  1.3981e-01,  0.0000e+00, -5.6142e-02,  8.0446e-02,\n",
            "         1.2885e+00,  0.0000e+00,  0.0000e+00,  0.0000e+00,  0.0000e+00,\n",
            "         0.0000e+00,  8.0877e-01,  0.0000e+00,  0.0000e+00, -6.0340e-01,\n",
            "         0.0000e+00,  1.5926e-01,  6.1319e-01,  0.0000e+00,  0.0000e+00,\n",
            "        -4.2497e-01, -9.2315e-01, -8.9783e-01, -1.5693e+00,  0.0000e+00,\n",
            "        -6.0948e-01, -6.1772e-01,  0.0000e+00,  0.0000e+00,  8.0082e-01,\n",
            "         1.4358e+00,  9.4036e-02,  0.0000e+00,  9.5843e-01,  1.6919e+00,\n",
            "         5.3039e-01, -7.8796e-01, -9.3653e-01,  0.0000e+00, -1.7121e+00,\n",
            "        -8.7117e-01,  0.0000e+00,  0.0000e+00,  0.0000e+00,  8.7084e-01,\n",
            "         6.8794e-01,  1.4843e-02, -6.2014e-02, -5.6883e-01,  0.0000e+00,\n",
            "        -1.5036e+00, -1.2446e+00, -4.3382e-01,  0.0000e+00,  0.0000e+00,\n",
            "         0.0000e+00,  0.0000e+00,  0.0000e+00,  0.0000e+00,  2.5987e+00,\n",
            "        -1.2461e-01,  0.0000e+00,  0.0000e+00, -1.6158e+00,  0.0000e+00,\n",
            "         0.0000e+00,  0.0000e+00, -8.1201e-01,  1.7670e-02,  4.0873e-02,\n",
            "        -2.2904e+00, -1.3601e+00, -3.1415e-01,  5.3316e-01,  0.0000e+00,\n",
            "        -3.5724e-01,  0.0000e+00, -7.5077e-01, -1.8955e+00,  0.0000e+00,\n",
            "        -1.0258e-01,  0.0000e+00,  0.0000e+00,  1.7556e+00, -1.2015e+00,\n",
            "         0.0000e+00, -2.5514e+00, -1.2137e+00,  0.0000e+00,  0.0000e+00,\n",
            "        -1.0948e+00, -1.1934e+00,  5.6631e-01,  0.0000e+00,  0.0000e+00,\n",
            "        -6.8850e-01,  1.3624e+00,  0.0000e+00,  4.6757e-01,  0.0000e+00,\n",
            "         0.0000e+00,  0.0000e+00,  0.0000e+00,  0.0000e+00, -1.9196e-01,\n",
            "         6.2727e-01,  1.2490e+00,  0.0000e+00,  1.6483e+00,  0.0000e+00,\n",
            "         1.3820e+00,  0.0000e+00,  9.3645e-01, -2.3880e-01,  1.6371e-01,\n",
            "         0.0000e+00, -1.5139e+00,  0.0000e+00, -7.7216e-01, -7.9867e-01,\n",
            "         0.0000e+00, -1.1858e+00,  0.0000e+00,  0.0000e+00,  0.0000e+00,\n",
            "        -1.1132e+00,  0.0000e+00,  0.0000e+00,  0.0000e+00,  0.0000e+00,\n",
            "         0.0000e+00, -1.6787e+00,  0.0000e+00,  0.0000e+00, -1.4939e+00,\n",
            "        -3.2166e-02, -1.1491e+00,  0.0000e+00,  0.0000e+00,  0.0000e+00,\n",
            "         0.0000e+00, -4.1123e-01,  6.8036e-01,  0.0000e+00, -1.5031e+00,\n",
            "         6.8675e-01, -9.4145e-01,  2.2716e+00,  0.0000e+00,  0.0000e+00,\n",
            "         0.0000e+00,  0.0000e+00,  4.5826e-01,  0.0000e+00,  3.6590e-01,\n",
            "         9.6348e-01,  0.0000e+00, -6.1272e-01,  0.0000e+00, -4.0730e-02,\n",
            "        -7.3517e-01,  6.7947e-01, -6.3021e-01,  0.0000e+00,  0.0000e+00,\n",
            "         1.1015e+00,  1.1142e+00,  0.0000e+00,  0.0000e+00, -1.4566e+00,\n",
            "        -2.1006e+00,  0.0000e+00,  0.0000e+00,  0.0000e+00,  0.0000e+00,\n",
            "         4.2310e-01, -1.0768e+00,  8.9280e-01, -6.4199e-02,  1.3443e+00,\n",
            "         0.0000e+00,  6.6903e-01,  9.6190e-01,  0.0000e+00,  1.0214e-01,\n",
            "         0.0000e+00,  0.0000e+00, -1.0141e+00,  0.0000e+00, -2.6258e-01,\n",
            "         0.0000e+00,  0.0000e+00,  6.9949e-01,  0.0000e+00,  0.0000e+00,\n",
            "         1.8131e+00, -8.6525e-01,  0.0000e+00,  1.3964e+00,  9.2513e-01,\n",
            "        -1.7800e+00,  0.0000e+00, -1.2119e+00,  0.0000e+00, -3.9621e-01,\n",
            "        -7.4866e-02,  0.0000e+00, -1.4842e+00,  0.0000e+00, -2.5768e-02,\n",
            "         2.5548e-01,  0.0000e+00,  0.0000e+00,  0.0000e+00,  0.0000e+00,\n",
            "         0.0000e+00,  0.0000e+00,  0.0000e+00, -1.3640e+00,  0.0000e+00,\n",
            "        -8.2476e-01,  1.6677e+00,  0.0000e+00,  0.0000e+00, -5.0947e-02,\n",
            "         0.0000e+00,  1.9094e-01,  8.6656e-01,  0.0000e+00,  1.3117e+00,\n",
            "        -9.0023e-01, -1.4754e+00,  0.0000e+00,  0.0000e+00,  0.0000e+00,\n",
            "        -1.9133e+00,  0.0000e+00,  0.0000e+00,  1.6816e+00,  0.0000e+00,\n",
            "         0.0000e+00,  0.0000e+00,  0.0000e+00, -7.0773e-01,  0.0000e+00,\n",
            "         0.0000e+00, -4.3491e-01,  1.0700e+00,  0.0000e+00, -1.0576e+00,\n",
            "        -3.7634e-01,  2.2796e+00,  0.0000e+00,  0.0000e+00, -7.4085e-01,\n",
            "         0.0000e+00,  2.5762e-01, -1.2067e+00,  0.0000e+00,  8.3229e-01,\n",
            "         1.0323e+00, -9.6882e-01,  0.0000e+00, -6.8317e-01,  0.0000e+00,\n",
            "         0.0000e+00, -7.0595e-01,  0.0000e+00,  0.0000e+00, -3.5852e-03,\n",
            "         0.0000e+00,  1.1157e+00,  5.4392e-01, -3.2306e-01, -1.1061e+00,\n",
            "        -1.7698e+00,  1.9860e+00,  2.1384e-01,  0.0000e+00,  0.0000e+00,\n",
            "        -3.2597e-03,  0.0000e+00,  0.0000e+00,  6.5061e-01,  0.0000e+00,\n",
            "         6.3753e-02, -4.9514e-01, -1.2279e+00,  0.0000e+00, -7.9589e-01,\n",
            "         5.3403e-01,  1.0998e+00, -3.8998e-02,  0.0000e+00, -4.6610e-01,\n",
            "         0.0000e+00, -2.0953e-02,  0.0000e+00, -1.2970e+00, -1.1478e+00,\n",
            "         8.8010e-01, -1.4945e+00])\n",
            "Gradients for fc2.weight: tensor([[ 2.2729e-02,  0.0000e+00,  0.0000e+00,  ...,  1.4868e-02,\n",
            "          1.3035e-02,  2.9659e-02],\n",
            "        [-1.4232e+01, -0.0000e+00, -0.0000e+00,  ..., -9.3096e+00,\n",
            "         -8.1623e+00, -1.8571e+01],\n",
            "        [-1.8900e+01, -0.0000e+00, -0.0000e+00,  ..., -1.2364e+01,\n",
            "         -1.0840e+01, -2.4663e+01]])\n",
            "Gradients for fc2.bias: tensor([  0.0415, -25.9705, -34.4900])\n"
          ]
        }
      ]
    },
    {
      "cell_type": "code",
      "source": [
        "loss = F.mse_loss(output, point_cloud)\n"
      ],
      "metadata": {
        "id": "v5FCovWyY5c2"
      },
      "execution_count": null,
      "outputs": []
    },
    {
      "cell_type": "code",
      "source": [
        "optimizer = optim.Adam(model.parameters(), lr=1e-6)\n"
      ],
      "metadata": {
        "id": "SpsiMhJDZKxc"
      },
      "execution_count": null,
      "outputs": []
    },
    {
      "cell_type": "code",
      "source": [
        "torch.nn.utils.clip_grad_norm_(model.parameters(), max_norm=1.0)  # Clip gradients to norm 1.0\n"
      ],
      "metadata": {
        "colab": {
          "base_uri": "https://localhost:8080/"
        },
        "id": "Z_5ANdKtZKpE",
        "outputId": "d9b859b4-6f95-4c2f-ebbc-32b023e5422f"
      },
      "execution_count": null,
      "outputs": [
        {
          "output_type": "execute_result",
          "data": {
            "text/plain": [
              "tensor(11772.7188)"
            ]
          },
          "metadata": {},
          "execution_count": 18
        }
      ]
    },
    {
      "cell_type": "code",
      "source": [
        "optimizer = optim.Adam(model.parameters(), lr=1e-5)  # Start with a smaller learning rate\n"
      ],
      "metadata": {
        "id": "QoWGVVFiZQcY"
      },
      "execution_count": null,
      "outputs": []
    },
    {
      "cell_type": "code",
      "source": [
        "torch.nn.utils.clip_grad_norm_(model.parameters(), max_norm=1.0)  # Clip gradients to a max norm of 1.0\n"
      ],
      "metadata": {
        "colab": {
          "base_uri": "https://localhost:8080/"
        },
        "id": "HRY_0avuZzy6",
        "outputId": "315144ad-d991-4862-ce3a-9aacd4a626a0"
      },
      "execution_count": null,
      "outputs": [
        {
          "output_type": "execute_result",
          "data": {
            "text/plain": [
              "tensor(1.0001)"
            ]
          },
          "metadata": {},
          "execution_count": 21
        }
      ]
    },
    {
      "cell_type": "code",
      "source": [
        "print(f\"Model Output: {output}\")\n",
        "print(f\"Target (Point Cloud): {point_cloud}\")\n"
      ],
      "metadata": {
        "colab": {
          "base_uri": "https://localhost:8080/"
        },
        "id": "lSpYa2hLZ_P7",
        "outputId": "c5729130-df35-4c1d-808c-d603f1dba404"
      },
      "execution_count": null,
      "outputs": [
        {
          "output_type": "stream",
          "name": "stdout",
          "text": [
            "Model Output: tensor([[0.2489, 0.1768, 0.0602]])\n",
            "Target (Point Cloud): tensor([[  0., 156., 207.]])\n"
          ]
        }
      ]
    },
    {
      "cell_type": "code",
      "source": [
        "if torch.isnan(loss).any() or torch.isinf(loss).any():\n",
        "    print(\"NaN or Inf detected in loss!\")\n"
      ],
      "metadata": {
        "id": "MrVwKXFmaFxH"
      },
      "execution_count": null,
      "outputs": []
    },
    {
      "cell_type": "code",
      "source": [
        "# Normalize the point cloud data\n",
        "max_value = point_cloud.max()  # Use point_cloud variable instead of target\n",
        "point_cloud_normalized = point_cloud / max_value\n",
        "\n",
        "# Modify the model with a rescaling layer\n",
        "class DenoisingModel(nn.Module):\n",
        "    def __init__(self):\n",
        "        super(DenoisingModel, self).__init__()\n",
        "\n",
        "        self.conv1 = nn.Conv2d(1, 32, kernel_size=3, stride=2, padding=1)  # Smaller channels\n",
        "        self.bn1 = nn.BatchNorm2d(32)\n",
        "\n",
        "        self.conv2 = nn.Conv2d(32, 64, kernel_size=3, stride=2, padding=1)\n",
        "        self.bn2 = nn.BatchNorm2d(64)\n",
        "\n",
        "        self.fc1 = nn.Linear(64 * 128 * 128, 512)  # Adjusted based on output dimensions\n",
        "        self.fc2 = nn.Linear(512, 3)  # Final layer\n",
        "        self.rescale_layer = nn.Linear(3, 3)  # Scaling layer to match target range\n",
        "\n",
        "    def forward(self, x):\n",
        "        x = F.relu(self.bn1(self.conv1(x)))\n",
        "        x = F.relu(self.bn2(self.conv2(x)))\n",
        "\n",
        "        x = x.view(x.size(0), -1)  # Flatten the output\n",
        "\n",
        "        x = F.relu(self.fc1(x))  # Fully connected layer\n",
        "        x = self.fc2(x)  # Output layer\n",
        "        x = self.rescale_layer(x)  # Rescale output to match target range\n",
        "        return x\n",
        "\n",
        "# Optimizer with a smaller learning rate\n",
        "optimizer = optim.Adam(model.parameters(), lr=1e-5)\n"
      ],
      "metadata": {
        "id": "PEhetbdmaXzJ"
      },
      "execution_count": null,
      "outputs": []
    },
    {
      "cell_type": "code",
      "source": [
        "class DenoisingModel(nn.Module):\n",
        "    def __init__(self):\n",
        "        super(DenoisingModel, self).__init__()\n",
        "\n",
        "        self.conv1 = nn.Conv2d(1, 32, kernel_size=3, stride=2, padding=1)\n",
        "        self.bn1 = nn.BatchNorm2d(32)\n",
        "\n",
        "        self.conv2 = nn.Conv2d(32, 64, kernel_size=3, stride=2, padding=1)\n",
        "        self.bn2 = nn.BatchNorm2d(64)\n",
        "\n",
        "        self.fc1 = nn.Linear(64 * 128 * 128, 512)  # Adjust the input size for fully connected layer\n",
        "        self.fc2 = nn.Linear(512, 3)\n",
        "        self.rescale_layer = nn.Linear(3, 3)\n",
        "\n",
        "    def forward(self, x):\n",
        "        x = F.relu(self.bn1(self.conv1(x)))\n",
        "        x = F.relu(self.bn2(self.conv2(x)))\n",
        "\n",
        "        x = x.view(x.size(0), -1)  # Flatten the output\n",
        "        x = F.relu(self.fc1(x))\n",
        "        x = self.fc2(x)\n",
        "        x = self.rescale_layer(x)  # Rescale the output\n",
        "        return x\n"
      ],
      "metadata": {
        "id": "WTvPMKa8boj3"
      },
      "execution_count": null,
      "outputs": []
    },
    {
      "cell_type": "code",
      "source": [
        "model = DenoisingModel()\n",
        "print(model)\n"
      ],
      "metadata": {
        "colab": {
          "base_uri": "https://localhost:8080/"
        },
        "id": "mN0OBLK8br9V",
        "outputId": "4ec914ee-66b2-4f2c-d4ea-00b897db3886"
      },
      "execution_count": null,
      "outputs": [
        {
          "output_type": "stream",
          "name": "stdout",
          "text": [
            "DenoisingModel(\n",
            "  (conv1): Conv2d(1, 32, kernel_size=(3, 3), stride=(2, 2), padding=(1, 1))\n",
            "  (bn1): BatchNorm2d(32, eps=1e-05, momentum=0.1, affine=True, track_running_stats=True)\n",
            "  (conv2): Conv2d(32, 64, kernel_size=(3, 3), stride=(2, 2), padding=(1, 1))\n",
            "  (bn2): BatchNorm2d(64, eps=1e-05, momentum=0.1, affine=True, track_running_stats=True)\n",
            "  (fc1): Linear(in_features=1048576, out_features=512, bias=True)\n",
            "  (fc2): Linear(in_features=512, out_features=3, bias=True)\n",
            "  (rescale_layer): Linear(in_features=3, out_features=3, bias=True)\n",
            ")\n"
          ]
        }
      ]
    },
    {
      "cell_type": "code",
      "source": [
        "optimizer = optim.Adam(model.parameters(), lr=1e-5)\n"
      ],
      "metadata": {
        "id": "O6IzlrTlbvps"
      },
      "execution_count": null,
      "outputs": []
    },
    {
      "cell_type": "code",
      "source": [
        "print(f\"Noisy Image Shape: {noisy_image.shape}\")\n",
        "print(f\"Point Cloud Shape: {point_cloud.shape}\")\n"
      ],
      "metadata": {
        "colab": {
          "base_uri": "https://localhost:8080/"
        },
        "id": "MadKCBtqbyiP",
        "outputId": "e73e6a70-fec7-4b77-f690-3d9392bdb30c"
      },
      "execution_count": null,
      "outputs": [
        {
          "output_type": "stream",
          "name": "stdout",
          "text": [
            "Noisy Image Shape: torch.Size([1, 1, 512, 512])\n",
            "Point Cloud Shape: torch.Size([1, 3])\n"
          ]
        }
      ]
    },
    {
      "cell_type": "code",
      "source": [
        "import torch.nn as nn\n",
        "import torch.nn.functional as F\n",
        "\n",
        "class DenoisingModel(nn.Module):\n",
        "    def __init__(self):\n",
        "        super(DenoisingModel, self).__init__()\n",
        "\n",
        "        # Convolutional layers\n",
        "        self.conv1 = nn.Conv2d(1, 32, kernel_size=3, stride=2, padding=1)\n",
        "        self.bn1 = nn.BatchNorm2d(32)\n",
        "\n",
        "        self.conv2 = nn.Conv2d(32, 64, kernel_size=3, stride=2, padding=1)\n",
        "        self.bn2 = nn.BatchNorm2d(64)\n",
        "\n",
        "        # Add pooling layers to reduce the feature map size\n",
        "        self.pool = nn.MaxPool2d(2, 2)\n",
        "\n",
        "        # After pooling, the feature map size will be reduced\n",
        "        # For example, 64 * 128 * 128 -> 64 * 32 * 32 after pooling\n",
        "        self.fc1 = nn.Linear(64 * 32 * 32, 512)  # Adjusted fully connected layer input size\n",
        "        self.fc2 = nn.Linear(512, 3)\n",
        "        self.rescale_layer = nn.Linear(3, 3)\n",
        "\n",
        "    def forward(self, x):\n",
        "        x = F.relu(self.bn1(self.conv1(x)))\n",
        "        x = self.pool(F.relu(self.bn2(self.conv2(x))))  # Add pooling after conv2\n",
        "\n",
        "        x = x.view(x.size(0), -1)  # Flatten the output\n",
        "\n",
        "        x = F.relu(self.fc1(x))\n",
        "        x = self.fc2(x)\n",
        "        x = self.rescale_layer(x)\n",
        "\n",
        "        return x\n"
      ],
      "metadata": {
        "id": "kDtRN3cTcYCh"
      },
      "execution_count": null,
      "outputs": []
    },
    {
      "cell_type": "code",
      "source": [
        "class DenoisingModel(nn.Module):\n",
        "    def __init__(self):\n",
        "        super(DenoisingModel, self).__init__()\n",
        "\n",
        "        self.conv1 = nn.Conv2d(1, 32, kernel_size=3, stride=2, padding=1)  # Smaller channels\n",
        "        self.bn1 = nn.BatchNorm2d(32)\n",
        "\n",
        "        self.conv2 = nn.Conv2d(32, 64, kernel_size=3, stride=2, padding=1)\n",
        "        self.bn2 = nn.BatchNorm2d(64)\n",
        "\n",
        "        self.pool = nn.MaxPool2d(2, 2)  # Pooling layer to reduce size\n",
        "\n",
        "        # Calculate the correct input size for the fully connected layer after convolutions and pooling\n",
        "        self.fc1_input_size = 64 * 128 * 128  # Based on output dimensions from conv2\n",
        "        self.fc1 = nn.Linear(self.fc1_input_size, 512)  # Adjusted based on output dimensions\n",
        "        self.fc2 = nn.Linear(512, 3)\n",
        "        self.rescale_layer = nn.Linear(3, 3)\n",
        "\n",
        "    def forward(self, x):\n",
        "        x = F.relu(self.bn1(self.conv1(x)))\n",
        "        x = self.pool(F.relu(self.bn2(self.conv2(x))))  # Apply pooling\n",
        "\n",
        "        x = x.view(x.size(0), -1)  # Flatten\n",
        "        x = F.relu(self.fc1(x))\n",
        "        x = self.fc2(x)\n",
        "        x = self.rescale_layer(x)  # Rescale output\n",
        "\n",
        "        return x\n"
      ],
      "metadata": {
        "id": "fFi30bI1hEEO"
      },
      "execution_count": null,
      "outputs": []
    },
    {
      "cell_type": "code",
      "source": [
        "import torch\n",
        "import torch.nn as nn\n",
        "import torch.nn.functional as F\n",
        "\n",
        "class DenoisingModel(nn.Module):\n",
        "    def __init__(self):\n",
        "        super(DenoisingModel, self).__init__()\n",
        "\n",
        "        self.conv1 = nn.Conv2d(1, 32, kernel_size=3, stride=2, padding=1)\n",
        "        self.bn1 = nn.BatchNorm2d(32)\n",
        "\n",
        "        self.conv2 = nn.Conv2d(32, 64, kernel_size=3, stride=2, padding=1)\n",
        "        self.bn2 = nn.BatchNorm2d(64)\n",
        "\n",
        "        self.pool = nn.MaxPool2d(2, 2)\n",
        "\n",
        "        self.fc1_input_size = 64 * 128 * 128  # Update this manually or based on calculation\n",
        "        self.fc1 = nn.Linear(self.fc1_input_size, 512)\n",
        "        self.fc2 = nn.Linear(512, 3)\n",
        "        self.rescale_layer = nn.Linear(3, 3)\n",
        "\n",
        "    def forward(self, x):\n",
        "        x = F.relu(self.bn1(self.conv1(x)))\n",
        "        x = self.pool(F.relu(self.bn2(self.conv2(x))))\n",
        "\n",
        "        x = x.view(x.size(0), -1)  # Flatten\n",
        "        x = F.relu(self.fc1(x))\n",
        "        x = self.fc2(x)\n",
        "        x = self.rescale_layer(x)\n",
        "        return x\n",
        "\n",
        "\n",
        "# Now, let's check the output size of the convolutional layers with a dummy input\n",
        "model = DenoisingModel()\n",
        "dummy_input = torch.randn(1, 1, 512, 512)  # Same shape as noisy_image\n",
        "x = F.relu(model.bn1(model.conv1(dummy_input)))\n",
        "x = F.relu(model.bn2(model.conv2(x)))\n",
        "x = model.pool(x)\n",
        "\n",
        "print(x.shape)  # This will show the correct output shape after convolutions and pooling\n",
        "\n"
      ],
      "metadata": {
        "colab": {
          "base_uri": "https://localhost:8080/"
        },
        "id": "WIOdbCHyhJgj",
        "outputId": "6a2f4a27-c4fb-4189-e49e-dafcdde4cdae"
      },
      "execution_count": null,
      "outputs": [
        {
          "output_type": "stream",
          "name": "stdout",
          "text": [
            "torch.Size([1, 64, 64, 64])\n"
          ]
        }
      ]
    },
    {
      "cell_type": "code",
      "source": [
        "import torch\n",
        "import torch.nn as nn\n",
        "import torch.nn.functional as F\n",
        "\n",
        "class DenoisingModel(nn.Module):\n",
        "    def __init__(self):\n",
        "        super(DenoisingModel, self).__init__()\n",
        "\n",
        "        self.conv1 = nn.Conv2d(1, 32, kernel_size=3, stride=2, padding=1)\n",
        "        self.bn1 = nn.BatchNorm2d(32)\n",
        "\n",
        "        self.conv2 = nn.Conv2d(32, 64, kernel_size=3, stride=2, padding=1)\n",
        "        self.bn2 = nn.BatchNorm2d(64)\n",
        "\n",
        "        self.pool = nn.MaxPool2d(2, 2)\n",
        "\n",
        "        self.fc1_input_size = 64 * 64 * 64  # Corrected based on output shape\n",
        "        self.fc1 = nn.Linear(self.fc1_input_size, 512)\n",
        "        self.fc2 = nn.Linear(512, 3)\n",
        "        self.rescale_layer = nn.Linear(3, 3)\n",
        "\n",
        "    def forward(self, x):\n",
        "        x = F.relu(self.bn1(self.conv1(x)))\n",
        "        x = self.pool(F.relu(self.bn2(self.conv2(x))))\n",
        "\n",
        "        x = x.view(x.size(0), -1)  # Flatten\n",
        "        x = F.relu(self.fc1(x))\n",
        "        x = self.fc2(x)\n",
        "        x = self.rescale_layer(x)\n",
        "        return x\n"
      ],
      "metadata": {
        "id": "eGeIg0BairLf"
      },
      "execution_count": null,
      "outputs": []
    },
    {
      "cell_type": "code",
      "source": [
        "model = DenoisingModel()\n"
      ],
      "metadata": {
        "id": "miKp1CT-i6XX"
      },
      "execution_count": null,
      "outputs": []
    },
    {
      "cell_type": "code",
      "source": [
        "import torch.optim as optim\n",
        "\n",
        "optimizer = optim.Adam(model.parameters(), lr=1e-5)  # Smaller learning rate\n"
      ],
      "metadata": {
        "id": "vW_gg9CDi_M5"
      },
      "execution_count": null,
      "outputs": []
    },
    {
      "cell_type": "code",
      "source": [
        "num_epochs = 10  # Number of epochs for training\n",
        "\n",
        "for epoch in range(num_epochs):\n",
        "    model.train()\n",
        "    optimizer.zero_grad()  # Zero the gradients for each new batch\n",
        "\n",
        "    # Forward pass\n",
        "    output = model(noisy_image)\n",
        "\n",
        "    # Compute the loss (MSE)\n",
        "    loss = F.mse_loss(output, point_cloud_normalized)\n",
        "\n",
        "    # Backpropagation\n",
        "    loss.backward()\n",
        "    optimizer.step()\n",
        "\n",
        "    # Print loss for each epoch\n",
        "    print(f\"Epoch {epoch+1}/{num_epochs}, Loss: {loss.item()}\")\n"
      ],
      "metadata": {
        "colab": {
          "base_uri": "https://localhost:8080/"
        },
        "id": "GCAFX7c8jB3P",
        "outputId": "0cafb609-aee8-4dcd-94ae-166c258e88c3"
      },
      "execution_count": null,
      "outputs": [
        {
          "output_type": "stream",
          "name": "stdout",
          "text": [
            "Epoch 1/10, Loss: 0.4514639377593994\n",
            "Epoch 2/10, Loss: 10.385076522827148\n",
            "Epoch 3/10, Loss: 1.6977657079696655\n",
            "Epoch 4/10, Loss: 0.3185940980911255\n",
            "Epoch 5/10, Loss: 0.4816630184650421\n",
            "Epoch 6/10, Loss: 0.48128488659858704\n",
            "Epoch 7/10, Loss: 0.47844207286834717\n",
            "Epoch 8/10, Loss: 0.4737444818019867\n",
            "Epoch 9/10, Loss: 0.46776238083839417\n",
            "Epoch 10/10, Loss: 0.46098700165748596\n"
          ]
        }
      ]
    },
    {
      "cell_type": "code",
      "source": [
        "# For testing, you can either use a noisy image or create a new one\n",
        "test_image = torch.randn(1, 1, 512, 512)  # Example random test image, same shape as noisy_image\n"
      ],
      "metadata": {
        "id": "-BTtnv-Zj3uE"
      },
      "execution_count": null,
      "outputs": []
    },
    {
      "cell_type": "code",
      "source": [
        "model.eval()  # Set the model to evaluation mode\n",
        "\n",
        "with torch.no_grad():\n",
        "    test_output = model(test_image)\n",
        "    print(test_output)\n"
      ],
      "metadata": {
        "colab": {
          "base_uri": "https://localhost:8080/"
        },
        "id": "1Vj6bjsMjFcu",
        "outputId": "e40d2e65-367a-445c-ebaa-01b2dc3abef4"
      },
      "execution_count": null,
      "outputs": [
        {
          "output_type": "stream",
          "name": "stdout",
          "text": [
            "tensor([[0.1142, 0.0934, 0.0711]])\n"
          ]
        }
      ]
    },
    {
      "cell_type": "code",
      "source": [
        "# Assuming `target_point_cloud` is the actual point cloud data\n",
        "target_point_cloud = torch.tensor([[0.1, 0.09, 0.07]])  # Replace with your actual point cloud\n",
        "mse_loss = F.mse_loss(test_output, target_point_cloud)\n",
        "print(f'Mean Squared Error: {mse_loss.item()}')\n"
      ],
      "metadata": {
        "colab": {
          "base_uri": "https://localhost:8080/"
        },
        "id": "AeCZudHkkr_g",
        "outputId": "ed83c50d-a1a6-4b56-e0c2-0acde502d733"
      },
      "execution_count": null,
      "outputs": [
        {
          "output_type": "stream",
          "name": "stdout",
          "text": [
            "Mean Squared Error: 7.163427653722465e-05\n"
          ]
        }
      ]
    },
    {
      "cell_type": "code",
      "source": [
        "torch.save(model.state_dict(), 'denoising_model.pth')\n"
      ],
      "metadata": {
        "id": "YWpn0yc6jHyU"
      },
      "execution_count": null,
      "outputs": []
    },
    {
      "cell_type": "code",
      "source": [
        "model = DenoisingModel()\n",
        "model.load_state_dict(torch.load('denoising_model.pth'))\n",
        "model.eval()  # Set the model to evaluation mode\n"
      ],
      "metadata": {
        "colab": {
          "base_uri": "https://localhost:8080/"
        },
        "id": "sYD8uOtelEdJ",
        "outputId": "fe29af70-c9ac-4a65-f925-44842c4e4d82"
      },
      "execution_count": null,
      "outputs": [
        {
          "output_type": "stream",
          "name": "stderr",
          "text": [
            "<ipython-input-21-7e9b6616b15d>:2: FutureWarning: You are using `torch.load` with `weights_only=False` (the current default value), which uses the default pickle module implicitly. It is possible to construct malicious pickle data which will execute arbitrary code during unpickling (See https://github.com/pytorch/pytorch/blob/main/SECURITY.md#untrusted-models for more details). In a future release, the default value for `weights_only` will be flipped to `True`. This limits the functions that could be executed during unpickling. Arbitrary objects will no longer be allowed to be loaded via this mode unless they are explicitly allowlisted by the user via `torch.serialization.add_safe_globals`. We recommend you start setting `weights_only=True` for any use case where you don't have full control of the loaded file. Please open an issue on GitHub for any issues related to this experimental feature.\n",
            "  model.load_state_dict(torch.load('denoising_model.pth'))\n"
          ]
        },
        {
          "output_type": "execute_result",
          "data": {
            "text/plain": [
              "DenoisingModel(\n",
              "  (conv1): Conv2d(1, 32, kernel_size=(3, 3), stride=(2, 2), padding=(1, 1))\n",
              "  (bn1): BatchNorm2d(32, eps=1e-05, momentum=0.1, affine=True, track_running_stats=True)\n",
              "  (conv2): Conv2d(32, 64, kernel_size=(3, 3), stride=(2, 2), padding=(1, 1))\n",
              "  (bn2): BatchNorm2d(64, eps=1e-05, momentum=0.1, affine=True, track_running_stats=True)\n",
              "  (pool): MaxPool2d(kernel_size=2, stride=2, padding=0, dilation=1, ceil_mode=False)\n",
              "  (fc1): Linear(in_features=262144, out_features=512, bias=True)\n",
              "  (fc2): Linear(in_features=512, out_features=3, bias=True)\n",
              "  (rescale_layer): Linear(in_features=3, out_features=3, bias=True)\n",
              ")"
            ]
          },
          "metadata": {},
          "execution_count": 21
        }
      ]
    }
  ]
}